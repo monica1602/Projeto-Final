{
 "cells": [
  {
   "cell_type": "markdown",
   "metadata": {},
   "source": [
    "# Projeto de Teste SQL"
   ]
  },
  {
   "cell_type": "markdown",
   "metadata": {},
   "source": [
    "O principal objetivo do estudo é entender o mercado atual de livros. Com a mudança na rotina da população, devido ao coronavírus, muitas pessoas passaram a ficar em casa lendo livros, em vez de fora de casa. O que criou uma nova oportunidade de negócio. Para avaliar esse novo mercado foi analisado um banco de dados de um dos serviços concorrentes nesse mercado. Ele contém dados sobre livros, editoras, autores e classificação de clientes e avaliação de livros. Com essas informações será possível gerar um proposição válida para um novo produto."
   ]
  },
  {
   "cell_type": "markdown",
   "metadata": {},
   "source": [
    "# Estudando as tarefas"
   ]
  },
  {
   "cell_type": "code",
   "execution_count": 1,
   "metadata": {},
   "outputs": [],
   "source": [
    "# importando bibliotecas\n",
    "import pandas as pd\n",
    "from matplotlib import pyplot as plt\n",
    "import numpy as np\n",
    "import seaborn as sns\n",
    "from math import factorial\n",
    "from scipy import stats as st\n",
    "import math as mt\n",
    "import plotly.express as px\n",
    "from datetime import datetime\n",
    "import requests\n",
    "from bs4 import BeautifulSoup\n",
    "import re\n",
    "from sqlalchemy import create_engine"
   ]
  },
  {
   "cell_type": "code",
   "execution_count": 2,
   "metadata": {},
   "outputs": [],
   "source": [
    "db_config = {'user': 'practicum_student', # nome de usuário\n",
    "'pwd': 's65BlTKV3faNIGhmvJVzOqhs', # senha\n",
    "'host': 'rc1b-wcoijxj3yxfsf3fs.mdb.yandexcloud.net',\n",
    "'port': 6432, # porta de conexão\n",
    "'db': 'data-analyst-final-project-db'} # o nome do banco de dados\n",
    "connection_string = 'postgresql://{}:{}@{}:{}/{}'.format(db_config['user'],\n",
    "db_config['pwd'],\n",
    "db_config['host'],\n",
    "db_config['port'],\n",
    "db_config['db'])\n",
    "engine = create_engine(connection_string, connect_args={'sslmode':'require'})"
   ]
  },
  {
   "cell_type": "code",
   "execution_count": 3,
   "metadata": {},
   "outputs": [],
   "source": [
    "query = 'SELECT * FROM books;'\n",
    "book = pd.io.sql.read_sql(query, con = engine)"
   ]
  },
  {
   "cell_type": "code",
   "execution_count": 4,
   "metadata": {
    "scrolled": true
   },
   "outputs": [
    {
     "name": "stdout",
     "output_type": "stream",
     "text": [
      "<class 'pandas.core.frame.DataFrame'>\n",
      "RangeIndex: 1000 entries, 0 to 999\n",
      "Data columns (total 6 columns):\n",
      " #   Column            Non-Null Count  Dtype \n",
      "---  ------            --------------  ----- \n",
      " 0   book_id           1000 non-null   int64 \n",
      " 1   author_id         1000 non-null   int64 \n",
      " 2   title             1000 non-null   object\n",
      " 3   num_pages         1000 non-null   int64 \n",
      " 4   publication_date  1000 non-null   object\n",
      " 5   publisher_id      1000 non-null   int64 \n",
      "dtypes: int64(4), object(2)\n",
      "memory usage: 47.0+ KB\n"
     ]
    }
   ],
   "source": [
    "book.info()"
   ]
  },
  {
   "cell_type": "code",
   "execution_count": 5,
   "metadata": {},
   "outputs": [
    {
     "data": {
      "text/html": [
       "<div>\n",
       "<style scoped>\n",
       "    .dataframe tbody tr th:only-of-type {\n",
       "        vertical-align: middle;\n",
       "    }\n",
       "\n",
       "    .dataframe tbody tr th {\n",
       "        vertical-align: top;\n",
       "    }\n",
       "\n",
       "    .dataframe thead th {\n",
       "        text-align: right;\n",
       "    }\n",
       "</style>\n",
       "<table border=\"1\" class=\"dataframe\">\n",
       "  <thead>\n",
       "    <tr style=\"text-align: right;\">\n",
       "      <th></th>\n",
       "      <th>book_id</th>\n",
       "      <th>author_id</th>\n",
       "      <th>title</th>\n",
       "      <th>num_pages</th>\n",
       "      <th>publication_date</th>\n",
       "      <th>publisher_id</th>\n",
       "    </tr>\n",
       "  </thead>\n",
       "  <tbody>\n",
       "    <tr>\n",
       "      <th>0</th>\n",
       "      <td>1</td>\n",
       "      <td>546</td>\n",
       "      <td>'Salem's Lot</td>\n",
       "      <td>594</td>\n",
       "      <td>2005-11-01</td>\n",
       "      <td>93</td>\n",
       "    </tr>\n",
       "    <tr>\n",
       "      <th>1</th>\n",
       "      <td>2</td>\n",
       "      <td>465</td>\n",
       "      <td>1 000 Places to See Before You Die</td>\n",
       "      <td>992</td>\n",
       "      <td>2003-05-22</td>\n",
       "      <td>336</td>\n",
       "    </tr>\n",
       "    <tr>\n",
       "      <th>2</th>\n",
       "      <td>3</td>\n",
       "      <td>407</td>\n",
       "      <td>13 Little Blue Envelopes (Little Blue Envelope...</td>\n",
       "      <td>322</td>\n",
       "      <td>2010-12-21</td>\n",
       "      <td>135</td>\n",
       "    </tr>\n",
       "    <tr>\n",
       "      <th>3</th>\n",
       "      <td>4</td>\n",
       "      <td>82</td>\n",
       "      <td>1491: New Revelations of the Americas Before C...</td>\n",
       "      <td>541</td>\n",
       "      <td>2006-10-10</td>\n",
       "      <td>309</td>\n",
       "    </tr>\n",
       "    <tr>\n",
       "      <th>4</th>\n",
       "      <td>5</td>\n",
       "      <td>125</td>\n",
       "      <td>1776</td>\n",
       "      <td>386</td>\n",
       "      <td>2006-07-04</td>\n",
       "      <td>268</td>\n",
       "    </tr>\n",
       "    <tr>\n",
       "      <th>5</th>\n",
       "      <td>6</td>\n",
       "      <td>257</td>\n",
       "      <td>1st to Die (Women's Murder Club  #1)</td>\n",
       "      <td>424</td>\n",
       "      <td>2005-05-20</td>\n",
       "      <td>116</td>\n",
       "    </tr>\n",
       "    <tr>\n",
       "      <th>6</th>\n",
       "      <td>7</td>\n",
       "      <td>258</td>\n",
       "      <td>2nd Chance (Women's Murder Club  #2)</td>\n",
       "      <td>400</td>\n",
       "      <td>2005-05-20</td>\n",
       "      <td>116</td>\n",
       "    </tr>\n",
       "    <tr>\n",
       "      <th>7</th>\n",
       "      <td>8</td>\n",
       "      <td>260</td>\n",
       "      <td>4th of July (Women's Murder Club  #4)</td>\n",
       "      <td>448</td>\n",
       "      <td>2006-06-01</td>\n",
       "      <td>318</td>\n",
       "    </tr>\n",
       "    <tr>\n",
       "      <th>8</th>\n",
       "      <td>9</td>\n",
       "      <td>563</td>\n",
       "      <td>A Beautiful Mind</td>\n",
       "      <td>461</td>\n",
       "      <td>2002-02-04</td>\n",
       "      <td>104</td>\n",
       "    </tr>\n",
       "    <tr>\n",
       "      <th>9</th>\n",
       "      <td>10</td>\n",
       "      <td>445</td>\n",
       "      <td>A Bend in the Road</td>\n",
       "      <td>341</td>\n",
       "      <td>2005-04-01</td>\n",
       "      <td>116</td>\n",
       "    </tr>\n",
       "  </tbody>\n",
       "</table>\n",
       "</div>"
      ],
      "text/plain": [
       "   book_id  author_id                                              title  \\\n",
       "0        1        546                                       'Salem's Lot   \n",
       "1        2        465                 1 000 Places to See Before You Die   \n",
       "2        3        407  13 Little Blue Envelopes (Little Blue Envelope...   \n",
       "3        4         82  1491: New Revelations of the Americas Before C...   \n",
       "4        5        125                                               1776   \n",
       "5        6        257               1st to Die (Women's Murder Club  #1)   \n",
       "6        7        258               2nd Chance (Women's Murder Club  #2)   \n",
       "7        8        260              4th of July (Women's Murder Club  #4)   \n",
       "8        9        563                                   A Beautiful Mind   \n",
       "9       10        445                                 A Bend in the Road   \n",
       "\n",
       "   num_pages publication_date  publisher_id  \n",
       "0        594       2005-11-01            93  \n",
       "1        992       2003-05-22           336  \n",
       "2        322       2010-12-21           135  \n",
       "3        541       2006-10-10           309  \n",
       "4        386       2006-07-04           268  \n",
       "5        424       2005-05-20           116  \n",
       "6        400       2005-05-20           116  \n",
       "7        448       2006-06-01           318  \n",
       "8        461       2002-02-04           104  \n",
       "9        341       2005-04-01           116  "
      ]
     },
     "execution_count": 5,
     "metadata": {},
     "output_type": "execute_result"
    }
   ],
   "source": [
    "book.head(10)"
   ]
  },
  {
   "cell_type": "code",
   "execution_count": 6,
   "metadata": {
    "scrolled": true
   },
   "outputs": [
    {
     "name": "stdout",
     "output_type": "stream",
     "text": [
      "Empty DataFrame\n",
      "Columns: [book_id, author_id, title, num_pages, publication_date, publisher_id]\n",
      "Index: []\n"
     ]
    }
   ],
   "source": [
    "book_duplicated = book[book.duplicated()]\n",
    "print(book_duplicated)"
   ]
  },
  {
   "cell_type": "markdown",
   "metadata": {},
   "source": [
    "- a data de publicação foi convertida em datetime\n",
    "- as demais colunas estão com o tipo certo\n",
    "- não existem valores ausentes\n",
    "- não existem valores duplicados"
   ]
  },
  {
   "cell_type": "code",
   "execution_count": 7,
   "metadata": {},
   "outputs": [],
   "source": [
    "query2 = 'SELECT * FROM authors;'\n",
    "author = pd.io.sql.read_sql(query2, con = engine)"
   ]
  },
  {
   "cell_type": "code",
   "execution_count": 8,
   "metadata": {},
   "outputs": [
    {
     "name": "stdout",
     "output_type": "stream",
     "text": [
      "<class 'pandas.core.frame.DataFrame'>\n",
      "RangeIndex: 636 entries, 0 to 635\n",
      "Data columns (total 2 columns):\n",
      " #   Column     Non-Null Count  Dtype \n",
      "---  ------     --------------  ----- \n",
      " 0   author_id  636 non-null    int64 \n",
      " 1   author     636 non-null    object\n",
      "dtypes: int64(1), object(1)\n",
      "memory usage: 10.1+ KB\n"
     ]
    }
   ],
   "source": [
    "author.info()"
   ]
  },
  {
   "cell_type": "code",
   "execution_count": 9,
   "metadata": {},
   "outputs": [
    {
     "data": {
      "text/html": [
       "<div>\n",
       "<style scoped>\n",
       "    .dataframe tbody tr th:only-of-type {\n",
       "        vertical-align: middle;\n",
       "    }\n",
       "\n",
       "    .dataframe tbody tr th {\n",
       "        vertical-align: top;\n",
       "    }\n",
       "\n",
       "    .dataframe thead th {\n",
       "        text-align: right;\n",
       "    }\n",
       "</style>\n",
       "<table border=\"1\" class=\"dataframe\">\n",
       "  <thead>\n",
       "    <tr style=\"text-align: right;\">\n",
       "      <th></th>\n",
       "      <th>author_id</th>\n",
       "      <th>author</th>\n",
       "    </tr>\n",
       "  </thead>\n",
       "  <tbody>\n",
       "    <tr>\n",
       "      <th>0</th>\n",
       "      <td>1</td>\n",
       "      <td>A.S. Byatt</td>\n",
       "    </tr>\n",
       "    <tr>\n",
       "      <th>1</th>\n",
       "      <td>2</td>\n",
       "      <td>Aesop/Laura Harris/Laura Gibbs</td>\n",
       "    </tr>\n",
       "    <tr>\n",
       "      <th>2</th>\n",
       "      <td>3</td>\n",
       "      <td>Agatha Christie</td>\n",
       "    </tr>\n",
       "    <tr>\n",
       "      <th>3</th>\n",
       "      <td>4</td>\n",
       "      <td>Alan Brennert</td>\n",
       "    </tr>\n",
       "    <tr>\n",
       "      <th>4</th>\n",
       "      <td>5</td>\n",
       "      <td>Alan Moore/David   Lloyd</td>\n",
       "    </tr>\n",
       "    <tr>\n",
       "      <th>5</th>\n",
       "      <td>6</td>\n",
       "      <td>Alan Paton</td>\n",
       "    </tr>\n",
       "    <tr>\n",
       "      <th>6</th>\n",
       "      <td>7</td>\n",
       "      <td>Albert Camus/Justin O'Brien</td>\n",
       "    </tr>\n",
       "    <tr>\n",
       "      <th>7</th>\n",
       "      <td>8</td>\n",
       "      <td>Aldous Huxley</td>\n",
       "    </tr>\n",
       "    <tr>\n",
       "      <th>8</th>\n",
       "      <td>9</td>\n",
       "      <td>Aldous Huxley/Christopher Hitchens</td>\n",
       "    </tr>\n",
       "    <tr>\n",
       "      <th>9</th>\n",
       "      <td>10</td>\n",
       "      <td>Aleksandr Solzhenitsyn/H.T. Willetts</td>\n",
       "    </tr>\n",
       "  </tbody>\n",
       "</table>\n",
       "</div>"
      ],
      "text/plain": [
       "   author_id                                author\n",
       "0          1                            A.S. Byatt\n",
       "1          2        Aesop/Laura Harris/Laura Gibbs\n",
       "2          3                       Agatha Christie\n",
       "3          4                         Alan Brennert\n",
       "4          5              Alan Moore/David   Lloyd\n",
       "5          6                            Alan Paton\n",
       "6          7           Albert Camus/Justin O'Brien\n",
       "7          8                         Aldous Huxley\n",
       "8          9    Aldous Huxley/Christopher Hitchens\n",
       "9         10  Aleksandr Solzhenitsyn/H.T. Willetts"
      ]
     },
     "execution_count": 9,
     "metadata": {},
     "output_type": "execute_result"
    }
   ],
   "source": [
    "author.head(10)"
   ]
  },
  {
   "cell_type": "code",
   "execution_count": 10,
   "metadata": {},
   "outputs": [
    {
     "name": "stdout",
     "output_type": "stream",
     "text": [
      "Empty DataFrame\n",
      "Columns: [author_id, author]\n",
      "Index: []\n"
     ]
    }
   ],
   "source": [
    "author_duplicated = author[author.duplicated()]\n",
    "print(author_duplicated)"
   ]
  },
  {
   "cell_type": "markdown",
   "metadata": {},
   "source": [
    "- os dados estão com o tipo correto\n",
    "- não existem valores ausentes\n",
    "- não existem valores duplicados"
   ]
  },
  {
   "cell_type": "code",
   "execution_count": 11,
   "metadata": {},
   "outputs": [],
   "source": [
    "query3 = 'SELECT * FROM publishers;'\n",
    "publisher = pd.io.sql.read_sql(query3, con = engine)"
   ]
  },
  {
   "cell_type": "code",
   "execution_count": 12,
   "metadata": {},
   "outputs": [
    {
     "name": "stdout",
     "output_type": "stream",
     "text": [
      "<class 'pandas.core.frame.DataFrame'>\n",
      "RangeIndex: 340 entries, 0 to 339\n",
      "Data columns (total 2 columns):\n",
      " #   Column        Non-Null Count  Dtype \n",
      "---  ------        --------------  ----- \n",
      " 0   publisher_id  340 non-null    int64 \n",
      " 1   publisher     340 non-null    object\n",
      "dtypes: int64(1), object(1)\n",
      "memory usage: 5.4+ KB\n"
     ]
    }
   ],
   "source": [
    "publisher.info()"
   ]
  },
  {
   "cell_type": "code",
   "execution_count": 13,
   "metadata": {},
   "outputs": [
    {
     "data": {
      "text/html": [
       "<div>\n",
       "<style scoped>\n",
       "    .dataframe tbody tr th:only-of-type {\n",
       "        vertical-align: middle;\n",
       "    }\n",
       "\n",
       "    .dataframe tbody tr th {\n",
       "        vertical-align: top;\n",
       "    }\n",
       "\n",
       "    .dataframe thead th {\n",
       "        text-align: right;\n",
       "    }\n",
       "</style>\n",
       "<table border=\"1\" class=\"dataframe\">\n",
       "  <thead>\n",
       "    <tr style=\"text-align: right;\">\n",
       "      <th></th>\n",
       "      <th>publisher_id</th>\n",
       "      <th>publisher</th>\n",
       "    </tr>\n",
       "  </thead>\n",
       "  <tbody>\n",
       "    <tr>\n",
       "      <th>0</th>\n",
       "      <td>1</td>\n",
       "      <td>Ace</td>\n",
       "    </tr>\n",
       "    <tr>\n",
       "      <th>1</th>\n",
       "      <td>2</td>\n",
       "      <td>Ace Book</td>\n",
       "    </tr>\n",
       "    <tr>\n",
       "      <th>2</th>\n",
       "      <td>3</td>\n",
       "      <td>Ace Books</td>\n",
       "    </tr>\n",
       "    <tr>\n",
       "      <th>3</th>\n",
       "      <td>4</td>\n",
       "      <td>Ace Hardcover</td>\n",
       "    </tr>\n",
       "    <tr>\n",
       "      <th>4</th>\n",
       "      <td>5</td>\n",
       "      <td>Addison Wesley Publishing Company</td>\n",
       "    </tr>\n",
       "    <tr>\n",
       "      <th>5</th>\n",
       "      <td>6</td>\n",
       "      <td>Aladdin</td>\n",
       "    </tr>\n",
       "    <tr>\n",
       "      <th>6</th>\n",
       "      <td>7</td>\n",
       "      <td>Aladdin Paperbacks</td>\n",
       "    </tr>\n",
       "    <tr>\n",
       "      <th>7</th>\n",
       "      <td>8</td>\n",
       "      <td>Albin Michel</td>\n",
       "    </tr>\n",
       "    <tr>\n",
       "      <th>8</th>\n",
       "      <td>9</td>\n",
       "      <td>Alfred A. Knopf</td>\n",
       "    </tr>\n",
       "    <tr>\n",
       "      <th>9</th>\n",
       "      <td>10</td>\n",
       "      <td>Alfred A. Knopf Books for Young Readers</td>\n",
       "    </tr>\n",
       "  </tbody>\n",
       "</table>\n",
       "</div>"
      ],
      "text/plain": [
       "   publisher_id                                publisher\n",
       "0             1                                      Ace\n",
       "1             2                                 Ace Book\n",
       "2             3                                Ace Books\n",
       "3             4                            Ace Hardcover\n",
       "4             5        Addison Wesley Publishing Company\n",
       "5             6                                  Aladdin\n",
       "6             7                       Aladdin Paperbacks\n",
       "7             8                             Albin Michel\n",
       "8             9                          Alfred A. Knopf\n",
       "9            10  Alfred A. Knopf Books for Young Readers"
      ]
     },
     "execution_count": 13,
     "metadata": {},
     "output_type": "execute_result"
    }
   ],
   "source": [
    "publisher.head(10)"
   ]
  },
  {
   "cell_type": "code",
   "execution_count": 14,
   "metadata": {},
   "outputs": [
    {
     "name": "stdout",
     "output_type": "stream",
     "text": [
      "Empty DataFrame\n",
      "Columns: [publisher_id, publisher]\n",
      "Index: []\n"
     ]
    }
   ],
   "source": [
    "publisher_duplicated = publisher[publisher.duplicated()]\n",
    "print(publisher_duplicated)"
   ]
  },
  {
   "cell_type": "markdown",
   "metadata": {},
   "source": [
    "- os dados estão com os tipos corretos\n",
    "- não existem valores ausentes\n",
    "- não existem valores duplicados"
   ]
  },
  {
   "cell_type": "code",
   "execution_count": 15,
   "metadata": {},
   "outputs": [],
   "source": [
    "query4 = 'SELECT * FROM ratings;'\n",
    "rating = pd.io.sql.read_sql(query4, con = engine)"
   ]
  },
  {
   "cell_type": "code",
   "execution_count": 16,
   "metadata": {},
   "outputs": [
    {
     "name": "stdout",
     "output_type": "stream",
     "text": [
      "<class 'pandas.core.frame.DataFrame'>\n",
      "RangeIndex: 6456 entries, 0 to 6455\n",
      "Data columns (total 4 columns):\n",
      " #   Column     Non-Null Count  Dtype \n",
      "---  ------     --------------  ----- \n",
      " 0   rating_id  6456 non-null   int64 \n",
      " 1   book_id    6456 non-null   int64 \n",
      " 2   username   6456 non-null   object\n",
      " 3   rating     6456 non-null   int64 \n",
      "dtypes: int64(3), object(1)\n",
      "memory usage: 201.9+ KB\n"
     ]
    }
   ],
   "source": [
    "rating.info()"
   ]
  },
  {
   "cell_type": "code",
   "execution_count": 17,
   "metadata": {},
   "outputs": [
    {
     "data": {
      "text/html": [
       "<div>\n",
       "<style scoped>\n",
       "    .dataframe tbody tr th:only-of-type {\n",
       "        vertical-align: middle;\n",
       "    }\n",
       "\n",
       "    .dataframe tbody tr th {\n",
       "        vertical-align: top;\n",
       "    }\n",
       "\n",
       "    .dataframe thead th {\n",
       "        text-align: right;\n",
       "    }\n",
       "</style>\n",
       "<table border=\"1\" class=\"dataframe\">\n",
       "  <thead>\n",
       "    <tr style=\"text-align: right;\">\n",
       "      <th></th>\n",
       "      <th>rating_id</th>\n",
       "      <th>book_id</th>\n",
       "      <th>username</th>\n",
       "      <th>rating</th>\n",
       "    </tr>\n",
       "  </thead>\n",
       "  <tbody>\n",
       "    <tr>\n",
       "      <th>0</th>\n",
       "      <td>1</td>\n",
       "      <td>1</td>\n",
       "      <td>ryanfranco</td>\n",
       "      <td>4</td>\n",
       "    </tr>\n",
       "    <tr>\n",
       "      <th>1</th>\n",
       "      <td>2</td>\n",
       "      <td>1</td>\n",
       "      <td>grantpatricia</td>\n",
       "      <td>2</td>\n",
       "    </tr>\n",
       "    <tr>\n",
       "      <th>2</th>\n",
       "      <td>3</td>\n",
       "      <td>1</td>\n",
       "      <td>brandtandrea</td>\n",
       "      <td>5</td>\n",
       "    </tr>\n",
       "    <tr>\n",
       "      <th>3</th>\n",
       "      <td>4</td>\n",
       "      <td>2</td>\n",
       "      <td>lorichen</td>\n",
       "      <td>3</td>\n",
       "    </tr>\n",
       "    <tr>\n",
       "      <th>4</th>\n",
       "      <td>5</td>\n",
       "      <td>2</td>\n",
       "      <td>mariokeller</td>\n",
       "      <td>2</td>\n",
       "    </tr>\n",
       "    <tr>\n",
       "      <th>5</th>\n",
       "      <td>6</td>\n",
       "      <td>3</td>\n",
       "      <td>johnsonamanda</td>\n",
       "      <td>4</td>\n",
       "    </tr>\n",
       "    <tr>\n",
       "      <th>6</th>\n",
       "      <td>7</td>\n",
       "      <td>3</td>\n",
       "      <td>scotttamara</td>\n",
       "      <td>5</td>\n",
       "    </tr>\n",
       "    <tr>\n",
       "      <th>7</th>\n",
       "      <td>8</td>\n",
       "      <td>3</td>\n",
       "      <td>lesliegibbs</td>\n",
       "      <td>5</td>\n",
       "    </tr>\n",
       "    <tr>\n",
       "      <th>8</th>\n",
       "      <td>9</td>\n",
       "      <td>4</td>\n",
       "      <td>abbottjames</td>\n",
       "      <td>5</td>\n",
       "    </tr>\n",
       "    <tr>\n",
       "      <th>9</th>\n",
       "      <td>10</td>\n",
       "      <td>4</td>\n",
       "      <td>valenciaanne</td>\n",
       "      <td>4</td>\n",
       "    </tr>\n",
       "  </tbody>\n",
       "</table>\n",
       "</div>"
      ],
      "text/plain": [
       "   rating_id  book_id       username  rating\n",
       "0          1        1     ryanfranco       4\n",
       "1          2        1  grantpatricia       2\n",
       "2          3        1   brandtandrea       5\n",
       "3          4        2       lorichen       3\n",
       "4          5        2    mariokeller       2\n",
       "5          6        3  johnsonamanda       4\n",
       "6          7        3    scotttamara       5\n",
       "7          8        3    lesliegibbs       5\n",
       "8          9        4    abbottjames       5\n",
       "9         10        4   valenciaanne       4"
      ]
     },
     "execution_count": 17,
     "metadata": {},
     "output_type": "execute_result"
    }
   ],
   "source": [
    "rating.head(10)"
   ]
  },
  {
   "cell_type": "code",
   "execution_count": 18,
   "metadata": {},
   "outputs": [
    {
     "name": "stdout",
     "output_type": "stream",
     "text": [
      "Empty DataFrame\n",
      "Columns: [rating_id, book_id, username, rating]\n",
      "Index: []\n"
     ]
    }
   ],
   "source": [
    "rating_duplicated = rating[rating.duplicated()]\n",
    "print(rating_duplicated)"
   ]
  },
  {
   "cell_type": "markdown",
   "metadata": {},
   "source": [
    "- os dados estão com os tipos corretos\n",
    "- não existem valores ausentes\n",
    "- não existem valores duplciados"
   ]
  },
  {
   "cell_type": "code",
   "execution_count": 19,
   "metadata": {},
   "outputs": [],
   "source": [
    "query5 = 'SELECT * FROM reviews;'\n",
    "review = pd.io.sql.read_sql(query5, con = engine)"
   ]
  },
  {
   "cell_type": "code",
   "execution_count": 20,
   "metadata": {},
   "outputs": [
    {
     "name": "stdout",
     "output_type": "stream",
     "text": [
      "<class 'pandas.core.frame.DataFrame'>\n",
      "RangeIndex: 2793 entries, 0 to 2792\n",
      "Data columns (total 4 columns):\n",
      " #   Column     Non-Null Count  Dtype \n",
      "---  ------     --------------  ----- \n",
      " 0   review_id  2793 non-null   int64 \n",
      " 1   book_id    2793 non-null   int64 \n",
      " 2   username   2793 non-null   object\n",
      " 3   text       2793 non-null   object\n",
      "dtypes: int64(2), object(2)\n",
      "memory usage: 87.4+ KB\n"
     ]
    }
   ],
   "source": [
    "review.info()"
   ]
  },
  {
   "cell_type": "code",
   "execution_count": 21,
   "metadata": {},
   "outputs": [
    {
     "data": {
      "text/html": [
       "<div>\n",
       "<style scoped>\n",
       "    .dataframe tbody tr th:only-of-type {\n",
       "        vertical-align: middle;\n",
       "    }\n",
       "\n",
       "    .dataframe tbody tr th {\n",
       "        vertical-align: top;\n",
       "    }\n",
       "\n",
       "    .dataframe thead th {\n",
       "        text-align: right;\n",
       "    }\n",
       "</style>\n",
       "<table border=\"1\" class=\"dataframe\">\n",
       "  <thead>\n",
       "    <tr style=\"text-align: right;\">\n",
       "      <th></th>\n",
       "      <th>review_id</th>\n",
       "      <th>book_id</th>\n",
       "      <th>username</th>\n",
       "      <th>text</th>\n",
       "    </tr>\n",
       "  </thead>\n",
       "  <tbody>\n",
       "    <tr>\n",
       "      <th>0</th>\n",
       "      <td>1</td>\n",
       "      <td>1</td>\n",
       "      <td>brandtandrea</td>\n",
       "      <td>Mention society tell send professor analysis. ...</td>\n",
       "    </tr>\n",
       "    <tr>\n",
       "      <th>1</th>\n",
       "      <td>2</td>\n",
       "      <td>1</td>\n",
       "      <td>ryanfranco</td>\n",
       "      <td>Foot glass pretty audience hit themselves. Amo...</td>\n",
       "    </tr>\n",
       "    <tr>\n",
       "      <th>2</th>\n",
       "      <td>3</td>\n",
       "      <td>2</td>\n",
       "      <td>lorichen</td>\n",
       "      <td>Listen treat keep worry. Miss husband tax but ...</td>\n",
       "    </tr>\n",
       "    <tr>\n",
       "      <th>3</th>\n",
       "      <td>4</td>\n",
       "      <td>3</td>\n",
       "      <td>johnsonamanda</td>\n",
       "      <td>Finally month interesting blue could nature cu...</td>\n",
       "    </tr>\n",
       "    <tr>\n",
       "      <th>4</th>\n",
       "      <td>5</td>\n",
       "      <td>3</td>\n",
       "      <td>scotttamara</td>\n",
       "      <td>Nation purpose heavy give wait song will. List...</td>\n",
       "    </tr>\n",
       "    <tr>\n",
       "      <th>5</th>\n",
       "      <td>6</td>\n",
       "      <td>3</td>\n",
       "      <td>lesliegibbs</td>\n",
       "      <td>Analysis no several cause international.</td>\n",
       "    </tr>\n",
       "    <tr>\n",
       "      <th>6</th>\n",
       "      <td>7</td>\n",
       "      <td>4</td>\n",
       "      <td>valenciaanne</td>\n",
       "      <td>One there cost another. Say type save. With pe...</td>\n",
       "    </tr>\n",
       "    <tr>\n",
       "      <th>7</th>\n",
       "      <td>8</td>\n",
       "      <td>4</td>\n",
       "      <td>abbottjames</td>\n",
       "      <td>Within enough mother. There at system full rec...</td>\n",
       "    </tr>\n",
       "    <tr>\n",
       "      <th>8</th>\n",
       "      <td>9</td>\n",
       "      <td>5</td>\n",
       "      <td>npowers</td>\n",
       "      <td>Thank now focus realize economy focus fly. Ite...</td>\n",
       "    </tr>\n",
       "    <tr>\n",
       "      <th>9</th>\n",
       "      <td>10</td>\n",
       "      <td>5</td>\n",
       "      <td>staylor</td>\n",
       "      <td>Game push lot reduce where remember. Including...</td>\n",
       "    </tr>\n",
       "  </tbody>\n",
       "</table>\n",
       "</div>"
      ],
      "text/plain": [
       "   review_id  book_id       username  \\\n",
       "0          1        1   brandtandrea   \n",
       "1          2        1     ryanfranco   \n",
       "2          3        2       lorichen   \n",
       "3          4        3  johnsonamanda   \n",
       "4          5        3    scotttamara   \n",
       "5          6        3    lesliegibbs   \n",
       "6          7        4   valenciaanne   \n",
       "7          8        4    abbottjames   \n",
       "8          9        5        npowers   \n",
       "9         10        5        staylor   \n",
       "\n",
       "                                                text  \n",
       "0  Mention society tell send professor analysis. ...  \n",
       "1  Foot glass pretty audience hit themselves. Amo...  \n",
       "2  Listen treat keep worry. Miss husband tax but ...  \n",
       "3  Finally month interesting blue could nature cu...  \n",
       "4  Nation purpose heavy give wait song will. List...  \n",
       "5           Analysis no several cause international.  \n",
       "6  One there cost another. Say type save. With pe...  \n",
       "7  Within enough mother. There at system full rec...  \n",
       "8  Thank now focus realize economy focus fly. Ite...  \n",
       "9  Game push lot reduce where remember. Including...  "
      ]
     },
     "execution_count": 21,
     "metadata": {},
     "output_type": "execute_result"
    }
   ],
   "source": [
    "review.head(10)"
   ]
  },
  {
   "cell_type": "code",
   "execution_count": 22,
   "metadata": {},
   "outputs": [
    {
     "name": "stdout",
     "output_type": "stream",
     "text": [
      "Empty DataFrame\n",
      "Columns: [review_id, book_id, username, text]\n",
      "Index: []\n"
     ]
    }
   ],
   "source": [
    "review_duplicated = review[review.duplicated()]\n",
    "print(review_duplicated)"
   ]
  },
  {
   "cell_type": "markdown",
   "metadata": {},
   "source": [
    "- os dados estão com os tipos corretos\n",
    "- não existem valores ausentes\n",
    "- não existem valores duplciados"
   ]
  },
  {
   "cell_type": "markdown",
   "metadata": {},
   "source": [
    "O número total de livros lançados depois de 01/01/2020 foi 463"
   ]
  },
  {
   "cell_type": "code",
   "execution_count": 23,
   "metadata": {
    "scrolled": true
   },
   "outputs": [
    {
     "name": "stdout",
     "output_type": "stream",
     "text": [
      "Número de livros:    count\n",
      "0    819\n"
     ]
    }
   ],
   "source": [
    "query9 = \"\"\"\n",
    "SELECT COUNT(*) \n",
    "FROM books \n",
    "WHERE publication_date > '2000-01-01';\n",
    "\"\"\"\n",
    "books = pd.read_sql(query9, con=engine)\n",
    "print('Número de livros:', books)"
   ]
  },
  {
   "cell_type": "markdown",
   "metadata": {},
   "source": [
    "A quantidade de livros lançados depois de 01/01/2020 foi 819 livros"
   ]
  },
  {
   "cell_type": "code",
   "execution_count": 24,
   "metadata": {},
   "outputs": [
    {
     "name": "stdout",
     "output_type": "stream",
     "text": [
      "Número de avaliações:    count\n",
      "0   6456\n"
     ]
    }
   ],
   "source": [
    "query10 = \"\"\"\n",
    "SELECT COUNT(rating)\n",
    "FROM ratings;\n",
    "\"\"\"\n",
    "\n",
    "countrating = pd.read_sql(query10, con=engine)\n",
    "print('Número de avaliações:', countrating)"
   ]
  },
  {
   "cell_type": "markdown",
   "metadata": {},
   "source": [
    "A quantidade de avaliações é 6456"
   ]
  },
  {
   "cell_type": "code",
   "execution_count": 25,
   "metadata": {},
   "outputs": [],
   "source": [
    "query20 = \"\"\"SELECT b.title, AVG(r.rating) AS average_rating\n",
    "FROM books \n",
    "LEFT JOIN ratings r ON b.book_id = r.book_id\n",
    "GROUP BY b.title;\n",
    "\"\"\""
   ]
  },
  {
   "cell_type": "code",
   "execution_count": 34,
   "metadata": {
    "scrolled": true
   },
   "outputs": [
    {
     "data": {
      "text/html": [
       "<div>\n",
       "<style scoped>\n",
       "    .dataframe tbody tr th:only-of-type {\n",
       "        vertical-align: middle;\n",
       "    }\n",
       "\n",
       "    .dataframe tbody tr th {\n",
       "        vertical-align: top;\n",
       "    }\n",
       "\n",
       "    .dataframe thead th {\n",
       "        text-align: right;\n",
       "    }\n",
       "</style>\n",
       "<table border=\"1\" class=\"dataframe\">\n",
       "  <thead>\n",
       "    <tr style=\"text-align: right;\">\n",
       "      <th></th>\n",
       "      <th>title</th>\n",
       "      <th>avg_rating</th>\n",
       "      <th>review_count</th>\n",
       "    </tr>\n",
       "  </thead>\n",
       "  <tbody>\n",
       "    <tr>\n",
       "      <th>0</th>\n",
       "      <td>Twilight (Twilight  #1)</td>\n",
       "      <td>3.662500</td>\n",
       "      <td>7</td>\n",
       "    </tr>\n",
       "    <tr>\n",
       "      <th>1</th>\n",
       "      <td>Harry Potter and the Prisoner of Azkaban (Harr...</td>\n",
       "      <td>4.414634</td>\n",
       "      <td>6</td>\n",
       "    </tr>\n",
       "    <tr>\n",
       "      <th>2</th>\n",
       "      <td>Harry Potter and the Chamber of Secrets (Harry...</td>\n",
       "      <td>4.287500</td>\n",
       "      <td>6</td>\n",
       "    </tr>\n",
       "    <tr>\n",
       "      <th>3</th>\n",
       "      <td>The Book Thief</td>\n",
       "      <td>4.264151</td>\n",
       "      <td>6</td>\n",
       "    </tr>\n",
       "    <tr>\n",
       "      <th>4</th>\n",
       "      <td>The Glass Castle</td>\n",
       "      <td>4.206897</td>\n",
       "      <td>6</td>\n",
       "    </tr>\n",
       "    <tr>\n",
       "      <th>5</th>\n",
       "      <td>Outlander (Outlander  #1)</td>\n",
       "      <td>4.125000</td>\n",
       "      <td>6</td>\n",
       "    </tr>\n",
       "    <tr>\n",
       "      <th>6</th>\n",
       "      <td>The Hobbit  or There and Back Again</td>\n",
       "      <td>4.125000</td>\n",
       "      <td>6</td>\n",
       "    </tr>\n",
       "    <tr>\n",
       "      <th>7</th>\n",
       "      <td>The Curious Incident of the Dog in the Night-Time</td>\n",
       "      <td>4.081081</td>\n",
       "      <td>6</td>\n",
       "    </tr>\n",
       "    <tr>\n",
       "      <th>8</th>\n",
       "      <td>The Lightning Thief (Percy Jackson and the Oly...</td>\n",
       "      <td>4.080645</td>\n",
       "      <td>6</td>\n",
       "    </tr>\n",
       "    <tr>\n",
       "      <th>9</th>\n",
       "      <td>Water for Elephants</td>\n",
       "      <td>3.977273</td>\n",
       "      <td>6</td>\n",
       "    </tr>\n",
       "  </tbody>\n",
       "</table>\n",
       "</div>"
      ],
      "text/plain": [
       "                                               title  avg_rating  review_count\n",
       "0                            Twilight (Twilight  #1)    3.662500             7\n",
       "1  Harry Potter and the Prisoner of Azkaban (Harr...    4.414634             6\n",
       "2  Harry Potter and the Chamber of Secrets (Harry...    4.287500             6\n",
       "3                                     The Book Thief    4.264151             6\n",
       "4                                   The Glass Castle    4.206897             6\n",
       "5                          Outlander (Outlander  #1)    4.125000             6\n",
       "6                The Hobbit  or There and Back Again    4.125000             6\n",
       "7  The Curious Incident of the Dog in the Night-Time    4.081081             6\n",
       "8  The Lightning Thief (Percy Jackson and the Oly...    4.080645             6\n",
       "9                                Water for Elephants    3.977273             6"
      ]
     },
     "execution_count": 34,
     "metadata": {},
     "output_type": "execute_result"
    }
   ],
   "source": [
    "query11 = \"\"\"\n",
    "SELECT books.title, subquery.avg_rating, subquery.review_count\n",
    "FROM (\n",
    "    SELECT reviews.book_id as book_id, \n",
    "           COUNT(DISTINCT reviews.review_id) AS review_count, \n",
    "           AVG(ratings.rating) AS avg_rating\n",
    "    FROM reviews \n",
    "    INNER JOIN ratings ON ratings.book_id = reviews.book_id\n",
    "    GROUP BY reviews.book_id\n",
    ") AS subquery\n",
    "INNER JOIN books ON subquery.book_id = books.book_id\n",
    "ORDER BY subquery.review_count DESC, subquery.avg_rating DESC\n",
    "LIMIT 10\n",
    "\"\"\"\n",
    "avgrating = pd.read_sql(query11, con=engine)\n",
    "avgrating"
   ]
  },
  {
   "cell_type": "markdown",
   "metadata": {},
   "source": [
    "A tabela acima mostra a classificação média dos livros em ordem de livros com mais avaliações"
   ]
  },
  {
   "cell_type": "code",
   "execution_count": 36,
   "metadata": {
    "scrolled": true
   },
   "outputs": [
    {
     "data": {
      "text/html": [
       "<div>\n",
       "<style scoped>\n",
       "    .dataframe tbody tr th:only-of-type {\n",
       "        vertical-align: middle;\n",
       "    }\n",
       "\n",
       "    .dataframe tbody tr th {\n",
       "        vertical-align: top;\n",
       "    }\n",
       "\n",
       "    .dataframe thead th {\n",
       "        text-align: right;\n",
       "    }\n",
       "</style>\n",
       "<table border=\"1\" class=\"dataframe\">\n",
       "  <thead>\n",
       "    <tr style=\"text-align: right;\">\n",
       "      <th></th>\n",
       "      <th>count</th>\n",
       "      <th>publisher</th>\n",
       "    </tr>\n",
       "  </thead>\n",
       "  <tbody>\n",
       "    <tr>\n",
       "      <th>0</th>\n",
       "      <td>42</td>\n",
       "      <td>Penguin Books</td>\n",
       "    </tr>\n",
       "    <tr>\n",
       "      <th>1</th>\n",
       "      <td>31</td>\n",
       "      <td>Vintage</td>\n",
       "    </tr>\n",
       "    <tr>\n",
       "      <th>2</th>\n",
       "      <td>25</td>\n",
       "      <td>Grand Central Publishing</td>\n",
       "    </tr>\n",
       "    <tr>\n",
       "      <th>3</th>\n",
       "      <td>24</td>\n",
       "      <td>Penguin Classics</td>\n",
       "    </tr>\n",
       "    <tr>\n",
       "      <th>4</th>\n",
       "      <td>19</td>\n",
       "      <td>Bantam</td>\n",
       "    </tr>\n",
       "  </tbody>\n",
       "</table>\n",
       "</div>"
      ],
      "text/plain": [
       "   count                 publisher\n",
       "0     42             Penguin Books\n",
       "1     31                   Vintage\n",
       "2     25  Grand Central Publishing\n",
       "3     24          Penguin Classics\n",
       "4     19                    Bantam"
      ]
     },
     "execution_count": 36,
     "metadata": {},
     "output_type": "execute_result"
    }
   ],
   "source": [
    "query12 = \"\"\"\n",
    "SELECT COUNT(books.book_id) AS count, publishers.publisher AS publisher\n",
    "FROM books\n",
    "INNER JOIN publishers ON publishers.publisher_id = books.publisher_id\n",
    "WHERE books.num_pages > 50\n",
    "GROUP BY publishers.publisher\n",
    "ORDER BY count DESC\n",
    "LIMIT 5\n",
    "\"\"\"\n",
    "pagesmax = pd.read_sql(query12, con=engine)\n",
    "\n",
    "pagesmax"
   ]
  },
  {
   "cell_type": "markdown",
   "metadata": {},
   "source": [
    "Na tabela acima, mostramos os 5 livros com mais publicações de livros com mais de 50 páginas."
   ]
  },
  {
   "cell_type": "code",
   "execution_count": 93,
   "metadata": {
    "scrolled": true
   },
   "outputs": [
    {
     "data": {
      "text/html": [
       "<div>\n",
       "<style scoped>\n",
       "    .dataframe tbody tr th:only-of-type {\n",
       "        vertical-align: middle;\n",
       "    }\n",
       "\n",
       "    .dataframe tbody tr th {\n",
       "        vertical-align: top;\n",
       "    }\n",
       "\n",
       "    .dataframe thead th {\n",
       "        text-align: right;\n",
       "    }\n",
       "</style>\n",
       "<table border=\"1\" class=\"dataframe\">\n",
       "  <thead>\n",
       "    <tr style=\"text-align: right;\">\n",
       "      <th></th>\n",
       "      <th>average_rating</th>\n",
       "      <th>author_name</th>\n",
       "    </tr>\n",
       "  </thead>\n",
       "  <tbody>\n",
       "    <tr>\n",
       "      <th>0</th>\n",
       "      <td>4.288462</td>\n",
       "      <td>J.K. Rowling/Mary GrandPré</td>\n",
       "    </tr>\n",
       "  </tbody>\n",
       "</table>\n",
       "</div>"
      ],
      "text/plain": [
       "   average_rating                 author_name\n",
       "0        4.288462  J.K. Rowling/Mary GrandPré"
      ]
     },
     "execution_count": 93,
     "metadata": {},
     "output_type": "execute_result"
    }
   ],
   "source": [
    "query40 = \"\"\"\n",
    "WITH AuthorRatings AS (\n",
    "    SELECT b.author_id, AVG(r.rating) AS average_rating, COUNT(r.rating) AS rating_count\n",
    "    FROM ratings r\n",
    "    JOIN books b ON b.book_id = r.book_id\n",
    "    GROUP BY b.author_id\n",
    "    HAVING COUNT(r.rating) > 50  \n",
    ")\n",
    "SELECT ar.average_rating, a.author AS author_name\n",
    "FROM AuthorRatings ar\n",
    "JOIN authors a ON ar.author_id = a.author_id\n",
    "ORDER BY ar.average_rating DESC\n",
    "LIMIT 1;\n",
    "\"\"\"\n",
    "\n",
    "ratingauthor = pd.read_sql(query40, con=engine)\n",
    "\n",
    "ratingauthor"
   ]
  },
  {
   "cell_type": "markdown",
   "metadata": {},
   "source": [
    "Na tabela acima, mostramos a escritora com a maior classificação média, com mais de 50 avaliações. "
   ]
  },
  {
   "cell_type": "code",
   "execution_count": 41,
   "metadata": {},
   "outputs": [
    {
     "data": {
      "text/html": [
       "<div>\n",
       "<style scoped>\n",
       "    .dataframe tbody tr th:only-of-type {\n",
       "        vertical-align: middle;\n",
       "    }\n",
       "\n",
       "    .dataframe tbody tr th {\n",
       "        vertical-align: top;\n",
       "    }\n",
       "\n",
       "    .dataframe thead th {\n",
       "        text-align: right;\n",
       "    }\n",
       "</style>\n",
       "<table border=\"1\" class=\"dataframe\">\n",
       "  <thead>\n",
       "    <tr style=\"text-align: right;\">\n",
       "      <th></th>\n",
       "      <th>avg_review_cnt</th>\n",
       "    </tr>\n",
       "  </thead>\n",
       "  <tbody>\n",
       "    <tr>\n",
       "      <th>0</th>\n",
       "      <td>24.333333</td>\n",
       "    </tr>\n",
       "  </tbody>\n",
       "</table>\n",
       "</div>"
      ],
      "text/plain": [
       "   avg_review_cnt\n",
       "0       24.333333"
      ]
     },
     "execution_count": 41,
     "metadata": {},
     "output_type": "execute_result"
    }
   ],
   "source": [
    "query55 = \"\"\"\n",
    "SELECT AVG(subquery2.review_cnt) AS avg_review_cnt\n",
    "FROM (\n",
    "    SELECT\n",
    "        COUNT(reviews.review_id) AS review_cnt, subquery1.username\n",
    "    FROM (\n",
    "        SELECT username, COUNT(rating_id) AS rating_cnt\n",
    "        FROM ratings\n",
    "        GROUP BY username\n",
    "        HAVING COUNT(rating_id) > 50\n",
    "    ) AS subquery1\n",
    "    INNER JOIN reviews ON reviews.username = subquery1.username\n",
    "    GROUP BY subquery1.username\n",
    ") AS subquery2\n",
    "\"\"\"\n",
    "\n",
    "meanrating = pd.read_sql(query55, con=engine)\n",
    "meanrating"
   ]
  },
  {
   "cell_type": "markdown",
   "metadata": {},
   "source": [
    "Na tabela acima, mostramos a média das avaliações entre os usuários que classificaram mais do que 50 livros."
   ]
  },
  {
   "cell_type": "markdown",
   "metadata": {},
   "source": [
    "# Conclusão"
   ]
  },
  {
   "cell_type": "markdown",
   "metadata": {},
   "source": [
    "- com os dados é possível perceber que realmente é um mercado que vale a pena investir\n",
    "- a quantidade de livros publicados foi bem grande\n",
    "- existe um grande número de usuários que avaliam os livros, o que mostra que eles estão motivados a continuar a ler e mostrar sua opnião para próximos livros e estilos de livros que mais gostam\n",
    "- concluindo, vale a pena investir em aplciativos para amantes de livros, seja ele apenas um lugar para os usuários mostrarem suas opniões, como também um lugar para mostrar livros com estilos parecidos com o que eles leram, opniões de outros usuários, onde comprar, entre outras coisas."
   ]
  }
 ],
 "metadata": {
  "ExecuteTimeLog": [
   {
    "duration": 600,
    "start_time": "2024-08-12T13:44:12.069Z"
   },
   {
    "duration": 373,
    "start_time": "2024-08-12T13:44:26.098Z"
   },
   {
    "duration": 3053,
    "start_time": "2024-08-12T13:51:51.664Z"
   },
   {
    "duration": 7,
    "start_time": "2024-08-12T13:52:58.785Z"
   },
   {
    "duration": 3012,
    "start_time": "2024-08-12T13:53:00.096Z"
   },
   {
    "duration": 6,
    "start_time": "2024-08-12T13:53:17.053Z"
   },
   {
    "duration": 2934,
    "start_time": "2024-08-12T13:53:19.811Z"
   },
   {
    "duration": 7,
    "start_time": "2024-08-12T13:54:05.466Z"
   },
   {
    "duration": 2976,
    "start_time": "2024-08-12T13:54:06.719Z"
   },
   {
    "duration": 6,
    "start_time": "2024-08-12T13:57:15.823Z"
   },
   {
    "duration": 3050,
    "start_time": "2024-08-12T13:57:17.063Z"
   },
   {
    "duration": 7,
    "start_time": "2024-08-12T14:05:17.442Z"
   },
   {
    "duration": 2893,
    "start_time": "2024-08-12T14:05:18.791Z"
   },
   {
    "duration": 23,
    "start_time": "2024-08-12T14:05:42.432Z"
   },
   {
    "duration": 24,
    "start_time": "2024-08-12T14:05:59.223Z"
   },
   {
    "duration": 10,
    "start_time": "2024-08-12T14:08:01.387Z"
   },
   {
    "duration": 6,
    "start_time": "2024-08-12T14:08:09.586Z"
   },
   {
    "duration": 6,
    "start_time": "2024-08-12T14:08:30.569Z"
   },
   {
    "duration": 24,
    "start_time": "2024-08-12T14:08:47.680Z"
   },
   {
    "duration": 2689,
    "start_time": "2024-08-12T14:09:01.530Z"
   },
   {
    "duration": 155,
    "start_time": "2024-08-12T14:09:48.826Z"
   },
   {
    "duration": 6,
    "start_time": "2024-08-12T14:10:17.373Z"
   },
   {
    "duration": 84,
    "start_time": "2024-08-12T14:10:18.014Z"
   },
   {
    "duration": 7,
    "start_time": "2024-08-12T14:11:08.283Z"
   },
   {
    "duration": 6,
    "start_time": "2024-08-12T14:11:54.987Z"
   },
   {
    "duration": 3070,
    "start_time": "2024-08-12T14:11:56.481Z"
   },
   {
    "duration": 1035,
    "start_time": "2024-08-12T14:12:25.014Z"
   },
   {
    "duration": 6,
    "start_time": "2024-08-12T14:13:20.916Z"
   },
   {
    "duration": 2734,
    "start_time": "2024-08-12T14:13:22.125Z"
   },
   {
    "duration": 5,
    "start_time": "2024-08-12T14:13:42.409Z"
   },
   {
    "duration": 2912,
    "start_time": "2024-08-12T14:13:43.712Z"
   },
   {
    "duration": 7,
    "start_time": "2024-08-12T14:15:54.767Z"
   },
   {
    "duration": 2699,
    "start_time": "2024-08-12T14:15:55.620Z"
   },
   {
    "duration": 615,
    "start_time": "2024-08-12T16:36:19.644Z"
   },
   {
    "duration": 2961,
    "start_time": "2024-08-12T16:36:20.609Z"
   },
   {
    "duration": 7,
    "start_time": "2024-08-12T16:37:05.351Z"
   },
   {
    "duration": 592,
    "start_time": "2024-08-12T16:38:10.841Z"
   },
   {
    "duration": 2816,
    "start_time": "2024-08-12T16:38:15.377Z"
   },
   {
    "duration": 896,
    "start_time": "2024-08-12T16:38:56.361Z"
   },
   {
    "duration": 894,
    "start_time": "2024-08-12T16:39:42.010Z"
   },
   {
    "duration": 769,
    "start_time": "2024-08-12T16:40:06.314Z"
   },
   {
    "duration": 1666,
    "start_time": "2024-08-12T16:40:27.747Z"
   },
   {
    "duration": 1571,
    "start_time": "2024-08-12T16:40:59.743Z"
   },
   {
    "duration": 654,
    "start_time": "2024-08-12T17:41:58.204Z"
   },
   {
    "duration": 2799,
    "start_time": "2024-08-12T17:42:05.712Z"
   },
   {
    "duration": 844,
    "start_time": "2024-08-12T17:42:15.794Z"
   },
   {
    "duration": 729,
    "start_time": "2024-08-12T17:42:32.935Z"
   },
   {
    "duration": 1340,
    "start_time": "2024-08-12T17:42:43.100Z"
   },
   {
    "duration": 1204,
    "start_time": "2024-08-12T17:42:50.054Z"
   },
   {
    "duration": 4877,
    "start_time": "2024-08-12T17:49:41.549Z"
   },
   {
    "duration": 6,
    "start_time": "2024-08-12T17:49:59.160Z"
   },
   {
    "duration": 6,
    "start_time": "2024-08-12T17:50:00.682Z"
   },
   {
    "duration": 2843,
    "start_time": "2024-08-12T17:50:01.828Z"
   },
   {
    "duration": 17,
    "start_time": "2024-08-12T17:50:37.600Z"
   },
   {
    "duration": 19,
    "start_time": "2024-08-12T17:50:57.133Z"
   },
   {
    "duration": 228,
    "start_time": "2024-08-12T17:55:52.003Z"
   },
   {
    "duration": 10,
    "start_time": "2024-08-12T17:56:14.437Z"
   },
   {
    "duration": 5,
    "start_time": "2024-08-12T17:57:41.309Z"
   },
   {
    "duration": 15,
    "start_time": "2024-08-12T17:58:04.526Z"
   },
   {
    "duration": 16,
    "start_time": "2024-08-12T17:59:31.869Z"
   },
   {
    "duration": 13,
    "start_time": "2024-08-12T17:59:42.896Z"
   },
   {
    "duration": 7,
    "start_time": "2024-08-12T18:00:15.492Z"
   },
   {
    "duration": 12,
    "start_time": "2024-08-12T18:01:20.956Z"
   },
   {
    "duration": 10,
    "start_time": "2024-08-12T18:01:33.530Z"
   },
   {
    "duration": 8,
    "start_time": "2024-08-12T18:02:01.679Z"
   },
   {
    "duration": 18,
    "start_time": "2024-08-12T18:03:08.492Z"
   },
   {
    "duration": 11,
    "start_time": "2024-08-12T18:03:21.451Z"
   },
   {
    "duration": 10,
    "start_time": "2024-08-12T18:03:47.331Z"
   },
   {
    "duration": 14,
    "start_time": "2024-08-12T18:04:33.437Z"
   },
   {
    "duration": 12,
    "start_time": "2024-08-12T18:04:43.008Z"
   },
   {
    "duration": 10,
    "start_time": "2024-08-12T18:05:12.781Z"
   },
   {
    "duration": 7,
    "start_time": "2024-08-12T18:10:26.801Z"
   },
   {
    "duration": 6,
    "start_time": "2024-08-12T18:10:33.242Z"
   },
   {
    "duration": 6,
    "start_time": "2024-08-12T18:10:54.500Z"
   },
   {
    "duration": 5,
    "start_time": "2024-08-12T18:11:06.008Z"
   },
   {
    "duration": 6,
    "start_time": "2024-08-12T18:11:06.849Z"
   },
   {
    "duration": 3000,
    "start_time": "2024-08-12T18:11:07.735Z"
   },
   {
    "duration": 15,
    "start_time": "2024-08-12T18:11:10.739Z"
   },
   {
    "duration": 13,
    "start_time": "2024-08-12T18:11:12.320Z"
   },
   {
    "duration": 5,
    "start_time": "2024-08-12T18:11:13.318Z"
   },
   {
    "duration": 15,
    "start_time": "2024-08-12T18:11:13.916Z"
   },
   {
    "duration": 8,
    "start_time": "2024-08-12T18:11:14.882Z"
   },
   {
    "duration": 913,
    "start_time": "2024-08-12T18:11:16.446Z"
   },
   {
    "duration": 13,
    "start_time": "2024-08-12T18:11:19.432Z"
   },
   {
    "duration": 10,
    "start_time": "2024-08-12T18:11:20.379Z"
   },
   {
    "duration": 7,
    "start_time": "2024-08-12T18:11:21.092Z"
   },
   {
    "duration": 783,
    "start_time": "2024-08-12T18:11:22.646Z"
   },
   {
    "duration": 14,
    "start_time": "2024-08-12T18:11:24.165Z"
   },
   {
    "duration": 9,
    "start_time": "2024-08-12T18:11:24.926Z"
   },
   {
    "duration": 7,
    "start_time": "2024-08-12T18:11:25.670Z"
   },
   {
    "duration": 1774,
    "start_time": "2024-08-12T18:11:26.931Z"
   },
   {
    "duration": 15,
    "start_time": "2024-08-12T18:11:28.708Z"
   },
   {
    "duration": 11,
    "start_time": "2024-08-12T18:11:29.699Z"
   },
   {
    "duration": 8,
    "start_time": "2024-08-12T18:11:30.652Z"
   },
   {
    "duration": 2083,
    "start_time": "2024-08-12T18:11:32.004Z"
   },
   {
    "duration": 16,
    "start_time": "2024-08-12T18:11:34.091Z"
   },
   {
    "duration": 12,
    "start_time": "2024-08-12T18:11:34.111Z"
   },
   {
    "duration": 10,
    "start_time": "2024-08-12T18:11:34.716Z"
   },
   {
    "duration": 5,
    "start_time": "2024-08-12T18:11:36.072Z"
   },
   {
    "duration": 4,
    "start_time": "2024-08-12T18:12:29.047Z"
   },
   {
    "duration": 494,
    "start_time": "2024-08-12T18:12:44.601Z"
   },
   {
    "duration": 39,
    "start_time": "2024-08-12T18:15:06.091Z"
   },
   {
    "duration": 15,
    "start_time": "2024-08-12T18:15:15.394Z"
   },
   {
    "duration": 13,
    "start_time": "2024-08-12T18:16:03.646Z"
   },
   {
    "duration": 18,
    "start_time": "2024-08-12T18:16:26.650Z"
   },
   {
    "duration": 14,
    "start_time": "2024-08-12T18:16:44.006Z"
   },
   {
    "duration": 16,
    "start_time": "2024-08-12T18:17:06.095Z"
   },
   {
    "duration": 14,
    "start_time": "2024-08-12T18:17:50.370Z"
   },
   {
    "duration": 14,
    "start_time": "2024-08-12T18:18:16.140Z"
   },
   {
    "duration": 5,
    "start_time": "2024-08-12T18:18:22.572Z"
   },
   {
    "duration": 24,
    "start_time": "2024-08-12T18:19:37.674Z"
   },
   {
    "duration": 11,
    "start_time": "2024-08-12T18:19:42.074Z"
   },
   {
    "duration": 17,
    "start_time": "2024-08-12T18:19:52.162Z"
   },
   {
    "duration": 22,
    "start_time": "2024-08-12T18:19:59.095Z"
   },
   {
    "duration": 4,
    "start_time": "2024-08-12T18:21:06.380Z"
   },
   {
    "duration": 4,
    "start_time": "2024-08-12T18:21:22.821Z"
   },
   {
    "duration": 4,
    "start_time": "2024-08-12T18:22:07.281Z"
   },
   {
    "duration": 5,
    "start_time": "2024-08-12T18:22:15.876Z"
   },
   {
    "duration": 5,
    "start_time": "2024-08-12T18:22:36.218Z"
   },
   {
    "duration": 6,
    "start_time": "2024-08-12T18:22:40.624Z"
   },
   {
    "duration": 13,
    "start_time": "2024-08-12T18:24:26.568Z"
   },
   {
    "duration": 19,
    "start_time": "2024-08-12T18:24:43.223Z"
   },
   {
    "duration": 17,
    "start_time": "2024-08-12T18:25:08.773Z"
   },
   {
    "duration": 21,
    "start_time": "2024-08-12T18:27:31.125Z"
   },
   {
    "duration": 5,
    "start_time": "2024-08-12T18:28:06.800Z"
   },
   {
    "duration": 24,
    "start_time": "2024-08-12T18:29:17.004Z"
   },
   {
    "duration": 14,
    "start_time": "2024-08-12T18:29:24.052Z"
   },
   {
    "duration": 7,
    "start_time": "2024-08-12T18:29:34.510Z"
   },
   {
    "duration": 7,
    "start_time": "2024-08-12T18:29:42.029Z"
   },
   {
    "duration": 8,
    "start_time": "2024-08-12T18:30:29.322Z"
   },
   {
    "duration": 35,
    "start_time": "2024-08-12T18:33:39.872Z"
   },
   {
    "duration": 920,
    "start_time": "2024-08-12T18:33:55.908Z"
   },
   {
    "duration": 10,
    "start_time": "2024-08-12T18:34:10.921Z"
   },
   {
    "duration": 12,
    "start_time": "2024-08-12T18:34:19.996Z"
   },
   {
    "duration": 5,
    "start_time": "2024-08-12T18:34:40.160Z"
   },
   {
    "duration": 5,
    "start_time": "2024-08-12T18:34:58.549Z"
   },
   {
    "duration": 6,
    "start_time": "2024-08-12T18:34:59.310Z"
   },
   {
    "duration": 16,
    "start_time": "2024-08-12T18:37:11.514Z"
   },
   {
    "duration": 9,
    "start_time": "2024-08-12T18:37:27.679Z"
   },
   {
    "duration": 14,
    "start_time": "2024-08-12T18:37:37.458Z"
   },
   {
    "duration": 12,
    "start_time": "2024-08-12T18:37:53.299Z"
   },
   {
    "duration": 9,
    "start_time": "2024-08-12T18:38:47.946Z"
   },
   {
    "duration": 33,
    "start_time": "2024-08-12T18:39:14.337Z"
   },
   {
    "duration": 11,
    "start_time": "2024-08-12T18:39:24.169Z"
   },
   {
    "duration": 5,
    "start_time": "2024-08-12T18:40:51.142Z"
   },
   {
    "duration": 11,
    "start_time": "2024-08-12T18:41:01.080Z"
   },
   {
    "duration": 24,
    "start_time": "2024-08-12T18:43:09.214Z"
   },
   {
    "duration": 24,
    "start_time": "2024-08-12T18:43:57.490Z"
   },
   {
    "duration": 7,
    "start_time": "2024-08-12T18:44:13.581Z"
   },
   {
    "duration": 18,
    "start_time": "2024-08-12T18:44:24.641Z"
   },
   {
    "duration": 9,
    "start_time": "2024-08-12T18:45:01.888Z"
   },
   {
    "duration": 10,
    "start_time": "2024-08-12T18:45:30.876Z"
   },
   {
    "duration": 30,
    "start_time": "2024-08-12T18:45:57.947Z"
   },
   {
    "duration": 31,
    "start_time": "2024-08-12T18:46:30.424Z"
   },
   {
    "duration": 20,
    "start_time": "2024-08-12T18:46:39.896Z"
   },
   {
    "duration": 10,
    "start_time": "2024-08-12T18:46:53.122Z"
   },
   {
    "duration": 30,
    "start_time": "2024-08-12T18:47:31.083Z"
   },
   {
    "duration": 29,
    "start_time": "2024-08-12T18:47:42.648Z"
   },
   {
    "duration": 17,
    "start_time": "2024-08-12T18:47:59.492Z"
   },
   {
    "duration": 10,
    "start_time": "2024-08-12T18:48:31.510Z"
   },
   {
    "duration": 9,
    "start_time": "2024-08-12T18:48:56.211Z"
   },
   {
    "duration": 10,
    "start_time": "2024-08-12T18:49:43.910Z"
   },
   {
    "duration": 14,
    "start_time": "2024-08-12T18:50:39.639Z"
   },
   {
    "duration": 13,
    "start_time": "2024-08-12T18:51:54.542Z"
   },
   {
    "duration": 3,
    "start_time": "2024-08-12T18:53:07.536Z"
   },
   {
    "duration": 14,
    "start_time": "2024-08-12T18:56:13.400Z"
   },
   {
    "duration": 13,
    "start_time": "2024-08-12T18:56:33.397Z"
   },
   {
    "duration": 100,
    "start_time": "2024-08-12T18:59:31.990Z"
   },
   {
    "duration": 17,
    "start_time": "2024-08-12T18:59:50.723Z"
   },
   {
    "duration": 5313,
    "start_time": "2024-08-12T20:20:08.469Z"
   },
   {
    "duration": 58,
    "start_time": "2024-08-12T20:20:13.785Z"
   },
   {
    "duration": 3172,
    "start_time": "2024-08-12T20:20:13.846Z"
   },
   {
    "duration": 21,
    "start_time": "2024-08-12T20:20:17.022Z"
   },
   {
    "duration": 17,
    "start_time": "2024-08-12T20:20:18.255Z"
   },
   {
    "duration": 7,
    "start_time": "2024-08-12T20:20:18.483Z"
   },
   {
    "duration": 16,
    "start_time": "2024-08-12T20:20:18.715Z"
   },
   {
    "duration": 10,
    "start_time": "2024-08-12T20:20:18.997Z"
   },
   {
    "duration": 964,
    "start_time": "2024-08-12T20:20:19.881Z"
   },
   {
    "duration": 15,
    "start_time": "2024-08-12T20:20:20.848Z"
   },
   {
    "duration": 11,
    "start_time": "2024-08-12T20:20:20.866Z"
   },
   {
    "duration": 8,
    "start_time": "2024-08-12T20:20:20.881Z"
   },
   {
    "duration": 827,
    "start_time": "2024-08-12T20:20:20.919Z"
   },
   {
    "duration": 14,
    "start_time": "2024-08-12T20:20:21.750Z"
   },
   {
    "duration": 10,
    "start_time": "2024-08-12T20:20:21.768Z"
   },
   {
    "duration": 7,
    "start_time": "2024-08-12T20:20:21.782Z"
   },
   {
    "duration": 1867,
    "start_time": "2024-08-12T20:20:22.085Z"
   },
   {
    "duration": 15,
    "start_time": "2024-08-12T20:20:23.955Z"
   },
   {
    "duration": 11,
    "start_time": "2024-08-12T20:20:23.974Z"
   },
   {
    "duration": 9,
    "start_time": "2024-08-12T20:20:23.990Z"
   },
   {
    "duration": 1244,
    "start_time": "2024-08-12T20:20:24.001Z"
   },
   {
    "duration": 14,
    "start_time": "2024-08-12T20:20:25.247Z"
   },
   {
    "duration": 12,
    "start_time": "2024-08-12T20:20:25.264Z"
   },
   {
    "duration": 10,
    "start_time": "2024-08-12T20:20:25.279Z"
   },
   {
    "duration": 12,
    "start_time": "2024-08-12T20:20:26.330Z"
   },
   {
    "duration": 427,
    "start_time": "2024-08-12T20:20:26.699Z"
   },
   {
    "duration": 1,
    "start_time": "2024-08-12T20:20:27.129Z"
   },
   {
    "duration": 0,
    "start_time": "2024-08-12T20:20:27.131Z"
   },
   {
    "duration": 24,
    "start_time": "2024-08-12T20:20:27.295Z"
   },
   {
    "duration": 26,
    "start_time": "2024-08-12T20:20:27.485Z"
   },
   {
    "duration": 19,
    "start_time": "2024-08-12T20:20:27.695Z"
   },
   {
    "duration": 4,
    "start_time": "2024-08-12T20:20:27.936Z"
   },
   {
    "duration": 10,
    "start_time": "2024-08-12T20:20:28.216Z"
   },
   {
    "duration": 13,
    "start_time": "2024-08-12T20:20:28.713Z"
   },
   {
    "duration": 5,
    "start_time": "2024-08-12T20:20:28.829Z"
   },
   {
    "duration": 26,
    "start_time": "2024-08-12T20:20:29.129Z"
   },
   {
    "duration": 36,
    "start_time": "2024-08-12T20:20:29.651Z"
   },
   {
    "duration": 24,
    "start_time": "2024-08-12T20:21:53.069Z"
   },
   {
    "duration": 17,
    "start_time": "2024-08-12T20:21:53.985Z"
   },
   {
    "duration": 23,
    "start_time": "2024-08-12T20:21:54.776Z"
   },
   {
    "duration": 4,
    "start_time": "2024-08-12T20:21:55.353Z"
   },
   {
    "duration": 4,
    "start_time": "2024-08-12T20:21:55.941Z"
   },
   {
    "duration": 17,
    "start_time": "2024-08-12T20:21:56.885Z"
   },
   {
    "duration": 20,
    "start_time": "2024-08-12T20:21:57.676Z"
   },
   {
    "duration": 5,
    "start_time": "2024-08-12T20:21:58.771Z"
   },
   {
    "duration": 6,
    "start_time": "2024-08-12T20:21:59.016Z"
   },
   {
    "duration": 12,
    "start_time": "2024-08-12T20:21:59.307Z"
   },
   {
    "duration": 5,
    "start_time": "2024-08-12T20:21:59.608Z"
   },
   {
    "duration": 23,
    "start_time": "2024-08-12T20:21:59.836Z"
   },
   {
    "duration": 15,
    "start_time": "2024-08-12T20:22:00.828Z"
   },
   {
    "duration": 12,
    "start_time": "2024-08-12T20:22:02.383Z"
   },
   {
    "duration": 19,
    "start_time": "2024-08-12T20:24:24.145Z"
   },
   {
    "duration": 27,
    "start_time": "2024-08-12T20:25:04.081Z"
   },
   {
    "duration": 41,
    "start_time": "2024-08-12T20:26:16.238Z"
   },
   {
    "duration": 29,
    "start_time": "2024-08-12T20:26:50.979Z"
   },
   {
    "duration": 35,
    "start_time": "2024-08-12T20:27:44.060Z"
   },
   {
    "duration": 5282,
    "start_time": "2024-08-12T23:51:07.639Z"
   },
   {
    "duration": 44,
    "start_time": "2024-08-12T23:51:12.925Z"
   },
   {
    "duration": 3254,
    "start_time": "2024-08-12T23:51:12.971Z"
   },
   {
    "duration": 16,
    "start_time": "2024-08-12T23:51:16.228Z"
   },
   {
    "duration": 15,
    "start_time": "2024-08-12T23:51:16.248Z"
   },
   {
    "duration": 6,
    "start_time": "2024-08-12T23:51:16.266Z"
   },
   {
    "duration": 15,
    "start_time": "2024-08-12T23:51:16.275Z"
   },
   {
    "duration": 8,
    "start_time": "2024-08-12T23:51:16.332Z"
   },
   {
    "duration": 970,
    "start_time": "2024-08-12T23:51:18.893Z"
   },
   {
    "duration": 12,
    "start_time": "2024-08-12T23:51:21.224Z"
   },
   {
    "duration": 10,
    "start_time": "2024-08-12T23:51:22.055Z"
   },
   {
    "duration": 7,
    "start_time": "2024-08-12T23:51:22.768Z"
   },
   {
    "duration": 831,
    "start_time": "2024-08-12T23:51:23.760Z"
   },
   {
    "duration": 14,
    "start_time": "2024-08-12T23:51:24.595Z"
   },
   {
    "duration": 10,
    "start_time": "2024-08-12T23:51:24.612Z"
   },
   {
    "duration": 7,
    "start_time": "2024-08-12T23:51:24.625Z"
   },
   {
    "duration": 1806,
    "start_time": "2024-08-12T23:51:25.175Z"
   },
   {
    "duration": 15,
    "start_time": "2024-08-12T23:51:26.984Z"
   },
   {
    "duration": 11,
    "start_time": "2024-08-12T23:51:27.002Z"
   },
   {
    "duration": 8,
    "start_time": "2024-08-12T23:51:27.017Z"
   },
   {
    "duration": 1113,
    "start_time": "2024-08-12T23:51:27.028Z"
   },
   {
    "duration": 14,
    "start_time": "2024-08-12T23:51:28.144Z"
   },
   {
    "duration": 12,
    "start_time": "2024-08-12T23:51:28.162Z"
   },
   {
    "duration": 10,
    "start_time": "2024-08-12T23:51:28.177Z"
   },
   {
    "duration": 46,
    "start_time": "2024-08-12T23:51:28.191Z"
   },
   {
    "duration": 21,
    "start_time": "2024-08-12T23:51:28.630Z"
   },
   {
    "duration": 19,
    "start_time": "2024-08-12T23:51:28.826Z"
   },
   {
    "duration": 22,
    "start_time": "2024-08-12T23:51:29.240Z"
   },
   {
    "duration": 5,
    "start_time": "2024-08-12T23:51:29.518Z"
   },
   {
    "duration": 5,
    "start_time": "2024-08-12T23:51:29.759Z"
   },
   {
    "duration": 16,
    "start_time": "2024-08-12T23:51:30.057Z"
   },
   {
    "duration": 31,
    "start_time": "2024-08-12T23:51:30.650Z"
   },
   {
    "duration": 17,
    "start_time": "2024-08-12T23:51:30.767Z"
   },
   {
    "duration": 5,
    "start_time": "2024-08-12T23:51:31.141Z"
   },
   {
    "duration": 9,
    "start_time": "2024-08-12T23:51:31.241Z"
   },
   {
    "duration": 11,
    "start_time": "2024-08-12T23:51:31.527Z"
   },
   {
    "duration": 4,
    "start_time": "2024-08-12T23:51:31.934Z"
   },
   {
    "duration": 26,
    "start_time": "2024-08-12T23:51:32.527Z"
   },
   {
    "duration": 15,
    "start_time": "2024-08-12T23:51:33.072Z"
   },
   {
    "duration": 12,
    "start_time": "2024-08-12T23:51:33.879Z"
   },
   {
    "duration": 8,
    "start_time": "2024-08-13T00:00:02.883Z"
   },
   {
    "duration": 574,
    "start_time": "2024-08-13T00:01:09.693Z"
   },
   {
    "duration": 1861,
    "start_time": "2024-08-13T00:04:00.026Z"
   },
   {
    "duration": 7,
    "start_time": "2024-08-13T00:04:43.880Z"
   },
   {
    "duration": 1113,
    "start_time": "2024-08-13T00:05:01.705Z"
   },
   {
    "duration": 1114,
    "start_time": "2024-08-13T00:05:42.982Z"
   },
   {
    "duration": 1112,
    "start_time": "2024-08-13T00:06:53.167Z"
   },
   {
    "duration": 1054,
    "start_time": "2024-08-13T00:11:02.849Z"
   },
   {
    "duration": 1039,
    "start_time": "2024-08-13T00:12:20.285Z"
   },
   {
    "duration": 1040,
    "start_time": "2024-08-13T00:14:01.233Z"
   },
   {
    "duration": 5,
    "start_time": "2024-08-13T00:14:24.497Z"
   },
   {
    "duration": 6,
    "start_time": "2024-08-13T00:14:25.778Z"
   },
   {
    "duration": 2873,
    "start_time": "2024-08-13T00:14:26.579Z"
   },
   {
    "duration": 16,
    "start_time": "2024-08-13T00:14:29.456Z"
   },
   {
    "duration": 12,
    "start_time": "2024-08-13T00:14:29.475Z"
   },
   {
    "duration": 5,
    "start_time": "2024-08-13T00:14:30.504Z"
   },
   {
    "duration": 15,
    "start_time": "2024-08-13T00:14:31.193Z"
   },
   {
    "duration": 8,
    "start_time": "2024-08-13T00:14:31.911Z"
   },
   {
    "duration": 872,
    "start_time": "2024-08-13T00:14:33.087Z"
   },
   {
    "duration": 13,
    "start_time": "2024-08-13T00:14:33.962Z"
   },
   {
    "duration": 10,
    "start_time": "2024-08-13T00:14:33.979Z"
   },
   {
    "duration": 6,
    "start_time": "2024-08-13T00:14:34.294Z"
   },
   {
    "duration": 747,
    "start_time": "2024-08-13T00:14:34.917Z"
   },
   {
    "duration": 16,
    "start_time": "2024-08-13T00:14:35.671Z"
   },
   {
    "duration": 12,
    "start_time": "2024-08-13T00:14:35.690Z"
   },
   {
    "duration": 7,
    "start_time": "2024-08-13T00:14:36.289Z"
   },
   {
    "duration": 1623,
    "start_time": "2024-08-13T00:14:37.307Z"
   },
   {
    "duration": 15,
    "start_time": "2024-08-13T00:14:38.933Z"
   },
   {
    "duration": 11,
    "start_time": "2024-08-13T00:14:38.951Z"
   },
   {
    "duration": 10,
    "start_time": "2024-08-13T00:14:38.966Z"
   },
   {
    "duration": 1123,
    "start_time": "2024-08-13T00:14:39.481Z"
   },
   {
    "duration": 14,
    "start_time": "2024-08-13T00:14:40.608Z"
   },
   {
    "duration": 11,
    "start_time": "2024-08-13T00:14:40.684Z"
   },
   {
    "duration": 9,
    "start_time": "2024-08-13T00:14:41.780Z"
   },
   {
    "duration": 11,
    "start_time": "2024-08-13T00:14:42.907Z"
   },
   {
    "duration": 998,
    "start_time": "2024-08-13T00:14:44.191Z"
   },
   {
    "duration": 21,
    "start_time": "2024-08-13T00:14:46.212Z"
   },
   {
    "duration": 17,
    "start_time": "2024-08-13T00:14:47.935Z"
   },
   {
    "duration": 5,
    "start_time": "2024-08-13T00:14:48.963Z"
   },
   {
    "duration": 965,
    "start_time": "2024-08-13T00:14:49.641Z"
   },
   {
    "duration": 951,
    "start_time": "2024-08-13T00:15:45.124Z"
   },
   {
    "duration": 747,
    "start_time": "2024-08-13T00:17:02.665Z"
   },
   {
    "duration": 5,
    "start_time": "2024-08-13T00:17:17.452Z"
   },
   {
    "duration": 5,
    "start_time": "2024-08-13T00:17:17.691Z"
   },
   {
    "duration": 3066,
    "start_time": "2024-08-13T00:17:17.899Z"
   },
   {
    "duration": 14,
    "start_time": "2024-08-13T00:17:20.968Z"
   },
   {
    "duration": 14,
    "start_time": "2024-08-13T00:17:20.985Z"
   },
   {
    "duration": 5,
    "start_time": "2024-08-13T00:17:21.004Z"
   },
   {
    "duration": 23,
    "start_time": "2024-08-13T00:17:21.012Z"
   },
   {
    "duration": 10,
    "start_time": "2024-08-13T00:17:21.040Z"
   },
   {
    "duration": 801,
    "start_time": "2024-08-13T00:17:21.053Z"
   },
   {
    "duration": 14,
    "start_time": "2024-08-13T00:17:21.856Z"
   },
   {
    "duration": 9,
    "start_time": "2024-08-13T00:17:21.873Z"
   },
   {
    "duration": 7,
    "start_time": "2024-08-13T00:17:21.888Z"
   },
   {
    "duration": 805,
    "start_time": "2024-08-13T00:17:21.898Z"
   },
   {
    "duration": 14,
    "start_time": "2024-08-13T00:17:22.705Z"
   },
   {
    "duration": 14,
    "start_time": "2024-08-13T00:17:22.721Z"
   },
   {
    "duration": 7,
    "start_time": "2024-08-13T00:17:22.741Z"
   },
   {
    "duration": 1342,
    "start_time": "2024-08-13T00:17:22.752Z"
   },
   {
    "duration": 14,
    "start_time": "2024-08-13T00:17:24.096Z"
   },
   {
    "duration": 11,
    "start_time": "2024-08-13T00:17:24.115Z"
   },
   {
    "duration": 9,
    "start_time": "2024-08-13T00:17:24.129Z"
   },
   {
    "duration": 1028,
    "start_time": "2024-08-13T00:17:24.140Z"
   },
   {
    "duration": 15,
    "start_time": "2024-08-13T00:17:25.171Z"
   },
   {
    "duration": 11,
    "start_time": "2024-08-13T00:17:25.189Z"
   },
   {
    "duration": 9,
    "start_time": "2024-08-13T00:17:25.230Z"
   },
   {
    "duration": 12,
    "start_time": "2024-08-13T00:17:25.242Z"
   },
   {
    "duration": 808,
    "start_time": "2024-08-13T00:17:25.258Z"
   },
   {
    "duration": 19,
    "start_time": "2024-08-13T00:17:26.981Z"
   },
   {
    "duration": 16,
    "start_time": "2024-08-13T00:17:27.465Z"
   },
   {
    "duration": 5,
    "start_time": "2024-08-13T00:17:27.803Z"
   },
   {
    "duration": 800,
    "start_time": "2024-08-13T00:17:28.703Z"
   },
   {
    "duration": 799,
    "start_time": "2024-08-13T00:17:52.988Z"
   },
   {
    "duration": 1000,
    "start_time": "2024-08-13T00:19:04.043Z"
   },
   {
    "duration": 1006,
    "start_time": "2024-08-13T00:19:37.504Z"
   },
   {
    "duration": 1004,
    "start_time": "2024-08-13T00:20:33.851Z"
   },
   {
    "duration": 798,
    "start_time": "2024-08-13T00:20:56.224Z"
   },
   {
    "duration": 5,
    "start_time": "2024-08-13T00:25:42.811Z"
   },
   {
    "duration": 5,
    "start_time": "2024-08-13T00:25:43.051Z"
   },
   {
    "duration": 2847,
    "start_time": "2024-08-13T00:25:43.299Z"
   },
   {
    "duration": 13,
    "start_time": "2024-08-13T00:25:46.150Z"
   },
   {
    "duration": 14,
    "start_time": "2024-08-13T00:25:46.166Z"
   },
   {
    "duration": 5,
    "start_time": "2024-08-13T00:25:46.185Z"
   },
   {
    "duration": 42,
    "start_time": "2024-08-13T00:25:46.193Z"
   },
   {
    "duration": 9,
    "start_time": "2024-08-13T00:25:46.238Z"
   },
   {
    "duration": 778,
    "start_time": "2024-08-13T00:25:46.250Z"
   },
   {
    "duration": 14,
    "start_time": "2024-08-13T00:25:47.031Z"
   },
   {
    "duration": 10,
    "start_time": "2024-08-13T00:25:47.048Z"
   },
   {
    "duration": 7,
    "start_time": "2024-08-13T00:25:47.063Z"
   },
   {
    "duration": 783,
    "start_time": "2024-08-13T00:25:47.073Z"
   },
   {
    "duration": 13,
    "start_time": "2024-08-13T00:25:47.859Z"
   },
   {
    "duration": 10,
    "start_time": "2024-08-13T00:25:47.876Z"
   },
   {
    "duration": 7,
    "start_time": "2024-08-13T00:25:47.890Z"
   },
   {
    "duration": 1175,
    "start_time": "2024-08-13T00:25:47.900Z"
   },
   {
    "duration": 15,
    "start_time": "2024-08-13T00:25:49.078Z"
   },
   {
    "duration": 11,
    "start_time": "2024-08-13T00:25:49.098Z"
   },
   {
    "duration": 10,
    "start_time": "2024-08-13T00:25:50.049Z"
   },
   {
    "duration": 1300,
    "start_time": "2024-08-13T00:25:50.732Z"
   },
   {
    "duration": 16,
    "start_time": "2024-08-13T00:25:52.035Z"
   },
   {
    "duration": 13,
    "start_time": "2024-08-13T00:25:52.055Z"
   },
   {
    "duration": 10,
    "start_time": "2024-08-13T00:25:52.073Z"
   },
   {
    "duration": 54,
    "start_time": "2024-08-13T00:25:52.086Z"
   },
   {
    "duration": 782,
    "start_time": "2024-08-13T00:25:52.145Z"
   },
   {
    "duration": 22,
    "start_time": "2024-08-13T00:25:52.930Z"
   },
   {
    "duration": 16,
    "start_time": "2024-08-13T00:25:52.955Z"
   },
   {
    "duration": 5,
    "start_time": "2024-08-13T00:25:52.974Z"
   },
   {
    "duration": 777,
    "start_time": "2024-08-13T00:25:52.982Z"
   },
   {
    "duration": 5,
    "start_time": "2024-08-13T00:25:53.763Z"
   },
   {
    "duration": 18,
    "start_time": "2024-08-13T00:25:53.770Z"
   },
   {
    "duration": 41,
    "start_time": "2024-08-13T00:25:53.791Z"
   },
   {
    "duration": 19,
    "start_time": "2024-08-13T00:25:53.911Z"
   },
   {
    "duration": 5,
    "start_time": "2024-08-13T00:25:54.124Z"
   },
   {
    "duration": 5,
    "start_time": "2024-08-13T00:25:54.363Z"
   },
   {
    "duration": 10,
    "start_time": "2024-08-13T00:25:54.917Z"
   },
   {
    "duration": 5,
    "start_time": "2024-08-13T00:25:55.029Z"
   },
   {
    "duration": 23,
    "start_time": "2024-08-13T00:25:55.407Z"
   },
   {
    "duration": 15,
    "start_time": "2024-08-13T00:25:55.608Z"
   },
   {
    "duration": 13,
    "start_time": "2024-08-13T00:25:56.126Z"
   },
   {
    "duration": 6,
    "start_time": "2024-08-13T00:26:31.953Z"
   },
   {
    "duration": 777,
    "start_time": "2024-08-13T00:26:56.768Z"
   },
   {
    "duration": 3,
    "start_time": "2024-08-13T00:27:42.675Z"
   },
   {
    "duration": 3,
    "start_time": "2024-08-13T00:27:56.394Z"
   },
   {
    "duration": 4,
    "start_time": "2024-08-13T00:28:23.231Z"
   },
   {
    "duration": 4,
    "start_time": "2024-08-13T00:28:52.996Z"
   },
   {
    "duration": 5,
    "start_time": "2024-08-13T00:31:04.898Z"
   },
   {
    "duration": 1277,
    "start_time": "2024-08-13T00:32:29.155Z"
   },
   {
    "duration": 11,
    "start_time": "2024-08-13T00:33:17.325Z"
   },
   {
    "duration": 14,
    "start_time": "2024-08-13T00:33:50.503Z"
   },
   {
    "duration": 4,
    "start_time": "2024-08-13T00:33:51.050Z"
   },
   {
    "duration": 5,
    "start_time": "2024-08-13T00:33:51.722Z"
   },
   {
    "duration": 864,
    "start_time": "2024-08-13T00:33:53.215Z"
   },
   {
    "duration": 21,
    "start_time": "2024-08-13T00:34:43.626Z"
   },
   {
    "duration": 18,
    "start_time": "2024-08-13T00:34:45.299Z"
   },
   {
    "duration": 4,
    "start_time": "2024-08-13T00:34:50.551Z"
   },
   {
    "duration": 4,
    "start_time": "2024-08-13T00:34:52.994Z"
   },
   {
    "duration": 6,
    "start_time": "2024-08-13T00:34:53.867Z"
   },
   {
    "duration": 16,
    "start_time": "2024-08-13T00:34:55.122Z"
   },
   {
    "duration": 30,
    "start_time": "2024-08-13T00:34:56.147Z"
   },
   {
    "duration": 1075,
    "start_time": "2024-08-13T00:34:57.871Z"
   },
   {
    "duration": 13,
    "start_time": "2024-08-13T00:35:41.547Z"
   },
   {
    "duration": 97,
    "start_time": "2024-08-13T00:35:53.450Z"
   },
   {
    "duration": 21,
    "start_time": "2024-08-13T00:36:04.281Z"
   },
   {
    "duration": 17,
    "start_time": "2024-08-13T00:36:05.406Z"
   },
   {
    "duration": 4,
    "start_time": "2024-08-13T00:36:13.059Z"
   },
   {
    "duration": 15,
    "start_time": "2024-08-13T00:36:25.837Z"
   },
   {
    "duration": 7,
    "start_time": "2024-08-13T00:36:31.699Z"
   },
   {
    "duration": 5,
    "start_time": "2024-08-13T00:36:33.218Z"
   },
   {
    "duration": 1075,
    "start_time": "2024-08-13T00:36:46.080Z"
   },
   {
    "duration": 20,
    "start_time": "2024-08-13T00:37:12.494Z"
   },
   {
    "duration": 19,
    "start_time": "2024-08-13T00:37:13.596Z"
   },
   {
    "duration": 1074,
    "start_time": "2024-08-13T00:37:22.827Z"
   },
   {
    "duration": 19,
    "start_time": "2024-08-13T00:37:41.730Z"
   },
   {
    "duration": 6,
    "start_time": "2024-08-13T00:38:50.517Z"
   },
   {
    "duration": 7,
    "start_time": "2024-08-13T00:38:50.753Z"
   },
   {
    "duration": 3160,
    "start_time": "2024-08-13T00:38:50.832Z"
   },
   {
    "duration": 13,
    "start_time": "2024-08-13T00:38:53.996Z"
   },
   {
    "duration": 13,
    "start_time": "2024-08-13T00:38:54.012Z"
   },
   {
    "duration": 6,
    "start_time": "2024-08-13T00:38:54.030Z"
   },
   {
    "duration": 16,
    "start_time": "2024-08-13T00:38:54.040Z"
   },
   {
    "duration": 11,
    "start_time": "2024-08-13T00:38:54.060Z"
   },
   {
    "duration": 828,
    "start_time": "2024-08-13T00:38:54.074Z"
   },
   {
    "duration": 14,
    "start_time": "2024-08-13T00:38:54.905Z"
   },
   {
    "duration": 9,
    "start_time": "2024-08-13T00:38:54.922Z"
   },
   {
    "duration": 6,
    "start_time": "2024-08-13T00:38:54.936Z"
   },
   {
    "duration": 827,
    "start_time": "2024-08-13T00:38:54.945Z"
   },
   {
    "duration": 16,
    "start_time": "2024-08-13T00:38:55.775Z"
   },
   {
    "duration": 11,
    "start_time": "2024-08-13T00:38:55.794Z"
   },
   {
    "duration": 7,
    "start_time": "2024-08-13T00:38:55.808Z"
   },
   {
    "duration": 1250,
    "start_time": "2024-08-13T00:38:55.818Z"
   },
   {
    "duration": 18,
    "start_time": "2024-08-13T00:38:57.070Z"
   },
   {
    "duration": 12,
    "start_time": "2024-08-13T00:38:57.093Z"
   },
   {
    "duration": 10,
    "start_time": "2024-08-13T00:38:57.112Z"
   },
   {
    "duration": 970,
    "start_time": "2024-08-13T00:38:57.130Z"
   },
   {
    "duration": 15,
    "start_time": "2024-08-13T00:38:58.103Z"
   },
   {
    "duration": 15,
    "start_time": "2024-08-13T00:38:58.121Z"
   },
   {
    "duration": 11,
    "start_time": "2024-08-13T00:38:58.140Z"
   },
   {
    "duration": 14,
    "start_time": "2024-08-13T00:38:58.154Z"
   },
   {
    "duration": 832,
    "start_time": "2024-08-13T00:38:58.170Z"
   },
   {
    "duration": 23,
    "start_time": "2024-08-13T00:38:59.004Z"
   },
   {
    "duration": 19,
    "start_time": "2024-08-13T00:38:59.032Z"
   },
   {
    "duration": 4,
    "start_time": "2024-08-13T00:38:59.056Z"
   },
   {
    "duration": 6,
    "start_time": "2024-08-13T00:38:59.064Z"
   },
   {
    "duration": 6,
    "start_time": "2024-08-13T00:38:59.073Z"
   },
   {
    "duration": 58,
    "start_time": "2024-08-13T00:38:59.082Z"
   },
   {
    "duration": 28,
    "start_time": "2024-08-13T00:38:59.145Z"
   },
   {
    "duration": 871,
    "start_time": "2024-08-13T00:38:59.175Z"
   },
   {
    "duration": 0,
    "start_time": "2024-08-13T00:39:00.049Z"
   },
   {
    "duration": 0,
    "start_time": "2024-08-13T00:39:00.052Z"
   },
   {
    "duration": 0,
    "start_time": "2024-08-13T00:39:00.054Z"
   },
   {
    "duration": 0,
    "start_time": "2024-08-13T00:39:00.056Z"
   },
   {
    "duration": 0,
    "start_time": "2024-08-13T00:39:00.059Z"
   },
   {
    "duration": 0,
    "start_time": "2024-08-13T00:39:00.060Z"
   },
   {
    "duration": 15,
    "start_time": "2024-08-13T00:39:00.123Z"
   },
   {
    "duration": 13,
    "start_time": "2024-08-13T00:39:00.488Z"
   },
   {
    "duration": 22,
    "start_time": "2024-08-13T00:39:42.453Z"
   },
   {
    "duration": 15,
    "start_time": "2024-08-13T00:40:09.905Z"
   },
   {
    "duration": 1141,
    "start_time": "2024-08-13T00:40:12.315Z"
   },
   {
    "duration": 1142,
    "start_time": "2024-08-13T00:40:31.602Z"
   },
   {
    "duration": 1144,
    "start_time": "2024-08-13T00:40:44.815Z"
   },
   {
    "duration": 1031,
    "start_time": "2024-08-13T00:41:03.542Z"
   },
   {
    "duration": 1028,
    "start_time": "2024-08-13T00:41:22.931Z"
   },
   {
    "duration": 21,
    "start_time": "2024-08-13T00:41:50.553Z"
   },
   {
    "duration": 16,
    "start_time": "2024-08-13T00:41:51.328Z"
   },
   {
    "duration": 5,
    "start_time": "2024-08-13T00:41:51.934Z"
   },
   {
    "duration": 4,
    "start_time": "2024-08-13T00:41:52.473Z"
   },
   {
    "duration": 4,
    "start_time": "2024-08-13T00:41:52.899Z"
   },
   {
    "duration": 17,
    "start_time": "2024-08-13T00:41:54.084Z"
   },
   {
    "duration": 26,
    "start_time": "2024-08-13T00:41:55.162Z"
   },
   {
    "duration": 1044,
    "start_time": "2024-08-13T00:42:03.850Z"
   },
   {
    "duration": 1052,
    "start_time": "2024-08-13T00:42:31.004Z"
   },
   {
    "duration": 8,
    "start_time": "2024-08-13T00:43:38.007Z"
   },
   {
    "duration": 8,
    "start_time": "2024-08-13T00:43:57.868Z"
   },
   {
    "duration": 9,
    "start_time": "2024-08-13T00:44:19.494Z"
   },
   {
    "duration": 19,
    "start_time": "2024-08-13T00:44:38.610Z"
   },
   {
    "duration": 5,
    "start_time": "2024-08-13T00:45:20.169Z"
   },
   {
    "duration": 9,
    "start_time": "2024-08-13T00:45:20.378Z"
   },
   {
    "duration": 16,
    "start_time": "2024-08-13T00:45:20.639Z"
   },
   {
    "duration": 4,
    "start_time": "2024-08-13T00:45:20.763Z"
   },
   {
    "duration": 23,
    "start_time": "2024-08-13T00:45:21.114Z"
   },
   {
    "duration": 14,
    "start_time": "2024-08-13T00:45:21.310Z"
   },
   {
    "duration": 15,
    "start_time": "2024-08-13T00:45:21.896Z"
   },
   {
    "duration": 5,
    "start_time": "2024-08-13T00:47:27.511Z"
   },
   {
    "duration": 4,
    "start_time": "2024-08-13T00:48:05.305Z"
   },
   {
    "duration": 4,
    "start_time": "2024-08-13T00:50:09.761Z"
   },
   {
    "duration": 5,
    "start_time": "2024-08-13T00:50:33.709Z"
   },
   {
    "duration": 8,
    "start_time": "2024-08-13T00:50:39.233Z"
   },
   {
    "duration": 5,
    "start_time": "2024-08-13T00:50:50.857Z"
   },
   {
    "duration": 5290,
    "start_time": "2024-08-13T18:48:38.692Z"
   },
   {
    "duration": 52,
    "start_time": "2024-08-13T18:48:43.986Z"
   },
   {
    "duration": 2917,
    "start_time": "2024-08-13T18:48:44.040Z"
   },
   {
    "duration": 16,
    "start_time": "2024-08-13T18:48:46.961Z"
   },
   {
    "duration": 17,
    "start_time": "2024-08-13T18:48:46.980Z"
   },
   {
    "duration": 6,
    "start_time": "2024-08-13T18:48:47.001Z"
   },
   {
    "duration": 17,
    "start_time": "2024-08-13T18:48:47.011Z"
   },
   {
    "duration": 8,
    "start_time": "2024-08-13T18:48:48.265Z"
   },
   {
    "duration": 862,
    "start_time": "2024-08-13T18:48:48.926Z"
   },
   {
    "duration": 14,
    "start_time": "2024-08-13T18:48:49.792Z"
   },
   {
    "duration": 9,
    "start_time": "2024-08-13T18:48:49.810Z"
   },
   {
    "duration": 7,
    "start_time": "2024-08-13T18:48:50.154Z"
   },
   {
    "duration": 739,
    "start_time": "2024-08-13T18:48:51.076Z"
   },
   {
    "duration": 14,
    "start_time": "2024-08-13T18:48:51.818Z"
   },
   {
    "duration": 10,
    "start_time": "2024-08-13T18:48:51.939Z"
   },
   {
    "duration": 7,
    "start_time": "2024-08-13T18:48:52.116Z"
   },
   {
    "duration": 1606,
    "start_time": "2024-08-13T18:48:52.520Z"
   },
   {
    "duration": 17,
    "start_time": "2024-08-13T18:48:54.130Z"
   },
   {
    "duration": 11,
    "start_time": "2024-08-13T18:48:54.149Z"
   },
   {
    "duration": 8,
    "start_time": "2024-08-13T18:48:54.666Z"
   },
   {
    "duration": 1232,
    "start_time": "2024-08-13T18:48:55.444Z"
   },
   {
    "duration": 15,
    "start_time": "2024-08-13T18:48:56.679Z"
   },
   {
    "duration": 12,
    "start_time": "2024-08-13T18:48:56.698Z"
   },
   {
    "duration": 10,
    "start_time": "2024-08-13T18:48:56.720Z"
   },
   {
    "duration": 14,
    "start_time": "2024-08-13T18:48:58.051Z"
   },
   {
    "duration": 987,
    "start_time": "2024-08-13T18:48:59.844Z"
   },
   {
    "duration": 21,
    "start_time": "2024-08-13T18:49:01.439Z"
   },
   {
    "duration": 17,
    "start_time": "2024-08-13T18:49:02.978Z"
   },
   {
    "duration": 4,
    "start_time": "2024-08-13T18:49:03.952Z"
   },
   {
    "duration": 5,
    "start_time": "2024-08-13T18:49:04.762Z"
   },
   {
    "duration": 5,
    "start_time": "2024-08-13T18:49:05.906Z"
   },
   {
    "duration": 17,
    "start_time": "2024-08-13T18:49:06.972Z"
   },
   {
    "duration": 28,
    "start_time": "2024-08-13T18:49:07.886Z"
   },
   {
    "duration": 12,
    "start_time": "2024-08-13T18:49:09.977Z"
   },
   {
    "duration": 20,
    "start_time": "2024-08-13T18:49:11.670Z"
   },
   {
    "duration": 5,
    "start_time": "2024-08-13T18:49:12.349Z"
   },
   {
    "duration": 14,
    "start_time": "2024-08-13T18:49:13.023Z"
   },
   {
    "duration": 12,
    "start_time": "2024-08-13T18:49:13.714Z"
   },
   {
    "duration": 5,
    "start_time": "2024-08-13T18:49:14.461Z"
   },
   {
    "duration": 4,
    "start_time": "2024-08-13T18:49:15.972Z"
   },
   {
    "duration": 23,
    "start_time": "2024-08-13T18:49:17.047Z"
   },
   {
    "duration": 14,
    "start_time": "2024-08-13T18:49:17.893Z"
   },
   {
    "duration": 6,
    "start_time": "2024-08-13T18:49:19.502Z"
   },
   {
    "duration": 14,
    "start_time": "2024-08-13T18:49:26.389Z"
   },
   {
    "duration": 6,
    "start_time": "2024-08-13T19:03:16.602Z"
   },
   {
    "duration": 8,
    "start_time": "2024-08-13T19:03:33.582Z"
   },
   {
    "duration": 6,
    "start_time": "2024-08-13T19:03:43.313Z"
   },
   {
    "duration": 441,
    "start_time": "2024-08-13T19:05:22.735Z"
   },
   {
    "duration": 7,
    "start_time": "2024-08-13T19:05:33.555Z"
   },
   {
    "duration": 13,
    "start_time": "2024-08-13T19:06:53.507Z"
   },
   {
    "duration": 853,
    "start_time": "2024-08-13T19:09:35.204Z"
   },
   {
    "duration": 22,
    "start_time": "2024-08-13T19:10:34.138Z"
   },
   {
    "duration": 15,
    "start_time": "2024-08-13T19:10:35.201Z"
   },
   {
    "duration": 82,
    "start_time": "2024-08-13T19:10:36.837Z"
   },
   {
    "duration": 8,
    "start_time": "2024-08-13T19:10:52.500Z"
   },
   {
    "duration": 7,
    "start_time": "2024-08-13T19:11:06.205Z"
   },
   {
    "duration": 15,
    "start_time": "2024-08-13T19:12:50.531Z"
   },
   {
    "duration": 472,
    "start_time": "2024-08-13T19:12:58.077Z"
   },
   {
    "duration": 14,
    "start_time": "2024-08-13T19:13:12.617Z"
   },
   {
    "duration": 13,
    "start_time": "2024-08-13T19:14:17.062Z"
   },
   {
    "duration": 14,
    "start_time": "2024-08-13T19:14:23.482Z"
   },
   {
    "duration": 7,
    "start_time": "2024-08-13T19:15:02.678Z"
   },
   {
    "duration": 6,
    "start_time": "2024-08-13T19:15:07.557Z"
   },
   {
    "duration": 12,
    "start_time": "2024-08-13T19:15:52.626Z"
   },
   {
    "duration": 8,
    "start_time": "2024-08-13T19:17:39.523Z"
   },
   {
    "duration": 9,
    "start_time": "2024-08-13T19:17:49.600Z"
   },
   {
    "duration": 8,
    "start_time": "2024-08-13T19:18:42.442Z"
   },
   {
    "duration": 4,
    "start_time": "2024-08-13T19:18:53.342Z"
   },
   {
    "duration": 5,
    "start_time": "2024-08-13T19:19:07.495Z"
   },
   {
    "duration": 5,
    "start_time": "2024-08-13T19:20:29.169Z"
   },
   {
    "duration": 5,
    "start_time": "2024-08-13T19:20:40.963Z"
   },
   {
    "duration": 7,
    "start_time": "2024-08-13T19:21:11.691Z"
   },
   {
    "duration": 7,
    "start_time": "2024-08-13T19:21:25.408Z"
   },
   {
    "duration": 6,
    "start_time": "2024-08-13T19:21:31.583Z"
   },
   {
    "duration": 15,
    "start_time": "2024-08-13T19:22:13.750Z"
   },
   {
    "duration": 9,
    "start_time": "2024-08-13T19:22:32.517Z"
   },
   {
    "duration": 10,
    "start_time": "2024-08-13T19:23:04.402Z"
   },
   {
    "duration": 90,
    "start_time": "2024-08-13T19:23:23.749Z"
   },
   {
    "duration": 13,
    "start_time": "2024-08-13T19:23:47.394Z"
   },
   {
    "duration": 13,
    "start_time": "2024-08-13T19:24:28.213Z"
   },
   {
    "duration": 5,
    "start_time": "2024-08-13T19:25:14.942Z"
   },
   {
    "duration": 5,
    "start_time": "2024-08-13T19:25:15.168Z"
   },
   {
    "duration": 3167,
    "start_time": "2024-08-13T19:25:15.251Z"
   },
   {
    "duration": 18,
    "start_time": "2024-08-13T19:25:18.421Z"
   },
   {
    "duration": 13,
    "start_time": "2024-08-13T19:25:18.448Z"
   },
   {
    "duration": 5,
    "start_time": "2024-08-13T19:25:18.465Z"
   },
   {
    "duration": 47,
    "start_time": "2024-08-13T19:25:18.473Z"
   },
   {
    "duration": 9,
    "start_time": "2024-08-13T19:25:18.523Z"
   },
   {
    "duration": 830,
    "start_time": "2024-08-13T19:25:18.534Z"
   },
   {
    "duration": 13,
    "start_time": "2024-08-13T19:25:19.367Z"
   },
   {
    "duration": 11,
    "start_time": "2024-08-13T19:25:19.384Z"
   },
   {
    "duration": 7,
    "start_time": "2024-08-13T19:25:19.400Z"
   },
   {
    "duration": 828,
    "start_time": "2024-08-13T19:25:19.410Z"
   },
   {
    "duration": 13,
    "start_time": "2024-08-13T19:25:20.241Z"
   },
   {
    "duration": 10,
    "start_time": "2024-08-13T19:25:55.953Z"
   },
   {
    "duration": 7,
    "start_time": "2024-08-13T19:25:55.979Z"
   },
   {
    "duration": 1704,
    "start_time": "2024-08-13T19:25:55.991Z"
   },
   {
    "duration": 14,
    "start_time": "2024-08-13T19:25:57.699Z"
   },
   {
    "duration": 11,
    "start_time": "2024-08-13T19:25:57.716Z"
   },
   {
    "duration": 10,
    "start_time": "2024-08-13T19:25:57.731Z"
   },
   {
    "duration": 1246,
    "start_time": "2024-08-13T19:25:57.744Z"
   },
   {
    "duration": 18,
    "start_time": "2024-08-13T19:25:58.995Z"
   },
   {
    "duration": 15,
    "start_time": "2024-08-13T19:25:59.021Z"
   },
   {
    "duration": 11,
    "start_time": "2024-08-13T19:25:59.040Z"
   },
   {
    "duration": 13,
    "start_time": "2024-08-13T19:25:59.054Z"
   },
   {
    "duration": 832,
    "start_time": "2024-08-13T19:25:59.112Z"
   },
   {
    "duration": 22,
    "start_time": "2024-08-13T19:25:59.948Z"
   },
   {
    "duration": 17,
    "start_time": "2024-08-13T19:25:59.973Z"
   },
   {
    "duration": 5,
    "start_time": "2024-08-13T19:25:59.994Z"
   },
   {
    "duration": 5,
    "start_time": "2024-08-13T19:26:00.012Z"
   },
   {
    "duration": 6,
    "start_time": "2024-08-13T19:26:00.020Z"
   },
   {
    "duration": 18,
    "start_time": "2024-08-13T19:26:00.030Z"
   },
   {
    "duration": 70,
    "start_time": "2024-08-13T19:26:00.050Z"
   },
   {
    "duration": 8,
    "start_time": "2024-08-13T19:26:00.125Z"
   },
   {
    "duration": 18,
    "start_time": "2024-08-13T19:26:00.137Z"
   },
   {
    "duration": 6,
    "start_time": "2024-08-13T19:26:00.158Z"
   },
   {
    "duration": 47,
    "start_time": "2024-08-13T19:26:00.167Z"
   },
   {
    "duration": 23,
    "start_time": "2024-08-13T19:26:00.257Z"
   },
   {
    "duration": 14,
    "start_time": "2024-08-13T19:26:00.615Z"
   },
   {
    "duration": 4,
    "start_time": "2024-08-13T19:26:01.130Z"
   },
   {
    "duration": 827,
    "start_time": "2024-08-13T19:30:06.615Z"
   },
   {
    "duration": 829,
    "start_time": "2024-08-13T19:30:18.402Z"
   },
   {
    "duration": 1648,
    "start_time": "2024-08-13T19:31:16.314Z"
   },
   {
    "duration": 23,
    "start_time": "2024-08-13T19:31:35.781Z"
   },
   {
    "duration": 18,
    "start_time": "2024-08-13T19:31:36.543Z"
   },
   {
    "duration": 4,
    "start_time": "2024-08-13T19:31:37.494Z"
   },
   {
    "duration": 1034,
    "start_time": "2024-08-13T19:31:38.487Z"
   },
   {
    "duration": 1173,
    "start_time": "2024-08-13T19:32:10.494Z"
   },
   {
    "duration": 362,
    "start_time": "2024-08-13T19:33:21.222Z"
   },
   {
    "duration": 19,
    "start_time": "2024-08-13T19:33:36.529Z"
   },
   {
    "duration": 830,
    "start_time": "2024-08-13T19:33:49.307Z"
   },
   {
    "duration": 5156,
    "start_time": "2024-08-13T20:06:13.045Z"
   },
   {
    "duration": 56,
    "start_time": "2024-08-13T20:06:18.205Z"
   },
   {
    "duration": 2795,
    "start_time": "2024-08-13T20:06:18.264Z"
   },
   {
    "duration": 15,
    "start_time": "2024-08-13T20:06:21.063Z"
   },
   {
    "duration": 16,
    "start_time": "2024-08-13T20:06:21.081Z"
   },
   {
    "duration": 6,
    "start_time": "2024-08-13T20:06:21.099Z"
   },
   {
    "duration": 27,
    "start_time": "2024-08-13T20:06:21.110Z"
   },
   {
    "duration": 9,
    "start_time": "2024-08-13T20:06:21.139Z"
   },
   {
    "duration": 724,
    "start_time": "2024-08-13T20:06:21.151Z"
   },
   {
    "duration": 13,
    "start_time": "2024-08-13T20:06:21.880Z"
   },
   {
    "duration": 9,
    "start_time": "2024-08-13T20:06:21.896Z"
   },
   {
    "duration": 8,
    "start_time": "2024-08-13T20:06:21.908Z"
   },
   {
    "duration": 725,
    "start_time": "2024-08-13T20:06:21.918Z"
   },
   {
    "duration": 15,
    "start_time": "2024-08-13T20:06:22.646Z"
   },
   {
    "duration": 10,
    "start_time": "2024-08-13T20:06:22.664Z"
   },
   {
    "duration": 11,
    "start_time": "2024-08-13T20:06:22.676Z"
   },
   {
    "duration": 1281,
    "start_time": "2024-08-13T20:06:22.690Z"
   },
   {
    "duration": 17,
    "start_time": "2024-08-13T20:06:23.973Z"
   },
   {
    "duration": 11,
    "start_time": "2024-08-13T20:06:23.992Z"
   },
   {
    "duration": 9,
    "start_time": "2024-08-13T20:06:24.007Z"
   },
   {
    "duration": 850,
    "start_time": "2024-08-13T20:06:24.019Z"
   },
   {
    "duration": 14,
    "start_time": "2024-08-13T20:06:24.872Z"
   },
   {
    "duration": 11,
    "start_time": "2024-08-13T20:06:24.888Z"
   },
   {
    "duration": 9,
    "start_time": "2024-08-13T20:06:24.903Z"
   },
   {
    "duration": 15,
    "start_time": "2024-08-13T20:06:24.917Z"
   },
   {
    "duration": 730,
    "start_time": "2024-08-13T20:06:24.935Z"
   },
   {
    "duration": 24,
    "start_time": "2024-08-13T20:06:25.668Z"
   },
   {
    "duration": 18,
    "start_time": "2024-08-13T20:06:25.700Z"
   },
   {
    "duration": 4,
    "start_time": "2024-08-13T20:06:25.721Z"
   },
   {
    "duration": 6,
    "start_time": "2024-08-13T20:06:25.731Z"
   },
   {
    "duration": 741,
    "start_time": "2024-08-13T20:06:25.740Z"
   },
   {
    "duration": 6,
    "start_time": "2024-08-13T20:06:26.484Z"
   },
   {
    "duration": 18,
    "start_time": "2024-08-13T20:06:26.493Z"
   },
   {
    "duration": 26,
    "start_time": "2024-08-13T20:06:26.514Z"
   },
   {
    "duration": 9,
    "start_time": "2024-08-13T20:06:26.543Z"
   },
   {
    "duration": 19,
    "start_time": "2024-08-13T20:06:26.556Z"
   },
   {
    "duration": 5,
    "start_time": "2024-08-13T20:06:26.578Z"
   },
   {
    "duration": 47,
    "start_time": "2024-08-13T20:06:26.587Z"
   },
   {
    "duration": 23,
    "start_time": "2024-08-13T20:06:26.637Z"
   },
   {
    "duration": 16,
    "start_time": "2024-08-13T20:06:26.663Z"
   },
   {
    "duration": 6,
    "start_time": "2024-08-13T20:06:26.681Z"
   },
   {
    "duration": 726,
    "start_time": "2024-08-13T20:07:46.272Z"
   },
   {
    "duration": 14,
    "start_time": "2024-08-13T20:09:48.994Z"
   },
   {
    "duration": 12,
    "start_time": "2024-08-13T20:09:50.051Z"
   },
   {
    "duration": 8,
    "start_time": "2024-08-13T20:11:18.329Z"
   },
   {
    "duration": 728,
    "start_time": "2024-08-13T20:12:52.305Z"
   },
   {
    "duration": 725,
    "start_time": "2024-08-13T20:13:53.421Z"
   },
   {
    "duration": 726,
    "start_time": "2024-08-13T20:13:59.668Z"
   },
   {
    "duration": 728,
    "start_time": "2024-08-13T20:14:44.484Z"
   },
   {
    "duration": 5,
    "start_time": "2024-08-13T20:14:53.045Z"
   },
   {
    "duration": 16,
    "start_time": "2024-08-13T20:14:53.245Z"
   },
   {
    "duration": 29,
    "start_time": "2024-08-13T20:14:54.622Z"
   },
   {
    "duration": 7,
    "start_time": "2024-08-13T20:16:03.203Z"
   },
   {
    "duration": 2039,
    "start_time": "2024-08-13T20:16:37.883Z"
   },
   {
    "duration": 726,
    "start_time": "2024-08-13T20:16:53.337Z"
   },
   {
    "duration": 6,
    "start_time": "2024-08-13T20:18:24.122Z"
   },
   {
    "duration": 3,
    "start_time": "2024-08-13T20:18:51.678Z"
   },
   {
    "duration": 3,
    "start_time": "2024-08-13T20:19:29.704Z"
   },
   {
    "duration": 7,
    "start_time": "2024-08-13T20:19:59.275Z"
   },
   {
    "duration": 4,
    "start_time": "2024-08-13T20:20:17.789Z"
   },
   {
    "duration": 10,
    "start_time": "2024-08-13T20:20:27.336Z"
   },
   {
    "duration": 930,
    "start_time": "2024-08-13T20:20:55.616Z"
   },
   {
    "duration": 849,
    "start_time": "2024-08-13T20:21:43.644Z"
   },
   {
    "duration": 969,
    "start_time": "2024-08-13T20:22:58.590Z"
   },
   {
    "duration": 975,
    "start_time": "2024-08-13T20:23:08.378Z"
   },
   {
    "duration": 933,
    "start_time": "2024-08-13T20:24:01.908Z"
   },
   {
    "duration": 974,
    "start_time": "2024-08-13T20:24:10.205Z"
   },
   {
    "duration": 930,
    "start_time": "2024-08-13T20:25:16.792Z"
   },
   {
    "duration": 937,
    "start_time": "2024-08-13T20:25:37.584Z"
   },
   {
    "duration": 931,
    "start_time": "2024-08-13T20:26:20.352Z"
   },
   {
    "duration": 936,
    "start_time": "2024-08-13T20:26:37.286Z"
   },
   {
    "duration": 928,
    "start_time": "2024-08-13T20:28:25.996Z"
   },
   {
    "duration": 727,
    "start_time": "2024-08-13T20:28:35.233Z"
   },
   {
    "duration": 934,
    "start_time": "2024-08-13T20:29:09.702Z"
   },
   {
    "duration": 725,
    "start_time": "2024-08-13T20:30:24.803Z"
   },
   {
    "duration": 7,
    "start_time": "2024-08-13T20:31:30.158Z"
   },
   {
    "duration": 931,
    "start_time": "2024-08-13T20:31:40.099Z"
   },
   {
    "duration": 725,
    "start_time": "2024-08-13T20:33:43.065Z"
   },
   {
    "duration": 724,
    "start_time": "2024-08-13T20:33:55.413Z"
   },
   {
    "duration": 726,
    "start_time": "2024-08-13T20:34:42.475Z"
   },
   {
    "duration": 936,
    "start_time": "2024-08-13T20:37:10.798Z"
   },
   {
    "duration": 923,
    "start_time": "2024-08-13T20:38:24.659Z"
   },
   {
    "duration": 923,
    "start_time": "2024-08-13T20:39:03.991Z"
   },
   {
    "duration": 933,
    "start_time": "2024-08-13T20:40:45.887Z"
   },
   {
    "duration": 848,
    "start_time": "2024-08-13T20:41:05.355Z"
   },
   {
    "duration": 854,
    "start_time": "2024-08-13T20:41:23.936Z"
   },
   {
    "duration": 731,
    "start_time": "2024-08-13T20:42:54.874Z"
   },
   {
    "duration": 733,
    "start_time": "2024-08-13T20:44:38.376Z"
   },
   {
    "duration": 929,
    "start_time": "2024-08-13T20:45:27.342Z"
   },
   {
    "duration": 924,
    "start_time": "2024-08-13T20:45:54.567Z"
   },
   {
    "duration": 923,
    "start_time": "2024-08-13T20:46:12.915Z"
   },
   {
    "duration": 727,
    "start_time": "2024-08-13T20:46:30.436Z"
   },
   {
    "duration": 731,
    "start_time": "2024-08-13T20:47:25.020Z"
   },
   {
    "duration": 728,
    "start_time": "2024-08-13T20:48:23.659Z"
   },
   {
    "duration": 725,
    "start_time": "2024-08-13T20:48:35.782Z"
   },
   {
    "duration": 728,
    "start_time": "2024-08-13T20:48:58.692Z"
   },
   {
    "duration": 929,
    "start_time": "2024-08-13T20:52:38.654Z"
   },
   {
    "duration": 928,
    "start_time": "2024-08-13T20:53:16.338Z"
   },
   {
    "duration": 734,
    "start_time": "2024-08-13T20:53:46.555Z"
   },
   {
    "duration": 730,
    "start_time": "2024-08-13T20:54:04.198Z"
   },
   {
    "duration": 928,
    "start_time": "2024-08-13T20:54:40.283Z"
   },
   {
    "duration": 735,
    "start_time": "2024-08-13T20:54:59.085Z"
   },
   {
    "duration": 5348,
    "start_time": "2024-08-14T13:08:34.726Z"
   },
   {
    "duration": 53,
    "start_time": "2024-08-14T13:08:40.078Z"
   },
   {
    "duration": 2792,
    "start_time": "2024-08-14T13:08:40.134Z"
   },
   {
    "duration": 15,
    "start_time": "2024-08-14T13:08:42.931Z"
   },
   {
    "duration": 16,
    "start_time": "2024-08-14T13:08:42.950Z"
   },
   {
    "duration": 8,
    "start_time": "2024-08-14T13:08:42.969Z"
   },
   {
    "duration": 723,
    "start_time": "2024-08-14T13:08:42.980Z"
   },
   {
    "duration": 14,
    "start_time": "2024-08-14T13:08:43.706Z"
   },
   {
    "duration": 10,
    "start_time": "2024-08-14T13:08:43.723Z"
   },
   {
    "duration": 7,
    "start_time": "2024-08-14T13:08:43.740Z"
   },
   {
    "duration": 724,
    "start_time": "2024-08-14T13:08:43.750Z"
   },
   {
    "duration": 14,
    "start_time": "2024-08-14T13:08:44.477Z"
   },
   {
    "duration": 9,
    "start_time": "2024-08-14T13:08:44.495Z"
   },
   {
    "duration": 7,
    "start_time": "2024-08-14T13:08:44.508Z"
   },
   {
    "duration": 1097,
    "start_time": "2024-08-14T13:08:44.518Z"
   },
   {
    "duration": 14,
    "start_time": "2024-08-14T13:08:45.617Z"
   },
   {
    "duration": 11,
    "start_time": "2024-08-14T13:08:45.634Z"
   },
   {
    "duration": 8,
    "start_time": "2024-08-14T13:08:45.649Z"
   },
   {
    "duration": 849,
    "start_time": "2024-08-14T13:08:45.660Z"
   },
   {
    "duration": 14,
    "start_time": "2024-08-14T13:08:46.512Z"
   },
   {
    "duration": 11,
    "start_time": "2024-08-14T13:08:46.529Z"
   },
   {
    "duration": 9,
    "start_time": "2024-08-14T13:08:46.543Z"
   },
   {
    "duration": 726,
    "start_time": "2024-08-14T13:08:46.556Z"
   },
   {
    "duration": 724,
    "start_time": "2024-08-14T13:08:47.285Z"
   },
   {
    "duration": 3,
    "start_time": "2024-08-14T13:08:48.015Z"
   },
   {
    "duration": 737,
    "start_time": "2024-08-14T13:08:48.021Z"
   },
   {
    "duration": 2054,
    "start_time": "2024-08-14T13:21:13.328Z"
   },
   {
    "duration": 955,
    "start_time": "2024-08-14T13:22:15.770Z"
   },
   {
    "duration": 950,
    "start_time": "2024-08-14T13:22:32.822Z"
   },
   {
    "duration": 759,
    "start_time": "2024-08-14T13:23:27.166Z"
   },
   {
    "duration": 764,
    "start_time": "2024-08-14T13:29:31.672Z"
   },
   {
    "duration": 764,
    "start_time": "2024-08-14T13:30:46.014Z"
   },
   {
    "duration": 764,
    "start_time": "2024-08-14T13:30:55.330Z"
   },
   {
    "duration": 762,
    "start_time": "2024-08-14T13:31:01.206Z"
   },
   {
    "duration": 950,
    "start_time": "2024-08-14T13:36:10.636Z"
   },
   {
    "duration": 756,
    "start_time": "2024-08-14T13:36:26.178Z"
   },
   {
    "duration": 948,
    "start_time": "2024-08-14T13:45:08.379Z"
   },
   {
    "duration": 752,
    "start_time": "2024-08-14T13:45:56.539Z"
   },
   {
    "duration": 751,
    "start_time": "2024-08-14T13:47:28.971Z"
   },
   {
    "duration": 751,
    "start_time": "2024-08-14T13:48:32.968Z"
   },
   {
    "duration": 751,
    "start_time": "2024-08-14T13:50:55.258Z"
   }
  ],
  "kernelspec": {
   "display_name": "Python 3 (ipykernel)",
   "language": "python",
   "name": "python3"
  },
  "language_info": {
   "codemirror_mode": {
    "name": "ipython",
    "version": 3
   },
   "file_extension": ".py",
   "mimetype": "text/x-python",
   "name": "python",
   "nbconvert_exporter": "python",
   "pygments_lexer": "ipython3",
   "version": "3.11.5"
  },
  "toc": {
   "base_numbering": 1,
   "nav_menu": {},
   "number_sections": true,
   "sideBar": true,
   "skip_h1_title": true,
   "title_cell": "Table of Contents",
   "title_sidebar": "Contents",
   "toc_cell": false,
   "toc_position": {},
   "toc_section_display": true,
   "toc_window_display": false
  }
 },
 "nbformat": 4,
 "nbformat_minor": 2
}
