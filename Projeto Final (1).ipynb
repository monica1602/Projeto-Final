{
 "cells": [
  {
   "cell_type": "markdown",
   "metadata": {},
   "source": [
    "# Projeto Final"
   ]
  },
  {
   "cell_type": "code",
   "execution_count": 175,
   "metadata": {},
   "outputs": [],
   "source": [
    "# importanto bibliotecas\n",
    "import pandas as pd\n",
    "import seaborn as sns\n",
    "import plotly.express as px\n",
    "from datetime import datetime\n",
    "from sklearn.preprocessing import StandardScaler\n",
    "from sklearn.model_selection import train_test_split\n",
    "from sklearn.linear_model import Lasso, Ridge\n",
    "from sklearn.linear_model import LogisticRegression\n",
    "from sklearn.tree import DecisionTreeRegressor\n",
    "from sklearn.ensemble import RandomForestRegressor, GradientBoostingRegressor, RandomForestClassifier\n",
    "from sklearn.metrics import accuracy_score, precision_score, recall_score, f1_score\n",
    "from sklearn.metrics import roc_auc_score\n",
    "import matplotlib.pyplot as plt\n",
    "from sklearn.metrics import mean_absolute_error, mean_squared_error, r2_score\n",
    "from sklearn.cluster import KMeans\n",
    "from scipy.cluster.hierarchy import dendrogram, linkage"
   ]
  },
  {
   "cell_type": "markdown",
   "metadata": {},
   "source": [
    "# Explore os dados"
   ]
  },
  {
   "cell_type": "code",
   "execution_count": 176,
   "metadata": {},
   "outputs": [],
   "source": [
    "projetofinal = pd.read_csv('/datasets/ecommerce_dataset_us.csv', sep='\\t')"
   ]
  },
  {
   "cell_type": "code",
   "execution_count": 177,
   "metadata": {},
   "outputs": [
    {
     "data": {
      "text/html": [
       "<div>\n",
       "<style scoped>\n",
       "    .dataframe tbody tr th:only-of-type {\n",
       "        vertical-align: middle;\n",
       "    }\n",
       "\n",
       "    .dataframe tbody tr th {\n",
       "        vertical-align: top;\n",
       "    }\n",
       "\n",
       "    .dataframe thead th {\n",
       "        text-align: right;\n",
       "    }\n",
       "</style>\n",
       "<table border=\"1\" class=\"dataframe\">\n",
       "  <thead>\n",
       "    <tr style=\"text-align: right;\">\n",
       "      <th></th>\n",
       "      <th>InvoiceNo</th>\n",
       "      <th>StockCode</th>\n",
       "      <th>Description</th>\n",
       "      <th>Quantity</th>\n",
       "      <th>InvoiceDate</th>\n",
       "      <th>UnitPrice</th>\n",
       "      <th>CustomerID</th>\n",
       "    </tr>\n",
       "  </thead>\n",
       "  <tbody>\n",
       "    <tr>\n",
       "      <th>0</th>\n",
       "      <td>536365</td>\n",
       "      <td>85123A</td>\n",
       "      <td>WHITE HANGING HEART T-LIGHT HOLDER</td>\n",
       "      <td>6</td>\n",
       "      <td>11/29/2018 08:26</td>\n",
       "      <td>2.55</td>\n",
       "      <td>17850.0</td>\n",
       "    </tr>\n",
       "    <tr>\n",
       "      <th>1</th>\n",
       "      <td>536365</td>\n",
       "      <td>71053</td>\n",
       "      <td>WHITE METAL LANTERN</td>\n",
       "      <td>6</td>\n",
       "      <td>11/29/2018 08:26</td>\n",
       "      <td>3.39</td>\n",
       "      <td>17850.0</td>\n",
       "    </tr>\n",
       "    <tr>\n",
       "      <th>2</th>\n",
       "      <td>536365</td>\n",
       "      <td>84406B</td>\n",
       "      <td>CREAM CUPID HEARTS COAT HANGER</td>\n",
       "      <td>8</td>\n",
       "      <td>11/29/2018 08:26</td>\n",
       "      <td>2.75</td>\n",
       "      <td>17850.0</td>\n",
       "    </tr>\n",
       "    <tr>\n",
       "      <th>3</th>\n",
       "      <td>536365</td>\n",
       "      <td>84029G</td>\n",
       "      <td>KNITTED UNION FLAG HOT WATER BOTTLE</td>\n",
       "      <td>6</td>\n",
       "      <td>11/29/2018 08:26</td>\n",
       "      <td>3.39</td>\n",
       "      <td>17850.0</td>\n",
       "    </tr>\n",
       "    <tr>\n",
       "      <th>4</th>\n",
       "      <td>536365</td>\n",
       "      <td>84029E</td>\n",
       "      <td>RED WOOLLY HOTTIE WHITE HEART.</td>\n",
       "      <td>6</td>\n",
       "      <td>11/29/2018 08:26</td>\n",
       "      <td>3.39</td>\n",
       "      <td>17850.0</td>\n",
       "    </tr>\n",
       "  </tbody>\n",
       "</table>\n",
       "</div>"
      ],
      "text/plain": [
       "  InvoiceNo StockCode                          Description  Quantity  \\\n",
       "0    536365    85123A   WHITE HANGING HEART T-LIGHT HOLDER         6   \n",
       "1    536365     71053                  WHITE METAL LANTERN         6   \n",
       "2    536365    84406B       CREAM CUPID HEARTS COAT HANGER         8   \n",
       "3    536365    84029G  KNITTED UNION FLAG HOT WATER BOTTLE         6   \n",
       "4    536365    84029E       RED WOOLLY HOTTIE WHITE HEART.         6   \n",
       "\n",
       "        InvoiceDate  UnitPrice  CustomerID  \n",
       "0  11/29/2018 08:26       2.55     17850.0  \n",
       "1  11/29/2018 08:26       3.39     17850.0  \n",
       "2  11/29/2018 08:26       2.75     17850.0  \n",
       "3  11/29/2018 08:26       3.39     17850.0  \n",
       "4  11/29/2018 08:26       3.39     17850.0  "
      ]
     },
     "execution_count": 177,
     "metadata": {},
     "output_type": "execute_result"
    }
   ],
   "source": [
    "projetofinal.head()"
   ]
  },
  {
   "cell_type": "code",
   "execution_count": 178,
   "metadata": {},
   "outputs": [
    {
     "name": "stdout",
     "output_type": "stream",
     "text": [
      "<class 'pandas.core.frame.DataFrame'>\n",
      "RangeIndex: 541909 entries, 0 to 541908\n",
      "Data columns (total 7 columns):\n",
      " #   Column       Non-Null Count   Dtype  \n",
      "---  ------       --------------   -----  \n",
      " 0   InvoiceNo    541909 non-null  object \n",
      " 1   StockCode    541909 non-null  object \n",
      " 2   Description  540455 non-null  object \n",
      " 3   Quantity     541909 non-null  int64  \n",
      " 4   InvoiceDate  541909 non-null  object \n",
      " 5   UnitPrice    541909 non-null  float64\n",
      " 6   CustomerID   406829 non-null  float64\n",
      "dtypes: float64(2), int64(1), object(4)\n",
      "memory usage: 28.9+ MB\n"
     ]
    }
   ],
   "source": [
    "projetofinal.info()"
   ]
  },
  {
   "cell_type": "code",
   "execution_count": 179,
   "metadata": {},
   "outputs": [],
   "source": [
    "novas = []\n",
    "for col in projetofinal.columns:\n",
    "    name1 = col.lower()\n",
    "    novas.append(name1)\n",
    "projetofinal.columns = novas"
   ]
  },
  {
   "cell_type": "code",
   "execution_count": 180,
   "metadata": {},
   "outputs": [
    {
     "data": {
      "text/plain": [
       "Index(['invoiceno', 'stockcode', 'description', 'quantity', 'invoicedate',\n",
       "       'unitprice', 'customerid'],\n",
       "      dtype='object')"
      ]
     },
     "execution_count": 180,
     "metadata": {},
     "output_type": "execute_result"
    }
   ],
   "source": [
    "projetofinal.columns"
   ]
  },
  {
   "cell_type": "code",
   "execution_count": 181,
   "metadata": {},
   "outputs": [],
   "source": [
    "projetofinal['invoicedate'] = pd.to_datetime(projetofinal['invoicedate'], errors='coerce')"
   ]
  },
  {
   "cell_type": "code",
   "execution_count": 182,
   "metadata": {},
   "outputs": [],
   "source": [
    "projetofinal['invoicedate'] = pd.to_datetime(projetofinal['invoicedate'], format='%Y-%m-%d %H:%M:%S', errors='coerce')"
   ]
  },
  {
   "cell_type": "markdown",
   "metadata": {},
   "source": [
    "Nesses primeiros códigos, primeiramente foram baixados os dados, analisada a tabela e os seus tipos. Depois, para facilitar as análises futuras, foi alterado os nomes das colunas, colocando tudo em letras minuscúlas. Depois, como a coluna \"invoicedate\" (data e hora) está como tipo objeto e para poder trabalhar com datas é necessário que esteja no formato datetime. Então, foi feita a conversão e também o formato da data e hora."
   ]
  },
  {
   "cell_type": "code",
   "execution_count": 183,
   "metadata": {
    "scrolled": true
   },
   "outputs": [
    {
     "data": {
      "text/plain": [
       "invoiceno           0\n",
       "stockcode           0\n",
       "description      1454\n",
       "quantity            0\n",
       "invoicedate         0\n",
       "unitprice           0\n",
       "customerid     135080\n",
       "dtype: int64"
      ]
     },
     "execution_count": 183,
     "metadata": {},
     "output_type": "execute_result"
    }
   ],
   "source": [
    "projetofinal.isna().sum()"
   ]
  },
  {
   "cell_type": "markdown",
   "metadata": {},
   "source": [
    "Nesse código foi verificado uma possível existência de valores ausentes. Tivemos como resultado que as colunas \"description\" e \"customerid\" possuem valores ausentes. A coluna \"description\" contém o nome do item do pedido. Como todo item possui um identificador específico, é possível preencher esses valores com o valor correspondente da coluna \"stockcode\" (na tabela de dados original no sistema). Já a coluna \"customerid\" contém o ID do cliente que efetuou a compra. Como não foi preenchido no ato da compra, não é possível preencher esse valor com nenhum tipo de dado utilizando dados de outras linhas ou colunas. "
   ]
  },
  {
   "cell_type": "code",
   "execution_count": 184,
   "metadata": {},
   "outputs": [
    {
     "name": "stdout",
     "output_type": "stream",
     "text": [
      "       invoiceno stockcode                        description  quantity  \\\n",
      "517       536409     21866        UNION JACK FLAG LUGGAGE TAG         1   \n",
      "527       536409     22866      HAND WARMER SCOTTY DOG DESIGN         1   \n",
      "537       536409     22900    SET 2 TEA TOWELS I LOVE LONDON          1   \n",
      "539       536409     22111       SCOTTIE DOG HOT WATER BOTTLE         1   \n",
      "555       536412     22327  ROUND SNACK BOXES SET OF 4 SKULLS         1   \n",
      "...          ...       ...                                ...       ...   \n",
      "541675    581538     22068        BLACK PIRATE TREASURE CHEST         1   \n",
      "541689    581538     23318     BOX OF 6 MINI VINTAGE CRACKERS         1   \n",
      "541692    581538     22992             REVOLVER WOODEN RULER          1   \n",
      "541699    581538     22694                       WICKER STAR          1   \n",
      "541701    581538     23343       JUMBO BAG VINTAGE CHRISTMAS          1   \n",
      "\n",
      "               invoicedate  unitprice  customerid  \n",
      "517    2018-11-29 11:45:00       1.25     17908.0  \n",
      "527    2018-11-29 11:45:00       2.10     17908.0  \n",
      "537    2018-11-29 11:45:00       2.95     17908.0  \n",
      "539    2018-11-29 11:45:00       4.95     17908.0  \n",
      "555    2018-11-29 11:49:00       2.95     17920.0  \n",
      "...                    ...        ...         ...  \n",
      "541675 2019-12-07 11:34:00       0.39     14446.0  \n",
      "541689 2019-12-07 11:34:00       2.49     14446.0  \n",
      "541692 2019-12-07 11:34:00       1.95     14446.0  \n",
      "541699 2019-12-07 11:34:00       2.10     14446.0  \n",
      "541701 2019-12-07 11:34:00       2.08     14446.0  \n",
      "\n",
      "[5268 rows x 7 columns]\n"
     ]
    }
   ],
   "source": [
    "projetofinal_duplicated = projetofinal[projetofinal.duplicated()]\n",
    "print(projetofinal_duplicated)"
   ]
  },
  {
   "cell_type": "markdown",
   "metadata": {},
   "source": [
    "Nesse código foi verificado uma possível existência de valores duplicados. Tivemos como resultado um DataFrame com 5268 linhas. Ou seja, foram encontrados 5268 linhas com valores duplicados, sendo o valor duplicado na coluna \"invoiceno\", que possui o identificador do pedido, que teoricamente é único. Além disso, os valores das colunas \"stockcode\" (identificador do item) e \"description\" (nome do item) são diferentes. Ou seja, vários pedidos com o mesmo identificador, porém com itens diferentes."
   ]
  },
  {
   "cell_type": "markdown",
   "metadata": {},
   "source": [
    "# Análise Exploratória de Dados"
   ]
  },
  {
   "cell_type": "code",
   "execution_count": 185,
   "metadata": {},
   "outputs": [],
   "source": [
    "projetofinal['data'] = projetofinal['invoicedate'].dt.date\n",
    "projetofinal['hora'] = projetofinal['invoicedate'].dt.time"
   ]
  },
  {
   "cell_type": "markdown",
   "metadata": {},
   "source": [
    "Nesse código foi separado em data e hora a coluna \"invoicedate\" para facilitar o trabalho em futuros códigos."
   ]
  },
  {
   "cell_type": "code",
   "execution_count": 186,
   "metadata": {},
   "outputs": [],
   "source": [
    "projetofinal['quantity'] = pd.to_numeric(projetofinal['quantity'], errors='coerce')\n",
    "projetofinal['invoiceno'] = pd.to_numeric(projetofinal['invoiceno'], errors='coerce')"
   ]
  },
  {
   "cell_type": "markdown",
   "metadata": {},
   "source": [
    "Nesse código foi alterado o tipo de dado das colunas \"quantity\" e \"invoiceno\" para numérico (int) para que possamos trabalhar com maior facilidade em futuros códigos."
   ]
  },
  {
   "cell_type": "code",
   "execution_count": 187,
   "metadata": {
    "scrolled": true
   },
   "outputs": [
    {
     "name": "stdout",
     "output_type": "stream",
     "text": [
      "        invoiceno stockcode                          description  quantity  \\\n",
      "540422        NaN     23843          PAPER CRAFT , LITTLE BIRDIE    -80995   \n",
      "61624         NaN     23166       MEDIUM CERAMIC TOP STORAGE JAR    -74215   \n",
      "225529   556690.0     23005         printing smudges/thrown away     -9600   \n",
      "225530   556691.0     23005         printing smudges/thrown away     -9600   \n",
      "4287          NaN     84347  ROTATING SILVER ANGELS T-LIGHT HLDR     -9360   \n",
      "...           ...       ...                                  ...       ...   \n",
      "421632   573008.0     84077    WORLD WAR 2 GLIDERS ASSTD DESIGNS      4800   \n",
      "74614    542504.0     37413                                  NaN      5568   \n",
      "502122   578841.0     84826       ASSTD DESIGN 3D PAPER STICKERS     12540   \n",
      "61619    541431.0     23166       MEDIUM CERAMIC TOP STORAGE JAR     74215   \n",
      "540421   581483.0     23843          PAPER CRAFT , LITTLE BIRDIE     80995   \n",
      "\n",
      "               invoicedate  unitprice  customerid        data      hora  \n",
      "540422 2019-12-07 09:27:00       2.08     16446.0  2019-12-07  09:27:00  \n",
      "61624  2019-01-16 10:17:00       1.04     12346.0  2019-01-16  10:17:00  \n",
      "225529 2019-06-12 10:37:00       0.00         NaN  2019-06-12  10:37:00  \n",
      "225530 2019-06-12 10:37:00       0.00         NaN  2019-06-12  10:37:00  \n",
      "4287   2018-11-30 14:23:00       0.03     15838.0  2018-11-30  14:23:00  \n",
      "...                    ...        ...         ...         ...       ...  \n",
      "421632 2019-10-25 12:26:00       0.21     12901.0  2019-10-25  12:26:00  \n",
      "74614  2019-01-26 12:03:00       0.00         NaN  2019-01-26  12:03:00  \n",
      "502122 2019-11-23 15:57:00       0.00     13256.0  2019-11-23  15:57:00  \n",
      "61619  2019-01-16 10:01:00       1.04     12346.0  2019-01-16  10:01:00  \n",
      "540421 2019-12-07 09:15:00       2.08     16446.0  2019-12-07  09:15:00  \n",
      "\n",
      "[541909 rows x 9 columns]\n"
     ]
    }
   ],
   "source": [
    "projetofinal_sorted = projetofinal.sort_values(by='quantity', ascending=True)\n",
    "print(projetofinal_sorted)"
   ]
  },
  {
   "cell_type": "markdown",
   "metadata": {},
   "source": [
    "Nesse código foi ordenado por ordem crescente de acordo com a quantidade. No resultado, é possível perceber que existem vários valores negativos nessa coluna, o que é um erro, pois não é possível valores negativos na quantidade de itens em um pedido. Com isso, é preciso entender o motivo do valor estar negativo. Uma possibilidade é erro na hora de preencher a tabela. E também é possível ver valores muito altos. Nesse caso, é preciso entender se realmente o pedido tem essa quantidade ou se também houve erro de digitação."
   ]
  },
  {
   "cell_type": "code",
   "execution_count": 188,
   "metadata": {},
   "outputs": [
    {
     "data": {
      "text/html": [
       "<div>\n",
       "<style scoped>\n",
       "    .dataframe tbody tr th:only-of-type {\n",
       "        vertical-align: middle;\n",
       "    }\n",
       "\n",
       "    .dataframe tbody tr th {\n",
       "        vertical-align: top;\n",
       "    }\n",
       "\n",
       "    .dataframe thead th {\n",
       "        text-align: right;\n",
       "    }\n",
       "</style>\n",
       "<table border=\"1\" class=\"dataframe\">\n",
       "  <thead>\n",
       "    <tr style=\"text-align: right;\">\n",
       "      <th></th>\n",
       "      <th>data</th>\n",
       "      <th>invoiceno</th>\n",
       "    </tr>\n",
       "  </thead>\n",
       "  <tbody>\n",
       "    <tr>\n",
       "      <th>0</th>\n",
       "      <td>2018-11-29</td>\n",
       "      <td>3082</td>\n",
       "    </tr>\n",
       "    <tr>\n",
       "      <th>1</th>\n",
       "      <td>2018-11-30</td>\n",
       "      <td>2065</td>\n",
       "    </tr>\n",
       "    <tr>\n",
       "      <th>2</th>\n",
       "      <td>2018-12-01</td>\n",
       "      <td>2188</td>\n",
       "    </tr>\n",
       "    <tr>\n",
       "      <th>3</th>\n",
       "      <td>2018-12-03</td>\n",
       "      <td>2709</td>\n",
       "    </tr>\n",
       "    <tr>\n",
       "      <th>4</th>\n",
       "      <td>2018-12-04</td>\n",
       "      <td>3829</td>\n",
       "    </tr>\n",
       "    <tr>\n",
       "      <th>...</th>\n",
       "      <td>...</td>\n",
       "      <td>...</td>\n",
       "    </tr>\n",
       "    <tr>\n",
       "      <th>300</th>\n",
       "      <td>2019-12-03</td>\n",
       "      <td>5305</td>\n",
       "    </tr>\n",
       "    <tr>\n",
       "      <th>301</th>\n",
       "      <td>2019-12-04</td>\n",
       "      <td>3265</td>\n",
       "    </tr>\n",
       "    <tr>\n",
       "      <th>302</th>\n",
       "      <td>2019-12-05</td>\n",
       "      <td>2409</td>\n",
       "    </tr>\n",
       "    <tr>\n",
       "      <th>303</th>\n",
       "      <td>2019-12-06</td>\n",
       "      <td>4873</td>\n",
       "    </tr>\n",
       "    <tr>\n",
       "      <th>304</th>\n",
       "      <td>2019-12-07</td>\n",
       "      <td>1625</td>\n",
       "    </tr>\n",
       "  </tbody>\n",
       "</table>\n",
       "<p>305 rows × 2 columns</p>\n",
       "</div>"
      ],
      "text/plain": [
       "           data  invoiceno\n",
       "0    2018-11-29       3082\n",
       "1    2018-11-30       2065\n",
       "2    2018-12-01       2188\n",
       "3    2018-12-03       2709\n",
       "4    2018-12-04       3829\n",
       "..          ...        ...\n",
       "300  2019-12-03       5305\n",
       "301  2019-12-04       3265\n",
       "302  2019-12-05       2409\n",
       "303  2019-12-06       4873\n",
       "304  2019-12-07       1625\n",
       "\n",
       "[305 rows x 2 columns]"
      ]
     },
     "execution_count": 188,
     "metadata": {},
     "output_type": "execute_result"
    }
   ],
   "source": [
    "projetofinal.groupby('data')['invoiceno'].count().reset_index()"
   ]
  },
  {
   "cell_type": "code",
   "execution_count": 189,
   "metadata": {},
   "outputs": [
    {
     "data": {
      "image/png": "[encoded data removed]",
      "text/plain": [
       "<Figure size 640x480 with 1 Axes>"
      ]
     },
     "metadata": {},
     "output_type": "display_data"
    }
   ],
   "source": [
    "projetofinal.groupby('data')['invoiceno'].count().reset_index().plot()\n",
    "plt.show()"
   ]
  },
  {
   "cell_type": "markdown",
   "metadata": {},
   "source": [
    "Nesse gráfico foi feito um agrupamento por data e contado o número de pedidos nesses dias. E depois foi plotado em um gráfico de linha, mostrando a evolução ao longo dos dias. Analisando o gráfico, é possível perceber, que apesar de existir uma variação, a quantidade mantém razoavelmente estável ao longo dos dias até 09/2019 quando existe um crescimento razoável."
   ]
  },
  {
   "cell_type": "code",
   "execution_count": 190,
   "metadata": {},
   "outputs": [
    {
     "data": {
      "text/html": [
       "<div>\n",
       "<style scoped>\n",
       "    .dataframe tbody tr th:only-of-type {\n",
       "        vertical-align: middle;\n",
       "    }\n",
       "\n",
       "    .dataframe tbody tr th {\n",
       "        vertical-align: top;\n",
       "    }\n",
       "\n",
       "    .dataframe thead th {\n",
       "        text-align: right;\n",
       "    }\n",
       "</style>\n",
       "<table border=\"1\" class=\"dataframe\">\n",
       "  <thead>\n",
       "    <tr style=\"text-align: right;\">\n",
       "      <th></th>\n",
       "      <th>data</th>\n",
       "      <th>customerid</th>\n",
       "    </tr>\n",
       "  </thead>\n",
       "  <tbody>\n",
       "    <tr>\n",
       "      <th>0</th>\n",
       "      <td>2018-11-29</td>\n",
       "      <td>1968</td>\n",
       "    </tr>\n",
       "    <tr>\n",
       "      <th>1</th>\n",
       "      <td>2018-11-30</td>\n",
       "      <td>2044</td>\n",
       "    </tr>\n",
       "    <tr>\n",
       "      <th>2</th>\n",
       "      <td>2018-12-01</td>\n",
       "      <td>1117</td>\n",
       "    </tr>\n",
       "    <tr>\n",
       "      <th>3</th>\n",
       "      <td>2018-12-03</td>\n",
       "      <td>2724</td>\n",
       "    </tr>\n",
       "    <tr>\n",
       "      <th>4</th>\n",
       "      <td>2018-12-04</td>\n",
       "      <td>1974</td>\n",
       "    </tr>\n",
       "    <tr>\n",
       "      <th>...</th>\n",
       "      <td>...</td>\n",
       "      <td>...</td>\n",
       "    </tr>\n",
       "    <tr>\n",
       "      <th>300</th>\n",
       "      <td>2019-12-03</td>\n",
       "      <td>3398</td>\n",
       "    </tr>\n",
       "    <tr>\n",
       "      <th>301</th>\n",
       "      <td>2019-12-04</td>\n",
       "      <td>2654</td>\n",
       "    </tr>\n",
       "    <tr>\n",
       "      <th>302</th>\n",
       "      <td>2019-12-05</td>\n",
       "      <td>2196</td>\n",
       "    </tr>\n",
       "    <tr>\n",
       "      <th>303</th>\n",
       "      <td>2019-12-06</td>\n",
       "      <td>2599</td>\n",
       "    </tr>\n",
       "    <tr>\n",
       "      <th>304</th>\n",
       "      <td>2019-12-07</td>\n",
       "      <td>624</td>\n",
       "    </tr>\n",
       "  </tbody>\n",
       "</table>\n",
       "<p>305 rows × 2 columns</p>\n",
       "</div>"
      ],
      "text/plain": [
       "           data  customerid\n",
       "0    2018-11-29        1968\n",
       "1    2018-11-30        2044\n",
       "2    2018-12-01        1117\n",
       "3    2018-12-03        2724\n",
       "4    2018-12-04        1974\n",
       "..          ...         ...\n",
       "300  2019-12-03        3398\n",
       "301  2019-12-04        2654\n",
       "302  2019-12-05        2196\n",
       "303  2019-12-06        2599\n",
       "304  2019-12-07         624\n",
       "\n",
       "[305 rows x 2 columns]"
      ]
     },
     "execution_count": 190,
     "metadata": {},
     "output_type": "execute_result"
    }
   ],
   "source": [
    "projetofinal.groupby('data')['customerid'].count().reset_index()"
   ]
  },
  {
   "cell_type": "code",
   "execution_count": 191,
   "metadata": {},
   "outputs": [
    {
     "data": {
      "image/png": "[encoded data removed]",
      "text/plain": [
       "<Figure size 640x480 with 1 Axes>"
      ]
     },
     "metadata": {},
     "output_type": "display_data"
    }
   ],
   "source": [
    "projetofinal.groupby('data')['customerid'].count().reset_index().plot()\n",
    "plt.show()"
   ]
  },
  {
   "cell_type": "markdown",
   "metadata": {},
   "source": [
    "Nesse código foi feito um agrupamento por data e contado o número de usuários que fizeram pedidos nesses dias. E depois foi plotado em um gráfico de linha, mostrando a evolução da quantidade de pedidos ao longo dos dias. Analisando o gráfico é possível concluir que existe uma grande variação entre os dias, porém a partir de 09/2019 aparenta ter um grande crescimento, mas com uma grande queda nos últimos dias. Ou seja, parece que está em crescimento de vendas."
   ]
  },
  {
   "cell_type": "code",
   "execution_count": 192,
   "metadata": {},
   "outputs": [
    {
     "data": {
      "text/html": [
       "<div>\n",
       "<style scoped>\n",
       "    .dataframe tbody tr th:only-of-type {\n",
       "        vertical-align: middle;\n",
       "    }\n",
       "\n",
       "    .dataframe tbody tr th {\n",
       "        vertical-align: top;\n",
       "    }\n",
       "\n",
       "    .dataframe thead th {\n",
       "        text-align: right;\n",
       "    }\n",
       "</style>\n",
       "<table border=\"1\" class=\"dataframe\">\n",
       "  <thead>\n",
       "    <tr style=\"text-align: right;\">\n",
       "      <th></th>\n",
       "      <th>data</th>\n",
       "      <th>quantity</th>\n",
       "    </tr>\n",
       "  </thead>\n",
       "  <tbody>\n",
       "    <tr>\n",
       "      <th>0</th>\n",
       "      <td>2018-11-29</td>\n",
       "      <td>26814</td>\n",
       "    </tr>\n",
       "    <tr>\n",
       "      <th>1</th>\n",
       "      <td>2018-11-30</td>\n",
       "      <td>21023</td>\n",
       "    </tr>\n",
       "    <tr>\n",
       "      <th>2</th>\n",
       "      <td>2018-12-01</td>\n",
       "      <td>14830</td>\n",
       "    </tr>\n",
       "    <tr>\n",
       "      <th>3</th>\n",
       "      <td>2018-12-03</td>\n",
       "      <td>16395</td>\n",
       "    </tr>\n",
       "    <tr>\n",
       "      <th>4</th>\n",
       "      <td>2018-12-04</td>\n",
       "      <td>21419</td>\n",
       "    </tr>\n",
       "    <tr>\n",
       "      <th>...</th>\n",
       "      <td>...</td>\n",
       "      <td>...</td>\n",
       "    </tr>\n",
       "    <tr>\n",
       "      <th>300</th>\n",
       "      <td>2019-12-03</td>\n",
       "      <td>44119</td>\n",
       "    </tr>\n",
       "    <tr>\n",
       "      <th>301</th>\n",
       "      <td>2019-12-04</td>\n",
       "      <td>29026</td>\n",
       "    </tr>\n",
       "    <tr>\n",
       "      <th>302</th>\n",
       "      <td>2019-12-05</td>\n",
       "      <td>39612</td>\n",
       "    </tr>\n",
       "    <tr>\n",
       "      <th>303</th>\n",
       "      <td>2019-12-06</td>\n",
       "      <td>34460</td>\n",
       "    </tr>\n",
       "    <tr>\n",
       "      <th>304</th>\n",
       "      <td>2019-12-07</td>\n",
       "      <td>12949</td>\n",
       "    </tr>\n",
       "  </tbody>\n",
       "</table>\n",
       "<p>305 rows × 2 columns</p>\n",
       "</div>"
      ],
      "text/plain": [
       "           data  quantity\n",
       "0    2018-11-29     26814\n",
       "1    2018-11-30     21023\n",
       "2    2018-12-01     14830\n",
       "3    2018-12-03     16395\n",
       "4    2018-12-04     21419\n",
       "..          ...       ...\n",
       "300  2019-12-03     44119\n",
       "301  2019-12-04     29026\n",
       "302  2019-12-05     39612\n",
       "303  2019-12-06     34460\n",
       "304  2019-12-07     12949\n",
       "\n",
       "[305 rows x 2 columns]"
      ]
     },
     "execution_count": 192,
     "metadata": {},
     "output_type": "execute_result"
    }
   ],
   "source": [
    "projetofinal.groupby('data')['quantity'].sum().reset_index()"
   ]
  },
  {
   "cell_type": "code",
   "execution_count": 193,
   "metadata": {},
   "outputs": [
    {
     "data": {
      "image/png": "[encoded data removed]",
      "text/plain": [
       "<Figure size 640x480 with 1 Axes>"
      ]
     },
     "metadata": {},
     "output_type": "display_data"
    }
   ],
   "source": [
    "projetofinal.groupby('data')['quantity'].sum().reset_index().plot()\n",
    "plt.show()"
   ]
  },
  {
   "cell_type": "markdown",
   "metadata": {},
   "source": [
    "Nesse código foi feito um agrupamento por data e somado a quantidade pedida nesses dias. E depois foi plotado em um gráfico de linha, mostrando a evolução da quantidade pedida ao longo dos dias. Analisando o gráfico, é possível concluir, que apesar de existir uma variação, não existe um grande crescimento ou uma grande queda. E também é possível perceber que um dia o valor é negativo (devido aos valores negativos dessa coluna)."
   ]
  },
  {
   "cell_type": "code",
   "execution_count": 194,
   "metadata": {
    "scrolled": true
   },
   "outputs": [
    {
     "data": {
      "text/html": [
       "<div>\n",
       "<style scoped>\n",
       "    .dataframe tbody tr th:only-of-type {\n",
       "        vertical-align: middle;\n",
       "    }\n",
       "\n",
       "    .dataframe tbody tr th {\n",
       "        vertical-align: top;\n",
       "    }\n",
       "\n",
       "    .dataframe thead th {\n",
       "        text-align: right;\n",
       "    }\n",
       "</style>\n",
       "<table border=\"1\" class=\"dataframe\">\n",
       "  <thead>\n",
       "    <tr style=\"text-align: right;\">\n",
       "      <th></th>\n",
       "      <th>data</th>\n",
       "      <th>unitprice</th>\n",
       "    </tr>\n",
       "  </thead>\n",
       "  <tbody>\n",
       "    <tr>\n",
       "      <th>0</th>\n",
       "      <td>2018-11-29</td>\n",
       "      <td>12904.25</td>\n",
       "    </tr>\n",
       "    <tr>\n",
       "      <th>1</th>\n",
       "      <td>2018-11-30</td>\n",
       "      <td>6815.68</td>\n",
       "    </tr>\n",
       "    <tr>\n",
       "      <th>2</th>\n",
       "      <td>2018-12-01</td>\n",
       "      <td>11114.09</td>\n",
       "    </tr>\n",
       "    <tr>\n",
       "      <th>3</th>\n",
       "      <td>2018-12-03</td>\n",
       "      <td>7893.17</td>\n",
       "    </tr>\n",
       "    <tr>\n",
       "      <th>4</th>\n",
       "      <td>2018-12-04</td>\n",
       "      <td>17678.78</td>\n",
       "    </tr>\n",
       "    <tr>\n",
       "      <th>...</th>\n",
       "      <td>...</td>\n",
       "      <td>...</td>\n",
       "    </tr>\n",
       "    <tr>\n",
       "      <th>300</th>\n",
       "      <td>2019-12-03</td>\n",
       "      <td>57195.74</td>\n",
       "    </tr>\n",
       "    <tr>\n",
       "      <th>301</th>\n",
       "      <td>2019-12-04</td>\n",
       "      <td>10364.64</td>\n",
       "    </tr>\n",
       "    <tr>\n",
       "      <th>302</th>\n",
       "      <td>2019-12-05</td>\n",
       "      <td>9049.19</td>\n",
       "    </tr>\n",
       "    <tr>\n",
       "      <th>303</th>\n",
       "      <td>2019-12-06</td>\n",
       "      <td>21808.10</td>\n",
       "    </tr>\n",
       "    <tr>\n",
       "      <th>304</th>\n",
       "      <td>2019-12-07</td>\n",
       "      <td>9226.48</td>\n",
       "    </tr>\n",
       "  </tbody>\n",
       "</table>\n",
       "<p>305 rows × 2 columns</p>\n",
       "</div>"
      ],
      "text/plain": [
       "           data  unitprice\n",
       "0    2018-11-29   12904.25\n",
       "1    2018-11-30    6815.68\n",
       "2    2018-12-01   11114.09\n",
       "3    2018-12-03    7893.17\n",
       "4    2018-12-04   17678.78\n",
       "..          ...        ...\n",
       "300  2019-12-03   57195.74\n",
       "301  2019-12-04   10364.64\n",
       "302  2019-12-05    9049.19\n",
       "303  2019-12-06   21808.10\n",
       "304  2019-12-07    9226.48\n",
       "\n",
       "[305 rows x 2 columns]"
      ]
     },
     "execution_count": 194,
     "metadata": {},
     "output_type": "execute_result"
    }
   ],
   "source": [
    "projetofinal.groupby('data')['unitprice'].sum().reset_index()"
   ]
  },
  {
   "cell_type": "code",
   "execution_count": 195,
   "metadata": {
    "scrolled": true
   },
   "outputs": [
    {
     "data": {
      "image/png": "[encoded data removed]",
      "text/plain": [
       "<Figure size 640x480 with 1 Axes>"
      ]
     },
     "metadata": {},
     "output_type": "display_data"
    }
   ],
   "source": [
    "projetofinal.groupby('data')['unitprice'].sum().plot()\n",
    "plt.show()"
   ]
  },
  {
   "cell_type": "markdown",
   "metadata": {},
   "source": [
    "Nesse código foi feito um agrupamento por data e somado o valor de todos os itens dos pedidos nesses dias. E depois foi plotado em um gráfico de linha, mostrando a evolução ao longo dos dias. Analisando o gráfico, é possível perceber que a quantidade se mantém estável, porém com alguns picos, um no começo, um no meio e um no fim. Além disso, existe um dia que o valor é negativo."
   ]
  },
  {
   "cell_type": "code",
   "execution_count": 196,
   "metadata": {},
   "outputs": [],
   "source": [
    "projetofinal['dia'] = projetofinal['invoicedate'].dt.day"
   ]
  },
  {
   "cell_type": "markdown",
   "metadata": {},
   "source": [
    "Nesse código foi criado uma coluna com os dias do mês em que foram efetuados compras, através da coluna \"invoicedate\"."
   ]
  },
  {
   "cell_type": "code",
   "execution_count": 197,
   "metadata": {},
   "outputs": [
    {
     "data": {
      "text/html": [
       "<div>\n",
       "<style scoped>\n",
       "    .dataframe tbody tr th:only-of-type {\n",
       "        vertical-align: middle;\n",
       "    }\n",
       "\n",
       "    .dataframe tbody tr th {\n",
       "        vertical-align: top;\n",
       "    }\n",
       "\n",
       "    .dataframe thead th {\n",
       "        text-align: right;\n",
       "    }\n",
       "</style>\n",
       "<table border=\"1\" class=\"dataframe\">\n",
       "  <thead>\n",
       "    <tr style=\"text-align: right;\">\n",
       "      <th></th>\n",
       "      <th>dia</th>\n",
       "      <th>customerid</th>\n",
       "    </tr>\n",
       "  </thead>\n",
       "  <tbody>\n",
       "    <tr>\n",
       "      <th>0</th>\n",
       "      <td>1</td>\n",
       "      <td>11069</td>\n",
       "    </tr>\n",
       "    <tr>\n",
       "      <th>1</th>\n",
       "      <td>2</td>\n",
       "      <td>15165</td>\n",
       "    </tr>\n",
       "    <tr>\n",
       "      <th>2</th>\n",
       "      <td>3</td>\n",
       "      <td>16723</td>\n",
       "    </tr>\n",
       "    <tr>\n",
       "      <th>3</th>\n",
       "      <td>4</td>\n",
       "      <td>18915</td>\n",
       "    </tr>\n",
       "    <tr>\n",
       "      <th>4</th>\n",
       "      <td>5</td>\n",
       "      <td>16011</td>\n",
       "    </tr>\n",
       "    <tr>\n",
       "      <th>5</th>\n",
       "      <td>6</td>\n",
       "      <td>16254</td>\n",
       "    </tr>\n",
       "    <tr>\n",
       "      <th>6</th>\n",
       "      <td>7</td>\n",
       "      <td>13225</td>\n",
       "    </tr>\n",
       "    <tr>\n",
       "      <th>7</th>\n",
       "      <td>8</td>\n",
       "      <td>14473</td>\n",
       "    </tr>\n",
       "    <tr>\n",
       "      <th>8</th>\n",
       "      <td>9</td>\n",
       "      <td>13707</td>\n",
       "    </tr>\n",
       "    <tr>\n",
       "      <th>9</th>\n",
       "      <td>10</td>\n",
       "      <td>10923</td>\n",
       "    </tr>\n",
       "    <tr>\n",
       "      <th>10</th>\n",
       "      <td>11</td>\n",
       "      <td>14401</td>\n",
       "    </tr>\n",
       "    <tr>\n",
       "      <th>11</th>\n",
       "      <td>12</td>\n",
       "      <td>14549</td>\n",
       "    </tr>\n",
       "    <tr>\n",
       "      <th>12</th>\n",
       "      <td>13</td>\n",
       "      <td>11611</td>\n",
       "    </tr>\n",
       "    <tr>\n",
       "      <th>13</th>\n",
       "      <td>14</td>\n",
       "      <td>12910</td>\n",
       "    </tr>\n",
       "    <tr>\n",
       "      <th>14</th>\n",
       "      <td>15</td>\n",
       "      <td>15139</td>\n",
       "    </tr>\n",
       "    <tr>\n",
       "      <th>15</th>\n",
       "      <td>16</td>\n",
       "      <td>13234</td>\n",
       "    </tr>\n",
       "    <tr>\n",
       "      <th>16</th>\n",
       "      <td>17</td>\n",
       "      <td>11106</td>\n",
       "    </tr>\n",
       "    <tr>\n",
       "      <th>17</th>\n",
       "      <td>18</td>\n",
       "      <td>14940</td>\n",
       "    </tr>\n",
       "    <tr>\n",
       "      <th>18</th>\n",
       "      <td>19</td>\n",
       "      <td>13509</td>\n",
       "    </tr>\n",
       "    <tr>\n",
       "      <th>19</th>\n",
       "      <td>20</td>\n",
       "      <td>12583</td>\n",
       "    </tr>\n",
       "    <tr>\n",
       "      <th>20</th>\n",
       "      <td>21</td>\n",
       "      <td>14545</td>\n",
       "    </tr>\n",
       "    <tr>\n",
       "      <th>21</th>\n",
       "      <td>22</td>\n",
       "      <td>12394</td>\n",
       "    </tr>\n",
       "    <tr>\n",
       "      <th>22</th>\n",
       "      <td>23</td>\n",
       "      <td>12200</td>\n",
       "    </tr>\n",
       "    <tr>\n",
       "      <th>23</th>\n",
       "      <td>24</td>\n",
       "      <td>8913</td>\n",
       "    </tr>\n",
       "    <tr>\n",
       "      <th>24</th>\n",
       "      <td>25</td>\n",
       "      <td>12708</td>\n",
       "    </tr>\n",
       "    <tr>\n",
       "      <th>25</th>\n",
       "      <td>26</td>\n",
       "      <td>13778</td>\n",
       "    </tr>\n",
       "    <tr>\n",
       "      <th>26</th>\n",
       "      <td>27</td>\n",
       "      <td>9366</td>\n",
       "    </tr>\n",
       "    <tr>\n",
       "      <th>27</th>\n",
       "      <td>28</td>\n",
       "      <td>11153</td>\n",
       "    </tr>\n",
       "    <tr>\n",
       "      <th>28</th>\n",
       "      <td>29</td>\n",
       "      <td>12565</td>\n",
       "    </tr>\n",
       "    <tr>\n",
       "      <th>29</th>\n",
       "      <td>30</td>\n",
       "      <td>12797</td>\n",
       "    </tr>\n",
       "    <tr>\n",
       "      <th>30</th>\n",
       "      <td>31</td>\n",
       "      <td>5963</td>\n",
       "    </tr>\n",
       "  </tbody>\n",
       "</table>\n",
       "</div>"
      ],
      "text/plain": [
       "    dia  customerid\n",
       "0     1       11069\n",
       "1     2       15165\n",
       "2     3       16723\n",
       "3     4       18915\n",
       "4     5       16011\n",
       "5     6       16254\n",
       "6     7       13225\n",
       "7     8       14473\n",
       "8     9       13707\n",
       "9    10       10923\n",
       "10   11       14401\n",
       "11   12       14549\n",
       "12   13       11611\n",
       "13   14       12910\n",
       "14   15       15139\n",
       "15   16       13234\n",
       "16   17       11106\n",
       "17   18       14940\n",
       "18   19       13509\n",
       "19   20       12583\n",
       "20   21       14545\n",
       "21   22       12394\n",
       "22   23       12200\n",
       "23   24        8913\n",
       "24   25       12708\n",
       "25   26       13778\n",
       "26   27        9366\n",
       "27   28       11153\n",
       "28   29       12565\n",
       "29   30       12797\n",
       "30   31        5963"
      ]
     },
     "execution_count": 197,
     "metadata": {},
     "output_type": "execute_result"
    }
   ],
   "source": [
    "projetofinal.groupby('dia')['customerid'].count().reset_index()"
   ]
  },
  {
   "cell_type": "code",
   "execution_count": 198,
   "metadata": {},
   "outputs": [
    {
     "data": {
      "image/png": "[encoded data removed]",
      "text/plain": [
       "<Figure size 640x480 with 1 Axes>"
      ]
     },
     "metadata": {},
     "output_type": "display_data"
    }
   ],
   "source": [
    "projetofinal.groupby('dia')['invoiceno'].count().plot(kind = 'bar')\n",
    "plt.show()"
   ]
  },
  {
   "cell_type": "markdown",
   "metadata": {},
   "source": [
    "Nesse código foi feito um agrupamento por dia do mês e contado o número de pedidos que acontece em cada dia. E depois foi plotado em um gráfico de barras, mostrando a evolução ao longo dos dias do mês. Analisando o gráfico é possível perceber que existe uma variação grande entre os dias."
   ]
  },
  {
   "cell_type": "code",
   "execution_count": 199,
   "metadata": {},
   "outputs": [
    {
     "data": {
      "text/html": [
       "<div>\n",
       "<style scoped>\n",
       "    .dataframe tbody tr th:only-of-type {\n",
       "        vertical-align: middle;\n",
       "    }\n",
       "\n",
       "    .dataframe tbody tr th {\n",
       "        vertical-align: top;\n",
       "    }\n",
       "\n",
       "    .dataframe thead th {\n",
       "        text-align: right;\n",
       "    }\n",
       "</style>\n",
       "<table border=\"1\" class=\"dataframe\">\n",
       "  <thead>\n",
       "    <tr style=\"text-align: right;\">\n",
       "      <th></th>\n",
       "      <th>dia</th>\n",
       "      <th>quantity</th>\n",
       "    </tr>\n",
       "  </thead>\n",
       "  <tbody>\n",
       "    <tr>\n",
       "      <th>0</th>\n",
       "      <td>1</td>\n",
       "      <td>152700</td>\n",
       "    </tr>\n",
       "    <tr>\n",
       "      <th>1</th>\n",
       "      <td>2</td>\n",
       "      <td>190694</td>\n",
       "    </tr>\n",
       "    <tr>\n",
       "      <th>2</th>\n",
       "      <td>3</td>\n",
       "      <td>228054</td>\n",
       "    </tr>\n",
       "    <tr>\n",
       "      <th>3</th>\n",
       "      <td>4</td>\n",
       "      <td>206115</td>\n",
       "    </tr>\n",
       "    <tr>\n",
       "      <th>4</th>\n",
       "      <td>5</td>\n",
       "      <td>230661</td>\n",
       "    </tr>\n",
       "    <tr>\n",
       "      <th>5</th>\n",
       "      <td>6</td>\n",
       "      <td>182879</td>\n",
       "    </tr>\n",
       "    <tr>\n",
       "      <th>6</th>\n",
       "      <td>7</td>\n",
       "      <td>169611</td>\n",
       "    </tr>\n",
       "    <tr>\n",
       "      <th>7</th>\n",
       "      <td>8</td>\n",
       "      <td>169828</td>\n",
       "    </tr>\n",
       "    <tr>\n",
       "      <th>8</th>\n",
       "      <td>9</td>\n",
       "      <td>204027</td>\n",
       "    </tr>\n",
       "    <tr>\n",
       "      <th>9</th>\n",
       "      <td>10</td>\n",
       "      <td>139775</td>\n",
       "    </tr>\n",
       "    <tr>\n",
       "      <th>10</th>\n",
       "      <td>11</td>\n",
       "      <td>167079</td>\n",
       "    </tr>\n",
       "    <tr>\n",
       "      <th>11</th>\n",
       "      <td>12</td>\n",
       "      <td>170087</td>\n",
       "    </tr>\n",
       "    <tr>\n",
       "      <th>12</th>\n",
       "      <td>13</td>\n",
       "      <td>173666</td>\n",
       "    </tr>\n",
       "    <tr>\n",
       "      <th>13</th>\n",
       "      <td>14</td>\n",
       "      <td>159091</td>\n",
       "    </tr>\n",
       "    <tr>\n",
       "      <th>14</th>\n",
       "      <td>15</td>\n",
       "      <td>206894</td>\n",
       "    </tr>\n",
       "    <tr>\n",
       "      <th>15</th>\n",
       "      <td>16</td>\n",
       "      <td>180565</td>\n",
       "    </tr>\n",
       "    <tr>\n",
       "      <th>16</th>\n",
       "      <td>17</td>\n",
       "      <td>153037</td>\n",
       "    </tr>\n",
       "    <tr>\n",
       "      <th>17</th>\n",
       "      <td>18</td>\n",
       "      <td>212509</td>\n",
       "    </tr>\n",
       "    <tr>\n",
       "      <th>18</th>\n",
       "      <td>19</td>\n",
       "      <td>184385</td>\n",
       "    </tr>\n",
       "    <tr>\n",
       "      <th>19</th>\n",
       "      <td>20</td>\n",
       "      <td>160982</td>\n",
       "    </tr>\n",
       "    <tr>\n",
       "      <th>20</th>\n",
       "      <td>21</td>\n",
       "      <td>147214</td>\n",
       "    </tr>\n",
       "    <tr>\n",
       "      <th>21</th>\n",
       "      <td>22</td>\n",
       "      <td>159063</td>\n",
       "    </tr>\n",
       "    <tr>\n",
       "      <th>22</th>\n",
       "      <td>23</td>\n",
       "      <td>153505</td>\n",
       "    </tr>\n",
       "    <tr>\n",
       "      <th>23</th>\n",
       "      <td>24</td>\n",
       "      <td>113335</td>\n",
       "    </tr>\n",
       "    <tr>\n",
       "      <th>24</th>\n",
       "      <td>25</td>\n",
       "      <td>143005</td>\n",
       "    </tr>\n",
       "    <tr>\n",
       "      <th>25</th>\n",
       "      <td>26</td>\n",
       "      <td>187364</td>\n",
       "    </tr>\n",
       "    <tr>\n",
       "      <th>26</th>\n",
       "      <td>27</td>\n",
       "      <td>128509</td>\n",
       "    </tr>\n",
       "    <tr>\n",
       "      <th>27</th>\n",
       "      <td>28</td>\n",
       "      <td>131613</td>\n",
       "    </tr>\n",
       "    <tr>\n",
       "      <th>28</th>\n",
       "      <td>29</td>\n",
       "      <td>137931</td>\n",
       "    </tr>\n",
       "    <tr>\n",
       "      <th>29</th>\n",
       "      <td>30</td>\n",
       "      <td>154411</td>\n",
       "    </tr>\n",
       "    <tr>\n",
       "      <th>30</th>\n",
       "      <td>31</td>\n",
       "      <td>77861</td>\n",
       "    </tr>\n",
       "  </tbody>\n",
       "</table>\n",
       "</div>"
      ],
      "text/plain": [
       "    dia  quantity\n",
       "0     1    152700\n",
       "1     2    190694\n",
       "2     3    228054\n",
       "3     4    206115\n",
       "4     5    230661\n",
       "5     6    182879\n",
       "6     7    169611\n",
       "7     8    169828\n",
       "8     9    204027\n",
       "9    10    139775\n",
       "10   11    167079\n",
       "11   12    170087\n",
       "12   13    173666\n",
       "13   14    159091\n",
       "14   15    206894\n",
       "15   16    180565\n",
       "16   17    153037\n",
       "17   18    212509\n",
       "18   19    184385\n",
       "19   20    160982\n",
       "20   21    147214\n",
       "21   22    159063\n",
       "22   23    153505\n",
       "23   24    113335\n",
       "24   25    143005\n",
       "25   26    187364\n",
       "26   27    128509\n",
       "27   28    131613\n",
       "28   29    137931\n",
       "29   30    154411\n",
       "30   31     77861"
      ]
     },
     "execution_count": 199,
     "metadata": {},
     "output_type": "execute_result"
    }
   ],
   "source": [
    "projetofinal.groupby('dia')['quantity'].sum().reset_index()"
   ]
  },
  {
   "cell_type": "code",
   "execution_count": 200,
   "metadata": {},
   "outputs": [
    {
     "data": {
      "image/png": "[encoded data removed]",
      "text/plain": [
       "<Figure size 640x480 with 1 Axes>"
      ]
     },
     "metadata": {},
     "output_type": "display_data"
    }
   ],
   "source": [
    "projetofinal.groupby('dia')['quantity'].sum().plot(kind = 'bar')\n",
    "plt.show()"
   ]
  },
  {
   "cell_type": "markdown",
   "metadata": {},
   "source": [
    "Nesse código foi feito um agrupamento por dia do mês e somado a quantidade pedida por dia. E depois foi plotado em um gráfico de barras, mostrando a evolução ao longo dos dias do mês. Analisando o gráfico é possível perceber qie existe uma variação grande entre os dias e uma grande queda no último dia (devido a nem todos os meses ter 31 dias)."
   ]
  },
  {
   "cell_type": "code",
   "execution_count": 201,
   "metadata": {
    "scrolled": true
   },
   "outputs": [
    {
     "data": {
      "text/html": [
       "<div>\n",
       "<style scoped>\n",
       "    .dataframe tbody tr th:only-of-type {\n",
       "        vertical-align: middle;\n",
       "    }\n",
       "\n",
       "    .dataframe tbody tr th {\n",
       "        vertical-align: top;\n",
       "    }\n",
       "\n",
       "    .dataframe thead th {\n",
       "        text-align: right;\n",
       "    }\n",
       "</style>\n",
       "<table border=\"1\" class=\"dataframe\">\n",
       "  <thead>\n",
       "    <tr style=\"text-align: right;\">\n",
       "      <th></th>\n",
       "      <th>dia</th>\n",
       "      <th>customerid</th>\n",
       "    </tr>\n",
       "  </thead>\n",
       "  <tbody>\n",
       "    <tr>\n",
       "      <th>0</th>\n",
       "      <td>1</td>\n",
       "      <td>11069</td>\n",
       "    </tr>\n",
       "    <tr>\n",
       "      <th>1</th>\n",
       "      <td>2</td>\n",
       "      <td>15165</td>\n",
       "    </tr>\n",
       "    <tr>\n",
       "      <th>2</th>\n",
       "      <td>3</td>\n",
       "      <td>16723</td>\n",
       "    </tr>\n",
       "    <tr>\n",
       "      <th>3</th>\n",
       "      <td>4</td>\n",
       "      <td>18915</td>\n",
       "    </tr>\n",
       "    <tr>\n",
       "      <th>4</th>\n",
       "      <td>5</td>\n",
       "      <td>16011</td>\n",
       "    </tr>\n",
       "    <tr>\n",
       "      <th>5</th>\n",
       "      <td>6</td>\n",
       "      <td>16254</td>\n",
       "    </tr>\n",
       "    <tr>\n",
       "      <th>6</th>\n",
       "      <td>7</td>\n",
       "      <td>13225</td>\n",
       "    </tr>\n",
       "    <tr>\n",
       "      <th>7</th>\n",
       "      <td>8</td>\n",
       "      <td>14473</td>\n",
       "    </tr>\n",
       "    <tr>\n",
       "      <th>8</th>\n",
       "      <td>9</td>\n",
       "      <td>13707</td>\n",
       "    </tr>\n",
       "    <tr>\n",
       "      <th>9</th>\n",
       "      <td>10</td>\n",
       "      <td>10923</td>\n",
       "    </tr>\n",
       "    <tr>\n",
       "      <th>10</th>\n",
       "      <td>11</td>\n",
       "      <td>14401</td>\n",
       "    </tr>\n",
       "    <tr>\n",
       "      <th>11</th>\n",
       "      <td>12</td>\n",
       "      <td>14549</td>\n",
       "    </tr>\n",
       "    <tr>\n",
       "      <th>12</th>\n",
       "      <td>13</td>\n",
       "      <td>11611</td>\n",
       "    </tr>\n",
       "    <tr>\n",
       "      <th>13</th>\n",
       "      <td>14</td>\n",
       "      <td>12910</td>\n",
       "    </tr>\n",
       "    <tr>\n",
       "      <th>14</th>\n",
       "      <td>15</td>\n",
       "      <td>15139</td>\n",
       "    </tr>\n",
       "    <tr>\n",
       "      <th>15</th>\n",
       "      <td>16</td>\n",
       "      <td>13234</td>\n",
       "    </tr>\n",
       "    <tr>\n",
       "      <th>16</th>\n",
       "      <td>17</td>\n",
       "      <td>11106</td>\n",
       "    </tr>\n",
       "    <tr>\n",
       "      <th>17</th>\n",
       "      <td>18</td>\n",
       "      <td>14940</td>\n",
       "    </tr>\n",
       "    <tr>\n",
       "      <th>18</th>\n",
       "      <td>19</td>\n",
       "      <td>13509</td>\n",
       "    </tr>\n",
       "    <tr>\n",
       "      <th>19</th>\n",
       "      <td>20</td>\n",
       "      <td>12583</td>\n",
       "    </tr>\n",
       "    <tr>\n",
       "      <th>20</th>\n",
       "      <td>21</td>\n",
       "      <td>14545</td>\n",
       "    </tr>\n",
       "    <tr>\n",
       "      <th>21</th>\n",
       "      <td>22</td>\n",
       "      <td>12394</td>\n",
       "    </tr>\n",
       "    <tr>\n",
       "      <th>22</th>\n",
       "      <td>23</td>\n",
       "      <td>12200</td>\n",
       "    </tr>\n",
       "    <tr>\n",
       "      <th>23</th>\n",
       "      <td>24</td>\n",
       "      <td>8913</td>\n",
       "    </tr>\n",
       "    <tr>\n",
       "      <th>24</th>\n",
       "      <td>25</td>\n",
       "      <td>12708</td>\n",
       "    </tr>\n",
       "    <tr>\n",
       "      <th>25</th>\n",
       "      <td>26</td>\n",
       "      <td>13778</td>\n",
       "    </tr>\n",
       "    <tr>\n",
       "      <th>26</th>\n",
       "      <td>27</td>\n",
       "      <td>9366</td>\n",
       "    </tr>\n",
       "    <tr>\n",
       "      <th>27</th>\n",
       "      <td>28</td>\n",
       "      <td>11153</td>\n",
       "    </tr>\n",
       "    <tr>\n",
       "      <th>28</th>\n",
       "      <td>29</td>\n",
       "      <td>12565</td>\n",
       "    </tr>\n",
       "    <tr>\n",
       "      <th>29</th>\n",
       "      <td>30</td>\n",
       "      <td>12797</td>\n",
       "    </tr>\n",
       "    <tr>\n",
       "      <th>30</th>\n",
       "      <td>31</td>\n",
       "      <td>5963</td>\n",
       "    </tr>\n",
       "  </tbody>\n",
       "</table>\n",
       "</div>"
      ],
      "text/plain": [
       "    dia  customerid\n",
       "0     1       11069\n",
       "1     2       15165\n",
       "2     3       16723\n",
       "3     4       18915\n",
       "4     5       16011\n",
       "5     6       16254\n",
       "6     7       13225\n",
       "7     8       14473\n",
       "8     9       13707\n",
       "9    10       10923\n",
       "10   11       14401\n",
       "11   12       14549\n",
       "12   13       11611\n",
       "13   14       12910\n",
       "14   15       15139\n",
       "15   16       13234\n",
       "16   17       11106\n",
       "17   18       14940\n",
       "18   19       13509\n",
       "19   20       12583\n",
       "20   21       14545\n",
       "21   22       12394\n",
       "22   23       12200\n",
       "23   24        8913\n",
       "24   25       12708\n",
       "25   26       13778\n",
       "26   27        9366\n",
       "27   28       11153\n",
       "28   29       12565\n",
       "29   30       12797\n",
       "30   31        5963"
      ]
     },
     "execution_count": 201,
     "metadata": {},
     "output_type": "execute_result"
    }
   ],
   "source": [
    "projetofinal.groupby('dia')['customerid'].count().reset_index()"
   ]
  },
  {
   "cell_type": "code",
   "execution_count": 202,
   "metadata": {},
   "outputs": [
    {
     "data": {
      "image/png": "[encoded data removed]",
      "text/plain": [
       "<Figure size 640x480 with 1 Axes>"
      ]
     },
     "metadata": {},
     "output_type": "display_data"
    }
   ],
   "source": [
    "projetofinal.groupby('dia')['customerid'].count().plot(kind = 'bar')\n",
    "plt.show()"
   ]
  },
  {
   "cell_type": "markdown",
   "metadata": {},
   "source": [
    "Nesse código foi feito um agrupamento por dia do mês e contado o número de usuários que fizeram pedidos nesses dias. E depois foi plotado em um gráfico de barras. Analisando o gráfico é possível perceber que existe uma variação grande entre os dias e uma grande queda no último dia (devido a nem todos os meses ter 31 dias)."
   ]
  },
  {
   "cell_type": "code",
   "execution_count": 203,
   "metadata": {},
   "outputs": [
    {
     "data": {
      "text/html": [
       "<div>\n",
       "<style scoped>\n",
       "    .dataframe tbody tr th:only-of-type {\n",
       "        vertical-align: middle;\n",
       "    }\n",
       "\n",
       "    .dataframe tbody tr th {\n",
       "        vertical-align: top;\n",
       "    }\n",
       "\n",
       "    .dataframe thead th {\n",
       "        text-align: right;\n",
       "    }\n",
       "</style>\n",
       "<table border=\"1\" class=\"dataframe\">\n",
       "  <thead>\n",
       "    <tr style=\"text-align: right;\">\n",
       "      <th></th>\n",
       "      <th>dia</th>\n",
       "      <th>unitprice</th>\n",
       "    </tr>\n",
       "  </thead>\n",
       "  <tbody>\n",
       "    <tr>\n",
       "      <th>0</th>\n",
       "      <td>1</td>\n",
       "      <td>81495.370</td>\n",
       "    </tr>\n",
       "    <tr>\n",
       "      <th>1</th>\n",
       "      <td>2</td>\n",
       "      <td>80346.540</td>\n",
       "    </tr>\n",
       "    <tr>\n",
       "      <th>2</th>\n",
       "      <td>3</td>\n",
       "      <td>148066.210</td>\n",
       "    </tr>\n",
       "    <tr>\n",
       "      <th>3</th>\n",
       "      <td>4</td>\n",
       "      <td>83438.970</td>\n",
       "    </tr>\n",
       "    <tr>\n",
       "      <th>4</th>\n",
       "      <td>5</td>\n",
       "      <td>181806.380</td>\n",
       "    </tr>\n",
       "    <tr>\n",
       "      <th>5</th>\n",
       "      <td>6</td>\n",
       "      <td>105011.650</td>\n",
       "    </tr>\n",
       "    <tr>\n",
       "      <th>6</th>\n",
       "      <td>7</td>\n",
       "      <td>75395.150</td>\n",
       "    </tr>\n",
       "    <tr>\n",
       "      <th>7</th>\n",
       "      <td>8</td>\n",
       "      <td>127183.500</td>\n",
       "    </tr>\n",
       "    <tr>\n",
       "      <th>8</th>\n",
       "      <td>9</td>\n",
       "      <td>77675.900</td>\n",
       "    </tr>\n",
       "    <tr>\n",
       "      <th>9</th>\n",
       "      <td>10</td>\n",
       "      <td>39482.340</td>\n",
       "    </tr>\n",
       "    <tr>\n",
       "      <th>10</th>\n",
       "      <td>11</td>\n",
       "      <td>78176.140</td>\n",
       "    </tr>\n",
       "    <tr>\n",
       "      <th>11</th>\n",
       "      <td>12</td>\n",
       "      <td>69471.170</td>\n",
       "    </tr>\n",
       "    <tr>\n",
       "      <th>12</th>\n",
       "      <td>13</td>\n",
       "      <td>88128.571</td>\n",
       "    </tr>\n",
       "    <tr>\n",
       "      <th>13</th>\n",
       "      <td>14</td>\n",
       "      <td>72661.480</td>\n",
       "    </tr>\n",
       "    <tr>\n",
       "      <th>14</th>\n",
       "      <td>15</td>\n",
       "      <td>96827.990</td>\n",
       "    </tr>\n",
       "    <tr>\n",
       "      <th>15</th>\n",
       "      <td>16</td>\n",
       "      <td>101304.840</td>\n",
       "    </tr>\n",
       "    <tr>\n",
       "      <th>16</th>\n",
       "      <td>17</td>\n",
       "      <td>62504.340</td>\n",
       "    </tr>\n",
       "    <tr>\n",
       "      <th>17</th>\n",
       "      <td>18</td>\n",
       "      <td>82051.000</td>\n",
       "    </tr>\n",
       "    <tr>\n",
       "      <th>18</th>\n",
       "      <td>19</td>\n",
       "      <td>93954.300</td>\n",
       "    </tr>\n",
       "    <tr>\n",
       "      <th>19</th>\n",
       "      <td>20</td>\n",
       "      <td>55191.210</td>\n",
       "    </tr>\n",
       "    <tr>\n",
       "      <th>20</th>\n",
       "      <td>21</td>\n",
       "      <td>72941.260</td>\n",
       "    </tr>\n",
       "    <tr>\n",
       "      <th>21</th>\n",
       "      <td>22</td>\n",
       "      <td>91154.990</td>\n",
       "    </tr>\n",
       "    <tr>\n",
       "      <th>22</th>\n",
       "      <td>23</td>\n",
       "      <td>61222.031</td>\n",
       "    </tr>\n",
       "    <tr>\n",
       "      <th>23</th>\n",
       "      <td>24</td>\n",
       "      <td>40808.122</td>\n",
       "    </tr>\n",
       "    <tr>\n",
       "      <th>24</th>\n",
       "      <td>25</td>\n",
       "      <td>64253.170</td>\n",
       "    </tr>\n",
       "    <tr>\n",
       "      <th>25</th>\n",
       "      <td>26</td>\n",
       "      <td>68407.960</td>\n",
       "    </tr>\n",
       "    <tr>\n",
       "      <th>26</th>\n",
       "      <td>27</td>\n",
       "      <td>52595.030</td>\n",
       "    </tr>\n",
       "    <tr>\n",
       "      <th>27</th>\n",
       "      <td>28</td>\n",
       "      <td>62447.140</td>\n",
       "    </tr>\n",
       "    <tr>\n",
       "      <th>28</th>\n",
       "      <td>29</td>\n",
       "      <td>85111.800</td>\n",
       "    </tr>\n",
       "    <tr>\n",
       "      <th>29</th>\n",
       "      <td>30</td>\n",
       "      <td>50120.470</td>\n",
       "    </tr>\n",
       "    <tr>\n",
       "      <th>30</th>\n",
       "      <td>31</td>\n",
       "      <td>49568.950</td>\n",
       "    </tr>\n",
       "  </tbody>\n",
       "</table>\n",
       "</div>"
      ],
      "text/plain": [
       "    dia   unitprice\n",
       "0     1   81495.370\n",
       "1     2   80346.540\n",
       "2     3  148066.210\n",
       "3     4   83438.970\n",
       "4     5  181806.380\n",
       "5     6  105011.650\n",
       "6     7   75395.150\n",
       "7     8  127183.500\n",
       "8     9   77675.900\n",
       "9    10   39482.340\n",
       "10   11   78176.140\n",
       "11   12   69471.170\n",
       "12   13   88128.571\n",
       "13   14   72661.480\n",
       "14   15   96827.990\n",
       "15   16  101304.840\n",
       "16   17   62504.340\n",
       "17   18   82051.000\n",
       "18   19   93954.300\n",
       "19   20   55191.210\n",
       "20   21   72941.260\n",
       "21   22   91154.990\n",
       "22   23   61222.031\n",
       "23   24   40808.122\n",
       "24   25   64253.170\n",
       "25   26   68407.960\n",
       "26   27   52595.030\n",
       "27   28   62447.140\n",
       "28   29   85111.800\n",
       "29   30   50120.470\n",
       "30   31   49568.950"
      ]
     },
     "execution_count": 203,
     "metadata": {},
     "output_type": "execute_result"
    }
   ],
   "source": [
    "projetofinal.groupby('dia')['unitprice'].sum().reset_index()"
   ]
  },
  {
   "cell_type": "code",
   "execution_count": 204,
   "metadata": {},
   "outputs": [
    {
     "data": {
      "image/png": "[encoded data removed]",
      "text/plain": [
       "<Figure size 640x480 with 1 Axes>"
      ]
     },
     "metadata": {},
     "output_type": "display_data"
    }
   ],
   "source": [
    "projetofinal.groupby('dia')['unitprice'].sum().plot(kind = 'bar')\n",
    "plt.show()"
   ]
  },
  {
   "cell_type": "markdown",
   "metadata": {},
   "source": [
    "Nesse código foi feito um agrupamento por dia do mês e somado o valor total de todos os itens vendidos nesses dias. E depois foi plotado em um gráfico de barras. Analisando o gráfico é possível perceber que a quantidade se mantém razoavelmente estável, com exceção do dia 5 que tem um valor muito mais alto e no dia 10 que tem um valor muito mais baixo."
   ]
  },
  {
   "cell_type": "code",
   "execution_count": 205,
   "metadata": {},
   "outputs": [],
   "source": [
    "projetofinal['hora'] = projetofinal['invoicedate'].dt.hour"
   ]
  },
  {
   "cell_type": "markdown",
   "metadata": {},
   "source": [
    "Nesse código foi criada uma coluna com as horas do dias em que foram efetuado compras, através da coluna \"invoicedate\"."
   ]
  },
  {
   "cell_type": "code",
   "execution_count": 206,
   "metadata": {},
   "outputs": [
    {
     "data": {
      "text/html": [
       "<div>\n",
       "<style scoped>\n",
       "    .dataframe tbody tr th:only-of-type {\n",
       "        vertical-align: middle;\n",
       "    }\n",
       "\n",
       "    .dataframe tbody tr th {\n",
       "        vertical-align: top;\n",
       "    }\n",
       "\n",
       "    .dataframe thead th {\n",
       "        text-align: right;\n",
       "    }\n",
       "</style>\n",
       "<table border=\"1\" class=\"dataframe\">\n",
       "  <thead>\n",
       "    <tr style=\"text-align: right;\">\n",
       "      <th></th>\n",
       "      <th>hora</th>\n",
       "      <th>invoiceno</th>\n",
       "    </tr>\n",
       "  </thead>\n",
       "  <tbody>\n",
       "    <tr>\n",
       "      <th>0</th>\n",
       "      <td>6</td>\n",
       "      <td>1</td>\n",
       "    </tr>\n",
       "    <tr>\n",
       "      <th>1</th>\n",
       "      <td>7</td>\n",
       "      <td>379</td>\n",
       "    </tr>\n",
       "    <tr>\n",
       "      <th>2</th>\n",
       "      <td>8</td>\n",
       "      <td>8807</td>\n",
       "    </tr>\n",
       "    <tr>\n",
       "      <th>3</th>\n",
       "      <td>9</td>\n",
       "      <td>33807</td>\n",
       "    </tr>\n",
       "    <tr>\n",
       "      <th>4</th>\n",
       "      <td>10</td>\n",
       "      <td>48028</td>\n",
       "    </tr>\n",
       "    <tr>\n",
       "      <th>5</th>\n",
       "      <td>11</td>\n",
       "      <td>56481</td>\n",
       "    </tr>\n",
       "    <tr>\n",
       "      <th>6</th>\n",
       "      <td>12</td>\n",
       "      <td>77371</td>\n",
       "    </tr>\n",
       "    <tr>\n",
       "      <th>7</th>\n",
       "      <td>13</td>\n",
       "      <td>71196</td>\n",
       "    </tr>\n",
       "    <tr>\n",
       "      <th>8</th>\n",
       "      <td>14</td>\n",
       "      <td>66445</td>\n",
       "    </tr>\n",
       "    <tr>\n",
       "      <th>9</th>\n",
       "      <td>15</td>\n",
       "      <td>76626</td>\n",
       "    </tr>\n",
       "    <tr>\n",
       "      <th>10</th>\n",
       "      <td>16</td>\n",
       "      <td>53597</td>\n",
       "    </tr>\n",
       "    <tr>\n",
       "      <th>11</th>\n",
       "      <td>17</td>\n",
       "      <td>27798</td>\n",
       "    </tr>\n",
       "    <tr>\n",
       "      <th>12</th>\n",
       "      <td>18</td>\n",
       "      <td>7764</td>\n",
       "    </tr>\n",
       "    <tr>\n",
       "      <th>13</th>\n",
       "      <td>19</td>\n",
       "      <td>3516</td>\n",
       "    </tr>\n",
       "    <tr>\n",
       "      <th>14</th>\n",
       "      <td>20</td>\n",
       "      <td>802</td>\n",
       "    </tr>\n",
       "  </tbody>\n",
       "</table>\n",
       "</div>"
      ],
      "text/plain": [
       "    hora  invoiceno\n",
       "0      6          1\n",
       "1      7        379\n",
       "2      8       8807\n",
       "3      9      33807\n",
       "4     10      48028\n",
       "5     11      56481\n",
       "6     12      77371\n",
       "7     13      71196\n",
       "8     14      66445\n",
       "9     15      76626\n",
       "10    16      53597\n",
       "11    17      27798\n",
       "12    18       7764\n",
       "13    19       3516\n",
       "14    20        802"
      ]
     },
     "execution_count": 206,
     "metadata": {},
     "output_type": "execute_result"
    }
   ],
   "source": [
    "projetofinal.groupby('hora')['invoiceno'].count().reset_index()"
   ]
  },
  {
   "cell_type": "code",
   "execution_count": 207,
   "metadata": {},
   "outputs": [
    {
     "data": {
      "image/png": "[encoded data removed]",
      "text/plain": [
       "<Figure size 640x480 with 1 Axes>"
      ]
     },
     "metadata": {},
     "output_type": "display_data"
    }
   ],
   "source": [
    "projetofinal.groupby('hora')['invoiceno'].count().plot(kind = 'bar')\n",
    "plt.show()"
   ]
  },
  {
   "cell_type": "markdown",
   "metadata": {},
   "source": [
    "Nesse código foi feito um agrupamento por hora do dia e contado o número de pedidos que acontece em cada hora. E depois foi plotado em um gráfico de barras. Analisando o gráfico é possível perceber que a maioria dos pedidos acontecem entre o fim da manhã até o meio da tarde (10 ~ 16), ele fica semelhante a uma distribuição normal e que os pedidos só acontecem entre às 6 até às 20, porém com poucos vendas nas primerias horas e nas últimas."
   ]
  },
  {
   "cell_type": "code",
   "execution_count": 208,
   "metadata": {},
   "outputs": [
    {
     "data": {
      "text/html": [
       "<div>\n",
       "<style scoped>\n",
       "    .dataframe tbody tr th:only-of-type {\n",
       "        vertical-align: middle;\n",
       "    }\n",
       "\n",
       "    .dataframe tbody tr th {\n",
       "        vertical-align: top;\n",
       "    }\n",
       "\n",
       "    .dataframe thead th {\n",
       "        text-align: right;\n",
       "    }\n",
       "</style>\n",
       "<table border=\"1\" class=\"dataframe\">\n",
       "  <thead>\n",
       "    <tr style=\"text-align: right;\">\n",
       "      <th></th>\n",
       "      <th>hora</th>\n",
       "      <th>quantity</th>\n",
       "    </tr>\n",
       "  </thead>\n",
       "  <tbody>\n",
       "    <tr>\n",
       "      <th>0</th>\n",
       "      <td>6</td>\n",
       "      <td>-86</td>\n",
       "    </tr>\n",
       "    <tr>\n",
       "      <th>1</th>\n",
       "      <td>7</td>\n",
       "      <td>15361</td>\n",
       "    </tr>\n",
       "    <tr>\n",
       "      <th>2</th>\n",
       "      <td>8</td>\n",
       "      <td>158163</td>\n",
       "    </tr>\n",
       "    <tr>\n",
       "      <th>3</th>\n",
       "      <td>9</td>\n",
       "      <td>429366</td>\n",
       "    </tr>\n",
       "    <tr>\n",
       "      <th>4</th>\n",
       "      <td>10</td>\n",
       "      <td>684416</td>\n",
       "    </tr>\n",
       "    <tr>\n",
       "      <th>5</th>\n",
       "      <td>11</td>\n",
       "      <td>637672</td>\n",
       "    </tr>\n",
       "    <tr>\n",
       "      <th>6</th>\n",
       "      <td>12</td>\n",
       "      <td>823935</td>\n",
       "    </tr>\n",
       "    <tr>\n",
       "      <th>7</th>\n",
       "      <td>13</td>\n",
       "      <td>676803</td>\n",
       "    </tr>\n",
       "    <tr>\n",
       "      <th>8</th>\n",
       "      <td>14</td>\n",
       "      <td>571549</td>\n",
       "    </tr>\n",
       "    <tr>\n",
       "      <th>9</th>\n",
       "      <td>15</td>\n",
       "      <td>609710</td>\n",
       "    </tr>\n",
       "    <tr>\n",
       "      <th>10</th>\n",
       "      <td>16</td>\n",
       "      <td>312317</td>\n",
       "    </tr>\n",
       "    <tr>\n",
       "      <th>11</th>\n",
       "      <td>17</td>\n",
       "      <td>156331</td>\n",
       "    </tr>\n",
       "    <tr>\n",
       "      <th>12</th>\n",
       "      <td>18</td>\n",
       "      <td>60615</td>\n",
       "    </tr>\n",
       "    <tr>\n",
       "      <th>13</th>\n",
       "      <td>19</td>\n",
       "      <td>32030</td>\n",
       "    </tr>\n",
       "    <tr>\n",
       "      <th>14</th>\n",
       "      <td>20</td>\n",
       "      <td>8268</td>\n",
       "    </tr>\n",
       "  </tbody>\n",
       "</table>\n",
       "</div>"
      ],
      "text/plain": [
       "    hora  quantity\n",
       "0      6       -86\n",
       "1      7     15361\n",
       "2      8    158163\n",
       "3      9    429366\n",
       "4     10    684416\n",
       "5     11    637672\n",
       "6     12    823935\n",
       "7     13    676803\n",
       "8     14    571549\n",
       "9     15    609710\n",
       "10    16    312317\n",
       "11    17    156331\n",
       "12    18     60615\n",
       "13    19     32030\n",
       "14    20      8268"
      ]
     },
     "execution_count": 208,
     "metadata": {},
     "output_type": "execute_result"
    }
   ],
   "source": [
    "projetofinal.groupby('hora')['quantity'].sum().reset_index()"
   ]
  },
  {
   "cell_type": "code",
   "execution_count": 209,
   "metadata": {},
   "outputs": [
    {
     "data": {
      "image/png": "[encoded data removed]",
      "text/plain": [
       "<Figure size 640x480 with 1 Axes>"
      ]
     },
     "metadata": {},
     "output_type": "display_data"
    }
   ],
   "source": [
    "projetofinal.groupby('hora')['quantity'].sum().plot(kind = 'bar')\n",
    "plt.show()"
   ]
  },
  {
   "cell_type": "markdown",
   "metadata": {},
   "source": [
    "Nesse código foi feito um agrupamento por hora do dia e somado a quantidade pedida por hora. E depois foi plotado em um gráfico de barras. Analisando o gráfico é possível perceber que a maioria dos pedidos acontecem entre o fim da manhã até o meio da tarde (10 ~ 16), ele fica semelhante a uma distribuição normal e que os pedidos só acontecem entre às 6 até às 20."
   ]
  },
  {
   "cell_type": "code",
   "execution_count": 210,
   "metadata": {},
   "outputs": [
    {
     "data": {
      "text/html": [
       "<div>\n",
       "<style scoped>\n",
       "    .dataframe tbody tr th:only-of-type {\n",
       "        vertical-align: middle;\n",
       "    }\n",
       "\n",
       "    .dataframe tbody tr th {\n",
       "        vertical-align: top;\n",
       "    }\n",
       "\n",
       "    .dataframe thead th {\n",
       "        text-align: right;\n",
       "    }\n",
       "</style>\n",
       "<table border=\"1\" class=\"dataframe\">\n",
       "  <thead>\n",
       "    <tr style=\"text-align: right;\">\n",
       "      <th></th>\n",
       "      <th>hora</th>\n",
       "      <th>customerid</th>\n",
       "    </tr>\n",
       "  </thead>\n",
       "  <tbody>\n",
       "    <tr>\n",
       "      <th>0</th>\n",
       "      <td>6</td>\n",
       "      <td>41</td>\n",
       "    </tr>\n",
       "    <tr>\n",
       "      <th>1</th>\n",
       "      <td>7</td>\n",
       "      <td>383</td>\n",
       "    </tr>\n",
       "    <tr>\n",
       "      <th>2</th>\n",
       "      <td>8</td>\n",
       "      <td>8792</td>\n",
       "    </tr>\n",
       "    <tr>\n",
       "      <th>3</th>\n",
       "      <td>9</td>\n",
       "      <td>22464</td>\n",
       "    </tr>\n",
       "    <tr>\n",
       "      <th>4</th>\n",
       "      <td>10</td>\n",
       "      <td>38951</td>\n",
       "    </tr>\n",
       "    <tr>\n",
       "      <th>5</th>\n",
       "      <td>11</td>\n",
       "      <td>50249</td>\n",
       "    </tr>\n",
       "    <tr>\n",
       "      <th>6</th>\n",
       "      <td>12</td>\n",
       "      <td>73342</td>\n",
       "    </tr>\n",
       "    <tr>\n",
       "      <th>7</th>\n",
       "      <td>13</td>\n",
       "      <td>65062</td>\n",
       "    </tr>\n",
       "    <tr>\n",
       "      <th>8</th>\n",
       "      <td>14</td>\n",
       "      <td>55075</td>\n",
       "    </tr>\n",
       "    <tr>\n",
       "      <th>9</th>\n",
       "      <td>15</td>\n",
       "      <td>46220</td>\n",
       "    </tr>\n",
       "    <tr>\n",
       "      <th>10</th>\n",
       "      <td>16</td>\n",
       "      <td>24997</td>\n",
       "    </tr>\n",
       "    <tr>\n",
       "      <th>11</th>\n",
       "      <td>17</td>\n",
       "      <td>13734</td>\n",
       "    </tr>\n",
       "    <tr>\n",
       "      <th>12</th>\n",
       "      <td>18</td>\n",
       "      <td>3137</td>\n",
       "    </tr>\n",
       "    <tr>\n",
       "      <th>13</th>\n",
       "      <td>19</td>\n",
       "      <td>3511</td>\n",
       "    </tr>\n",
       "    <tr>\n",
       "      <th>14</th>\n",
       "      <td>20</td>\n",
       "      <td>871</td>\n",
       "    </tr>\n",
       "  </tbody>\n",
       "</table>\n",
       "</div>"
      ],
      "text/plain": [
       "    hora  customerid\n",
       "0      6          41\n",
       "1      7         383\n",
       "2      8        8792\n",
       "3      9       22464\n",
       "4     10       38951\n",
       "5     11       50249\n",
       "6     12       73342\n",
       "7     13       65062\n",
       "8     14       55075\n",
       "9     15       46220\n",
       "10    16       24997\n",
       "11    17       13734\n",
       "12    18        3137\n",
       "13    19        3511\n",
       "14    20         871"
      ]
     },
     "execution_count": 210,
     "metadata": {},
     "output_type": "execute_result"
    }
   ],
   "source": [
    "projetofinal.groupby('hora')['customerid'].count().reset_index()"
   ]
  },
  {
   "cell_type": "code",
   "execution_count": 211,
   "metadata": {},
   "outputs": [
    {
     "data": {
      "image/png": "[encoded data removed]",
      "text/plain": [
       "<Figure size 640x480 with 1 Axes>"
      ]
     },
     "metadata": {},
     "output_type": "display_data"
    }
   ],
   "source": [
    "projetofinal.groupby('hora')['customerid'].count().plot(kind = 'bar')\n",
    "plt.show()"
   ]
  },
  {
   "cell_type": "markdown",
   "metadata": {},
   "source": [
    "Nesse código foi feito um agrupamento por hora do dia e contado o número de usuários que fizeram pedido. E depois foi plotado em um gráfico de barras. Analisando o gráfico é possível perceber que a maioria dos pedidos acontecem entre às 11 até às 15 e os pdeidos acontecem entre 6 e 20."
   ]
  },
  {
   "cell_type": "code",
   "execution_count": 212,
   "metadata": {},
   "outputs": [
    {
     "data": {
      "text/html": [
       "<div>\n",
       "<style scoped>\n",
       "    .dataframe tbody tr th:only-of-type {\n",
       "        vertical-align: middle;\n",
       "    }\n",
       "\n",
       "    .dataframe tbody tr th {\n",
       "        vertical-align: top;\n",
       "    }\n",
       "\n",
       "    .dataframe thead th {\n",
       "        text-align: right;\n",
       "    }\n",
       "</style>\n",
       "<table border=\"1\" class=\"dataframe\">\n",
       "  <thead>\n",
       "    <tr style=\"text-align: right;\">\n",
       "      <th></th>\n",
       "      <th>hora</th>\n",
       "      <th>unitprice</th>\n",
       "    </tr>\n",
       "  </thead>\n",
       "  <tbody>\n",
       "    <tr>\n",
       "      <th>0</th>\n",
       "      <td>6</td>\n",
       "      <td>440.660</td>\n",
       "    </tr>\n",
       "    <tr>\n",
       "      <th>1</th>\n",
       "      <td>7</td>\n",
       "      <td>1546.310</td>\n",
       "    </tr>\n",
       "    <tr>\n",
       "      <th>2</th>\n",
       "      <td>8</td>\n",
       "      <td>29930.330</td>\n",
       "    </tr>\n",
       "    <tr>\n",
       "      <th>3</th>\n",
       "      <td>9</td>\n",
       "      <td>188947.671</td>\n",
       "    </tr>\n",
       "    <tr>\n",
       "      <th>4</th>\n",
       "      <td>10</td>\n",
       "      <td>212692.181</td>\n",
       "    </tr>\n",
       "    <tr>\n",
       "      <th>5</th>\n",
       "      <td>11</td>\n",
       "      <td>268246.250</td>\n",
       "    </tr>\n",
       "    <tr>\n",
       "      <th>6</th>\n",
       "      <td>12</td>\n",
       "      <td>313903.320</td>\n",
       "    </tr>\n",
       "    <tr>\n",
       "      <th>7</th>\n",
       "      <td>13</td>\n",
       "      <td>295842.720</td>\n",
       "    </tr>\n",
       "    <tr>\n",
       "      <th>8</th>\n",
       "      <td>14</td>\n",
       "      <td>279164.021</td>\n",
       "    </tr>\n",
       "    <tr>\n",
       "      <th>9</th>\n",
       "      <td>15</td>\n",
       "      <td>487047.170</td>\n",
       "    </tr>\n",
       "    <tr>\n",
       "      <th>10</th>\n",
       "      <td>16</td>\n",
       "      <td>241568.620</td>\n",
       "    </tr>\n",
       "    <tr>\n",
       "      <th>11</th>\n",
       "      <td>17</td>\n",
       "      <td>128318.441</td>\n",
       "    </tr>\n",
       "    <tr>\n",
       "      <th>12</th>\n",
       "      <td>18</td>\n",
       "      <td>34986.450</td>\n",
       "    </tr>\n",
       "    <tr>\n",
       "      <th>13</th>\n",
       "      <td>19</td>\n",
       "      <td>13943.920</td>\n",
       "    </tr>\n",
       "    <tr>\n",
       "      <th>14</th>\n",
       "      <td>20</td>\n",
       "      <td>2225.910</td>\n",
       "    </tr>\n",
       "  </tbody>\n",
       "</table>\n",
       "</div>"
      ],
      "text/plain": [
       "    hora   unitprice\n",
       "0      6     440.660\n",
       "1      7    1546.310\n",
       "2      8   29930.330\n",
       "3      9  188947.671\n",
       "4     10  212692.181\n",
       "5     11  268246.250\n",
       "6     12  313903.320\n",
       "7     13  295842.720\n",
       "8     14  279164.021\n",
       "9     15  487047.170\n",
       "10    16  241568.620\n",
       "11    17  128318.441\n",
       "12    18   34986.450\n",
       "13    19   13943.920\n",
       "14    20    2225.910"
      ]
     },
     "execution_count": 212,
     "metadata": {},
     "output_type": "execute_result"
    }
   ],
   "source": [
    "projetofinal.groupby('hora')['unitprice'].sum().reset_index()"
   ]
  },
  {
   "cell_type": "code",
   "execution_count": 213,
   "metadata": {},
   "outputs": [
    {
     "data": {
      "image/png": "[encoded data removed]",
      "text/plain": [
       "<Figure size 640x480 with 1 Axes>"
      ]
     },
     "metadata": {},
     "output_type": "display_data"
    }
   ],
   "source": [
    "projetofinal.groupby('hora')['customerid'].sum().plot(kind = 'bar')\n",
    "plt.show()"
   ]
  },
  {
   "cell_type": "markdown",
   "metadata": {},
   "source": [
    "Nesse código foi feito um agrupamento por hora do dia e somado o valor total de todos os itens vendidos. E depois foi plotado em um gráfico de barras. Analisando o gráfico é possível perceber que a maioria dos pedidos acontecem entre às 10 até às 15 e os pedidos acontcem entre 6 e 20."
   ]
  },
  {
   "cell_type": "code",
   "execution_count": 214,
   "metadata": {},
   "outputs": [],
   "source": [
    "projetofinal['mes'] = projetofinal['invoicedate'].dt.month"
   ]
  },
  {
   "cell_type": "markdown",
   "metadata": {},
   "source": [
    "Nesse código foi criado uma coluna com os meses do ano em que foram efetuado pedidos, através da coluna \"invoicedate\"."
   ]
  },
  {
   "cell_type": "code",
   "execution_count": 215,
   "metadata": {},
   "outputs": [
    {
     "data": {
      "text/html": [
       "<div>\n",
       "<style scoped>\n",
       "    .dataframe tbody tr th:only-of-type {\n",
       "        vertical-align: middle;\n",
       "    }\n",
       "\n",
       "    .dataframe tbody tr th {\n",
       "        vertical-align: top;\n",
       "    }\n",
       "\n",
       "    .dataframe thead th {\n",
       "        text-align: right;\n",
       "    }\n",
       "</style>\n",
       "<table border=\"1\" class=\"dataframe\">\n",
       "  <thead>\n",
       "    <tr style=\"text-align: right;\">\n",
       "      <th></th>\n",
       "      <th>mes</th>\n",
       "      <th>invoiceno</th>\n",
       "    </tr>\n",
       "  </thead>\n",
       "  <tbody>\n",
       "    <tr>\n",
       "      <th>0</th>\n",
       "      <td>1</td>\n",
       "      <td>37383</td>\n",
       "    </tr>\n",
       "    <tr>\n",
       "      <th>1</th>\n",
       "      <td>2</td>\n",
       "      <td>26543</td>\n",
       "    </tr>\n",
       "    <tr>\n",
       "      <th>2</th>\n",
       "      <td>3</td>\n",
       "      <td>35043</td>\n",
       "    </tr>\n",
       "    <tr>\n",
       "      <th>3</th>\n",
       "      <td>4</td>\n",
       "      <td>28563</td>\n",
       "    </tr>\n",
       "    <tr>\n",
       "      <th>4</th>\n",
       "      <td>5</td>\n",
       "      <td>38928</td>\n",
       "    </tr>\n",
       "    <tr>\n",
       "      <th>5</th>\n",
       "      <td>6</td>\n",
       "      <td>34181</td>\n",
       "    </tr>\n",
       "    <tr>\n",
       "      <th>6</th>\n",
       "      <td>7</td>\n",
       "      <td>40375</td>\n",
       "    </tr>\n",
       "    <tr>\n",
       "      <th>7</th>\n",
       "      <td>8</td>\n",
       "      <td>35832</td>\n",
       "    </tr>\n",
       "    <tr>\n",
       "      <th>8</th>\n",
       "      <td>9</td>\n",
       "      <td>47101</td>\n",
       "    </tr>\n",
       "    <tr>\n",
       "      <th>9</th>\n",
       "      <td>10</td>\n",
       "      <td>62455</td>\n",
       "    </tr>\n",
       "    <tr>\n",
       "      <th>10</th>\n",
       "      <td>11</td>\n",
       "      <td>90098</td>\n",
       "    </tr>\n",
       "    <tr>\n",
       "      <th>11</th>\n",
       "      <td>12</td>\n",
       "      <td>56116</td>\n",
       "    </tr>\n",
       "  </tbody>\n",
       "</table>\n",
       "</div>"
      ],
      "text/plain": [
       "    mes  invoiceno\n",
       "0     1      37383\n",
       "1     2      26543\n",
       "2     3      35043\n",
       "3     4      28563\n",
       "4     5      38928\n",
       "5     6      34181\n",
       "6     7      40375\n",
       "7     8      35832\n",
       "8     9      47101\n",
       "9    10      62455\n",
       "10   11      90098\n",
       "11   12      56116"
      ]
     },
     "execution_count": 215,
     "metadata": {},
     "output_type": "execute_result"
    }
   ],
   "source": [
    "projetofinal.groupby('mes')['invoiceno'].count().reset_index()"
   ]
  },
  {
   "cell_type": "code",
   "execution_count": 216,
   "metadata": {},
   "outputs": [
    {
     "data": {
      "image/png": "[encoded data removed]",
      "text/plain": [
       "<Figure size 640x480 with 1 Axes>"
      ]
     },
     "metadata": {},
     "output_type": "display_data"
    }
   ],
   "source": [
    "projetofinal.groupby('mes')['invoiceno'].count().plot(kind = 'bar')\n",
    "plt.show()"
   ]
  },
  {
   "cell_type": "markdown",
   "metadata": {},
   "source": [
    "Nesse código foi feito um agrupamento por mês do ano e contado o número de pedidos que acontece em cada mês. E depois foi plotado em um gráfico de barras. Analisando o gráfico é possível perceber que a quantidade se mantém razoavelmente constante, tendo um pico no mês de novembro."
   ]
  },
  {
   "cell_type": "code",
   "execution_count": 217,
   "metadata": {},
   "outputs": [
    {
     "data": {
      "text/html": [
       "<div>\n",
       "<style scoped>\n",
       "    .dataframe tbody tr th:only-of-type {\n",
       "        vertical-align: middle;\n",
       "    }\n",
       "\n",
       "    .dataframe tbody tr th {\n",
       "        vertical-align: top;\n",
       "    }\n",
       "\n",
       "    .dataframe thead th {\n",
       "        text-align: right;\n",
       "    }\n",
       "</style>\n",
       "<table border=\"1\" class=\"dataframe\">\n",
       "  <thead>\n",
       "    <tr style=\"text-align: right;\">\n",
       "      <th></th>\n",
       "      <th>mes</th>\n",
       "      <th>quantity</th>\n",
       "    </tr>\n",
       "  </thead>\n",
       "  <tbody>\n",
       "    <tr>\n",
       "      <th>0</th>\n",
       "      <td>1</td>\n",
       "      <td>333661</td>\n",
       "    </tr>\n",
       "    <tr>\n",
       "      <th>1</th>\n",
       "      <td>2</td>\n",
       "      <td>273909</td>\n",
       "    </tr>\n",
       "    <tr>\n",
       "      <th>2</th>\n",
       "      <td>3</td>\n",
       "      <td>348631</td>\n",
       "    </tr>\n",
       "    <tr>\n",
       "      <th>3</th>\n",
       "      <td>4</td>\n",
       "      <td>275538</td>\n",
       "    </tr>\n",
       "    <tr>\n",
       "      <th>4</th>\n",
       "      <td>5</td>\n",
       "      <td>401295</td>\n",
       "    </tr>\n",
       "    <tr>\n",
       "      <th>5</th>\n",
       "      <td>6</td>\n",
       "      <td>324263</td>\n",
       "    </tr>\n",
       "    <tr>\n",
       "      <th>6</th>\n",
       "      <td>7</td>\n",
       "      <td>409329</td>\n",
       "    </tr>\n",
       "    <tr>\n",
       "      <th>7</th>\n",
       "      <td>8</td>\n",
       "      <td>419182</td>\n",
       "    </tr>\n",
       "    <tr>\n",
       "      <th>8</th>\n",
       "      <td>9</td>\n",
       "      <td>519643</td>\n",
       "    </tr>\n",
       "    <tr>\n",
       "      <th>9</th>\n",
       "      <td>10</td>\n",
       "      <td>607157</td>\n",
       "    </tr>\n",
       "    <tr>\n",
       "      <th>10</th>\n",
       "      <td>11</td>\n",
       "      <td>796889</td>\n",
       "    </tr>\n",
       "    <tr>\n",
       "      <th>11</th>\n",
       "      <td>12</td>\n",
       "      <td>466953</td>\n",
       "    </tr>\n",
       "  </tbody>\n",
       "</table>\n",
       "</div>"
      ],
      "text/plain": [
       "    mes  quantity\n",
       "0     1    333661\n",
       "1     2    273909\n",
       "2     3    348631\n",
       "3     4    275538\n",
       "4     5    401295\n",
       "5     6    324263\n",
       "6     7    409329\n",
       "7     8    419182\n",
       "8     9    519643\n",
       "9    10    607157\n",
       "10   11    796889\n",
       "11   12    466953"
      ]
     },
     "execution_count": 217,
     "metadata": {},
     "output_type": "execute_result"
    }
   ],
   "source": [
    "projetofinal.groupby('mes')['quantity'].sum().reset_index()"
   ]
  },
  {
   "cell_type": "code",
   "execution_count": 218,
   "metadata": {},
   "outputs": [
    {
     "data": {
      "image/png": "[encoded data removed]",
      "text/plain": [
       "<Figure size 640x480 with 1 Axes>"
      ]
     },
     "metadata": {},
     "output_type": "display_data"
    }
   ],
   "source": [
    "projetofinal.groupby('mes')['quantity'].sum().plot(kind = 'bar')\n",
    "plt.show()"
   ]
  },
  {
   "cell_type": "markdown",
   "metadata": {},
   "source": [
    "Nesse código foi feito um agrupamento por mês do ano e somado a quantidade pedida por mês. E depois foi plotado em um gráfico de barras. Analisando o gráfico é possível perceber que a quantidade está em crescimento a partir de setembro, com um pico no mês de novembro e uma grande queda em dezembro."
   ]
  },
  {
   "cell_type": "code",
   "execution_count": 219,
   "metadata": {},
   "outputs": [
    {
     "data": {
      "text/html": [
       "<div>\n",
       "<style scoped>\n",
       "    .dataframe tbody tr th:only-of-type {\n",
       "        vertical-align: middle;\n",
       "    }\n",
       "\n",
       "    .dataframe tbody tr th {\n",
       "        vertical-align: top;\n",
       "    }\n",
       "\n",
       "    .dataframe thead th {\n",
       "        text-align: right;\n",
       "    }\n",
       "</style>\n",
       "<table border=\"1\" class=\"dataframe\">\n",
       "  <thead>\n",
       "    <tr style=\"text-align: right;\">\n",
       "      <th></th>\n",
       "      <th>mes</th>\n",
       "      <th>customerid</th>\n",
       "    </tr>\n",
       "  </thead>\n",
       "  <tbody>\n",
       "    <tr>\n",
       "      <th>0</th>\n",
       "      <td>1</td>\n",
       "      <td>24180</td>\n",
       "    </tr>\n",
       "    <tr>\n",
       "      <th>1</th>\n",
       "      <td>2</td>\n",
       "      <td>20130</td>\n",
       "    </tr>\n",
       "    <tr>\n",
       "      <th>2</th>\n",
       "      <td>3</td>\n",
       "      <td>26928</td>\n",
       "    </tr>\n",
       "    <tr>\n",
       "      <th>3</th>\n",
       "      <td>4</td>\n",
       "      <td>22509</td>\n",
       "    </tr>\n",
       "    <tr>\n",
       "      <th>4</th>\n",
       "      <td>5</td>\n",
       "      <td>30266</td>\n",
       "    </tr>\n",
       "    <tr>\n",
       "      <th>5</th>\n",
       "      <td>6</td>\n",
       "      <td>26902</td>\n",
       "    </tr>\n",
       "    <tr>\n",
       "      <th>6</th>\n",
       "      <td>7</td>\n",
       "      <td>28577</td>\n",
       "    </tr>\n",
       "    <tr>\n",
       "      <th>7</th>\n",
       "      <td>8</td>\n",
       "      <td>28256</td>\n",
       "    </tr>\n",
       "    <tr>\n",
       "      <th>8</th>\n",
       "      <td>9</td>\n",
       "      <td>39700</td>\n",
       "    </tr>\n",
       "    <tr>\n",
       "      <th>9</th>\n",
       "      <td>10</td>\n",
       "      <td>52832</td>\n",
       "    </tr>\n",
       "    <tr>\n",
       "      <th>10</th>\n",
       "      <td>11</td>\n",
       "      <td>70294</td>\n",
       "    </tr>\n",
       "    <tr>\n",
       "      <th>11</th>\n",
       "      <td>12</td>\n",
       "      <td>36255</td>\n",
       "    </tr>\n",
       "  </tbody>\n",
       "</table>\n",
       "</div>"
      ],
      "text/plain": [
       "    mes  customerid\n",
       "0     1       24180\n",
       "1     2       20130\n",
       "2     3       26928\n",
       "3     4       22509\n",
       "4     5       30266\n",
       "5     6       26902\n",
       "6     7       28577\n",
       "7     8       28256\n",
       "8     9       39700\n",
       "9    10       52832\n",
       "10   11       70294\n",
       "11   12       36255"
      ]
     },
     "execution_count": 219,
     "metadata": {},
     "output_type": "execute_result"
    }
   ],
   "source": [
    "projetofinal.groupby('mes')['customerid'].count().reset_index()"
   ]
  },
  {
   "cell_type": "code",
   "execution_count": 220,
   "metadata": {},
   "outputs": [
    {
     "data": {
      "image/png": "[encoded data removed]",
      "text/plain": [
       "<Figure size 640x480 with 1 Axes>"
      ]
     },
     "metadata": {},
     "output_type": "display_data"
    }
   ],
   "source": [
    "projetofinal.groupby('mes')['customerid'].count().plot(kind = 'bar')\n",
    "plt.show()"
   ]
  },
  {
   "cell_type": "markdown",
   "metadata": {},
   "source": [
    "Nesse gráfico foi feito um agrupamento por mês do ano e contado o número de usuários que fizeram pedido. E depois foi plotado em um gráfico. Analisando o gráfico é possível perceber que a quantidade está razoavelmente estável, acontece um crescimento a partir de setembro, um pico em novembro e uma grande queda em dezembro."
   ]
  },
  {
   "cell_type": "code",
   "execution_count": 221,
   "metadata": {},
   "outputs": [
    {
     "data": {
      "text/html": [
       "<div>\n",
       "<style scoped>\n",
       "    .dataframe tbody tr th:only-of-type {\n",
       "        vertical-align: middle;\n",
       "    }\n",
       "\n",
       "    .dataframe tbody tr th {\n",
       "        vertical-align: top;\n",
       "    }\n",
       "\n",
       "    .dataframe thead th {\n",
       "        text-align: right;\n",
       "    }\n",
       "</style>\n",
       "<table border=\"1\" class=\"dataframe\">\n",
       "  <thead>\n",
       "    <tr style=\"text-align: right;\">\n",
       "      <th></th>\n",
       "      <th>mes</th>\n",
       "      <th>unitprice</th>\n",
       "    </tr>\n",
       "  </thead>\n",
       "  <tbody>\n",
       "    <tr>\n",
       "      <th>0</th>\n",
       "      <td>1</td>\n",
       "      <td>184293.110</td>\n",
       "    </tr>\n",
       "    <tr>\n",
       "      <th>1</th>\n",
       "      <td>2</td>\n",
       "      <td>126635.400</td>\n",
       "    </tr>\n",
       "    <tr>\n",
       "      <th>2</th>\n",
       "      <td>3</td>\n",
       "      <td>165443.920</td>\n",
       "    </tr>\n",
       "    <tr>\n",
       "      <th>3</th>\n",
       "      <td>4</td>\n",
       "      <td>125779.021</td>\n",
       "    </tr>\n",
       "    <tr>\n",
       "      <th>4</th>\n",
       "      <td>5</td>\n",
       "      <td>202283.310</td>\n",
       "    </tr>\n",
       "    <tr>\n",
       "      <th>5</th>\n",
       "      <td>6</td>\n",
       "      <td>191391.680</td>\n",
       "    </tr>\n",
       "    <tr>\n",
       "      <th>6</th>\n",
       "      <td>7</td>\n",
       "      <td>189085.491</td>\n",
       "    </tr>\n",
       "    <tr>\n",
       "      <th>7</th>\n",
       "      <td>8</td>\n",
       "      <td>144006.450</td>\n",
       "    </tr>\n",
       "    <tr>\n",
       "      <th>8</th>\n",
       "      <td>9</td>\n",
       "      <td>188607.572</td>\n",
       "    </tr>\n",
       "    <tr>\n",
       "      <th>9</th>\n",
       "      <td>10</td>\n",
       "      <td>274230.640</td>\n",
       "    </tr>\n",
       "    <tr>\n",
       "      <th>10</th>\n",
       "      <td>11</td>\n",
       "      <td>353013.300</td>\n",
       "    </tr>\n",
       "    <tr>\n",
       "      <th>11</th>\n",
       "      <td>12</td>\n",
       "      <td>354034.080</td>\n",
       "    </tr>\n",
       "  </tbody>\n",
       "</table>\n",
       "</div>"
      ],
      "text/plain": [
       "    mes   unitprice\n",
       "0     1  184293.110\n",
       "1     2  126635.400\n",
       "2     3  165443.920\n",
       "3     4  125779.021\n",
       "4     5  202283.310\n",
       "5     6  191391.680\n",
       "6     7  189085.491\n",
       "7     8  144006.450\n",
       "8     9  188607.572\n",
       "9    10  274230.640\n",
       "10   11  353013.300\n",
       "11   12  354034.080"
      ]
     },
     "execution_count": 221,
     "metadata": {},
     "output_type": "execute_result"
    }
   ],
   "source": [
    "projetofinal.groupby('mes')['unitprice'].sum().reset_index()"
   ]
  },
  {
   "cell_type": "code",
   "execution_count": 222,
   "metadata": {},
   "outputs": [
    {
     "data": {
      "image/png": "[encoded data removed]",
      "text/plain": [
       "<Figure size 640x480 with 1 Axes>"
      ]
     },
     "metadata": {},
     "output_type": "display_data"
    }
   ],
   "source": [
    "projetofinal.groupby('mes')['unitprice'].sum().plot(kind = 'bar')\n",
    "plt.show()"
   ]
  },
  {
   "cell_type": "markdown",
   "metadata": {},
   "source": [
    "Nesse código foi feito um agrupamento por mês do ano e somado o valor total de todos os itens vendidos. E depois foi plotado em um gráfico de barras. Analisando o gráfico é possível perceber que o valor está razoavelmente estável até novembro, quando acontece um grande pico que permance alto em dezembro também."
   ]
  },
  {
   "cell_type": "code",
   "execution_count": 223,
   "metadata": {},
   "outputs": [
    {
     "data": {
      "text/plain": [
       "4372"
      ]
     },
     "execution_count": 223,
     "metadata": {},
     "output_type": "execute_result"
    }
   ],
   "source": [
    "projetofinal['customerid'].nunique()"
   ]
  },
  {
   "cell_type": "code",
   "execution_count": 224,
   "metadata": {},
   "outputs": [
    {
     "data": {
      "text/plain": [
       "305"
      ]
     },
     "execution_count": 224,
     "metadata": {},
     "output_type": "execute_result"
    }
   ],
   "source": [
    "projetofinal['data'].nunique()"
   ]
  },
  {
   "cell_type": "code",
   "execution_count": 225,
   "metadata": {},
   "outputs": [
    {
     "data": {
      "text/plain": [
       "22061"
      ]
     },
     "execution_count": 225,
     "metadata": {},
     "output_type": "execute_result"
    }
   ],
   "source": [
    "projetofinal['invoiceno'].nunique()"
   ]
  },
  {
   "cell_type": "code",
   "execution_count": 226,
   "metadata": {},
   "outputs": [
    {
     "data": {
      "text/plain": [
       "4070"
      ]
     },
     "execution_count": 226,
     "metadata": {},
     "output_type": "execute_result"
    }
   ],
   "source": [
    "projetofinal['stockcode'].nunique()"
   ]
  },
  {
   "cell_type": "code",
   "execution_count": 227,
   "metadata": {},
   "outputs": [
    {
     "data": {
      "text/plain": [
       "4223"
      ]
     },
     "execution_count": 227,
     "metadata": {},
     "output_type": "execute_result"
    }
   ],
   "source": [
    "projetofinal['description'].nunique()"
   ]
  },
  {
   "cell_type": "code",
   "execution_count": 228,
   "metadata": {},
   "outputs": [
    {
     "data": {
      "text/plain": [
       "722"
      ]
     },
     "execution_count": 228,
     "metadata": {},
     "output_type": "execute_result"
    }
   ],
   "source": [
    "projetofinal['quantity'].nunique()"
   ]
  },
  {
   "cell_type": "code",
   "execution_count": 229,
   "metadata": {},
   "outputs": [
    {
     "data": {
      "text/plain": [
       "23260"
      ]
     },
     "execution_count": 229,
     "metadata": {},
     "output_type": "execute_result"
    }
   ],
   "source": [
    "projetofinal['invoicedate'].nunique()"
   ]
  },
  {
   "cell_type": "code",
   "execution_count": 230,
   "metadata": {},
   "outputs": [
    {
     "data": {
      "text/plain": [
       "1630"
      ]
     },
     "execution_count": 230,
     "metadata": {},
     "output_type": "execute_result"
    }
   ],
   "source": [
    "projetofinal['unitprice'].nunique()"
   ]
  },
  {
   "cell_type": "markdown",
   "metadata": {},
   "source": [
    "Nesses códigos foram analisados a quantidade de valores únicos para cada coluna. Analisando os resultados é possível perceber que possivelmente existem alguns erros. Por exemplo, a coluna \"stockcode\" (identificador de item) está diretamente relacionado com a coluna \"description\" (nome do item) e teoricamente cada item tem um identificados único e exclusivo, porém os valores são diferentes."
   ]
  },
  {
   "cell_type": "code",
   "execution_count": 231,
   "metadata": {},
   "outputs": [
    {
     "data": {
      "text/plain": [
       "-11062.06"
      ]
     },
     "execution_count": 231,
     "metadata": {},
     "output_type": "execute_result"
    }
   ],
   "source": [
    "projetofinal['unitprice'].min()"
   ]
  },
  {
   "cell_type": "code",
   "execution_count": 232,
   "metadata": {},
   "outputs": [
    {
     "data": {
      "text/plain": [
       "38970.0"
      ]
     },
     "execution_count": 232,
     "metadata": {},
     "output_type": "execute_result"
    }
   ],
   "source": [
    "projetofinal['unitprice'].max()"
   ]
  },
  {
   "cell_type": "markdown",
   "metadata": {},
   "source": [
    "Nesses códigos foram calculados os valores mínimos e máximos da coluna \"unitprice\". Analisando o resultado é possível perceber que o valor mínimo é um valor muito negativo, o que é um erro, pois um item não pode ter preço negativo. E o valor máximo é muito elevado, o que pode ser um erro ou será que um item tem valor muito alto?"
   ]
  },
  {
   "cell_type": "code",
   "execution_count": 233,
   "metadata": {},
   "outputs": [
    {
     "data": {
      "text/plain": [
       "-80995"
      ]
     },
     "execution_count": 233,
     "metadata": {},
     "output_type": "execute_result"
    }
   ],
   "source": [
    "projetofinal['quantity'].min()"
   ]
  },
  {
   "cell_type": "code",
   "execution_count": 234,
   "metadata": {},
   "outputs": [
    {
     "data": {
      "text/plain": [
       "80995"
      ]
     },
     "execution_count": 234,
     "metadata": {},
     "output_type": "execute_result"
    }
   ],
   "source": [
    "projetofinal['quantity'].max()"
   ]
  },
  {
   "cell_type": "markdown",
   "metadata": {},
   "source": [
    "Nesses códigos foram calculados os valores mínimos e máximos da coluna \"quantity\". Analisando o resultado é possivel perceber que o valor mínimo é um valor muito negativo, o que mostra que o pedido foi cancelado. E o valor máximo é muito elevado, o que pode ser um erro ou algum pedido teve uma quantia bem elevada."
   ]
  },
  {
   "cell_type": "code",
   "execution_count": 235,
   "metadata": {},
   "outputs": [],
   "source": [
    "projetofinal['ano'] = projetofinal['invoicedate'].dt.year"
   ]
  },
  {
   "cell_type": "markdown",
   "metadata": {},
   "source": [
    "Nesse código foi criado uma coluna com os anos em que foram efetuados pedidos, através da coluna \"invoicedate\"."
   ]
  },
  {
   "cell_type": "code",
   "execution_count": 236,
   "metadata": {},
   "outputs": [
    {
     "data": {
      "text/html": [
       "<div>\n",
       "<style scoped>\n",
       "    .dataframe tbody tr th:only-of-type {\n",
       "        vertical-align: middle;\n",
       "    }\n",
       "\n",
       "    .dataframe tbody tr th {\n",
       "        vertical-align: top;\n",
       "    }\n",
       "\n",
       "    .dataframe thead tr th {\n",
       "        text-align: left;\n",
       "    }\n",
       "</style>\n",
       "<table border=\"1\" class=\"dataframe\">\n",
       "  <thead>\n",
       "    <tr>\n",
       "      <th></th>\n",
       "      <th>customerid</th>\n",
       "      <th colspan=\"3\" halign=\"left\">data</th>\n",
       "      <th>quantity</th>\n",
       "      <th>unitprice</th>\n",
       "    </tr>\n",
       "    <tr>\n",
       "      <th></th>\n",
       "      <th></th>\n",
       "      <th>count</th>\n",
       "      <th>min</th>\n",
       "      <th>max</th>\n",
       "      <th>sum</th>\n",
       "      <th>sum</th>\n",
       "    </tr>\n",
       "  </thead>\n",
       "  <tbody>\n",
       "    <tr>\n",
       "      <th>0</th>\n",
       "      <td>12346.0</td>\n",
       "      <td>2</td>\n",
       "      <td>2019-01-16</td>\n",
       "      <td>2019-01-16</td>\n",
       "      <td>0</td>\n",
       "      <td>2.08</td>\n",
       "    </tr>\n",
       "    <tr>\n",
       "      <th>1</th>\n",
       "      <td>12347.0</td>\n",
       "      <td>182</td>\n",
       "      <td>2018-12-05</td>\n",
       "      <td>2019-12-05</td>\n",
       "      <td>2458</td>\n",
       "      <td>481.21</td>\n",
       "    </tr>\n",
       "    <tr>\n",
       "      <th>2</th>\n",
       "      <td>12348.0</td>\n",
       "      <td>31</td>\n",
       "      <td>2018-12-14</td>\n",
       "      <td>2019-09-23</td>\n",
       "      <td>2341</td>\n",
       "      <td>178.71</td>\n",
       "    </tr>\n",
       "    <tr>\n",
       "      <th>3</th>\n",
       "      <td>12349.0</td>\n",
       "      <td>73</td>\n",
       "      <td>2019-11-19</td>\n",
       "      <td>2019-11-19</td>\n",
       "      <td>631</td>\n",
       "      <td>605.10</td>\n",
       "    </tr>\n",
       "    <tr>\n",
       "      <th>4</th>\n",
       "      <td>12350.0</td>\n",
       "      <td>17</td>\n",
       "      <td>2019-01-31</td>\n",
       "      <td>2019-01-31</td>\n",
       "      <td>197</td>\n",
       "      <td>65.30</td>\n",
       "    </tr>\n",
       "    <tr>\n",
       "      <th>...</th>\n",
       "      <td>...</td>\n",
       "      <td>...</td>\n",
       "      <td>...</td>\n",
       "      <td>...</td>\n",
       "      <td>...</td>\n",
       "      <td>...</td>\n",
       "    </tr>\n",
       "    <tr>\n",
       "      <th>4367</th>\n",
       "      <td>18280.0</td>\n",
       "      <td>10</td>\n",
       "      <td>2019-03-05</td>\n",
       "      <td>2019-03-05</td>\n",
       "      <td>45</td>\n",
       "      <td>47.65</td>\n",
       "    </tr>\n",
       "    <tr>\n",
       "      <th>4368</th>\n",
       "      <td>18281.0</td>\n",
       "      <td>7</td>\n",
       "      <td>2019-06-10</td>\n",
       "      <td>2019-06-10</td>\n",
       "      <td>54</td>\n",
       "      <td>39.36</td>\n",
       "    </tr>\n",
       "    <tr>\n",
       "      <th>4369</th>\n",
       "      <td>18282.0</td>\n",
       "      <td>13</td>\n",
       "      <td>2019-08-03</td>\n",
       "      <td>2019-11-30</td>\n",
       "      <td>98</td>\n",
       "      <td>62.68</td>\n",
       "    </tr>\n",
       "    <tr>\n",
       "      <th>4370</th>\n",
       "      <td>18283.0</td>\n",
       "      <td>756</td>\n",
       "      <td>2019-01-04</td>\n",
       "      <td>2019-12-04</td>\n",
       "      <td>1397</td>\n",
       "      <td>1220.93</td>\n",
       "    </tr>\n",
       "    <tr>\n",
       "      <th>4371</th>\n",
       "      <td>18287.0</td>\n",
       "      <td>70</td>\n",
       "      <td>2019-05-20</td>\n",
       "      <td>2019-10-26</td>\n",
       "      <td>1586</td>\n",
       "      <td>104.55</td>\n",
       "    </tr>\n",
       "  </tbody>\n",
       "</table>\n",
       "<p>4372 rows × 6 columns</p>\n",
       "</div>"
      ],
      "text/plain": [
       "     customerid  data                         quantity unitprice\n",
       "                count         min         max      sum       sum\n",
       "0       12346.0     2  2019-01-16  2019-01-16        0      2.08\n",
       "1       12347.0   182  2018-12-05  2019-12-05     2458    481.21\n",
       "2       12348.0    31  2018-12-14  2019-09-23     2341    178.71\n",
       "3       12349.0    73  2019-11-19  2019-11-19      631    605.10\n",
       "4       12350.0    17  2019-01-31  2019-01-31      197     65.30\n",
       "...         ...   ...         ...         ...      ...       ...\n",
       "4367    18280.0    10  2019-03-05  2019-03-05       45     47.65\n",
       "4368    18281.0     7  2019-06-10  2019-06-10       54     39.36\n",
       "4369    18282.0    13  2019-08-03  2019-11-30       98     62.68\n",
       "4370    18283.0   756  2019-01-04  2019-12-04     1397   1220.93\n",
       "4371    18287.0    70  2019-05-20  2019-10-26     1586    104.55\n",
       "\n",
       "[4372 rows x 6 columns]"
      ]
     },
     "execution_count": 236,
     "metadata": {},
     "output_type": "execute_result"
    }
   ],
   "source": [
    "projetofinal.groupby('customerid').agg({'data' : ['count', 'min', 'max'], 'quantity' : 'sum', 'unitprice' : 'sum'}).reset_index()"
   ]
  },
  {
   "cell_type": "markdown",
   "metadata": {},
   "source": [
    "Nesse código foi feito um agrupamento por cliente e feito um agregado por qauntidade de pedidos, data mínima (primeira compra), data máxima (última compra), a quantidade comprada e o total gasto. Analisando a tabela resultangte é possível perceber que existe uma grande variação entre os clientes, seja na quantidade de pedidos, quando foi a primeira compra, quando foi a última compra, a quantidade comprada e a quantidade gasta. Com esse resultado podemos analisar a quanto tempo os clientes fizeram a última compra e se faz muito tempo, para com isso tentar entender o comportamento dos clientes e como podemos trabalhar com isso. "
   ]
  },
  {
   "cell_type": "code",
   "execution_count": 237,
   "metadata": {},
   "outputs": [
    {
     "name": "stdout",
     "output_type": "stream",
     "text": [
      "      customerid  total_purchases first_purchase_date last_purchase_date  \\\n",
      "2907     16274.0               67          2018-11-29         2018-11-29   \n",
      "1764     14729.0               71          2018-11-29         2018-11-29   \n",
      "3129     16583.0               14          2018-11-29         2018-11-29   \n",
      "359      12791.0                2          2018-11-29         2018-11-29   \n",
      "4096     17908.0               58          2018-11-29         2018-11-29   \n",
      "...          ...              ...                 ...                ...   \n",
      "330      12748.0             4642          2018-11-29         2019-12-07   \n",
      "1534     14422.0              222          2019-03-15         2019-12-07   \n",
      "2562     15804.0              274          2019-05-23         2019-12-07   \n",
      "556      13069.0              470          2018-12-03         2019-12-07   \n",
      "146      12526.0               71          2019-09-04         2019-12-07   \n",
      "\n",
      "      total_quantity  total_unitprice  time_since_last_purchase  \n",
      "2907             155           286.60                       373  \n",
      "1764             197           153.30                       373  \n",
      "3129             111            35.90                       373  \n",
      "359               97            16.85                       373  \n",
      "4096             173           155.01                       373  \n",
      "...              ...              ...                       ...  \n",
      "330            24210         15115.60                         0  \n",
      "1534            2906           623.87                         0  \n",
      "2562            2515          1121.76                         0  \n",
      "556             5466           809.53                         0  \n",
      "146              632           238.12                         0  \n",
      "\n",
      "[4372 rows x 7 columns]\n"
     ]
    }
   ],
   "source": [
    "projetofinal['data'] = pd.to_datetime(projetofinal['data'])\n",
    "data_compra = projetofinal.groupby('customerid').agg({\n",
    "    'data': ['count', 'min', 'max'],\n",
    "    'quantity': 'sum',\n",
    "    'unitprice': 'sum'\n",
    "}).reset_index()\n",
    "data_compra.columns = ['customerid', 'total_purchases', 'first_purchase_date', 'last_purchase_date', 'total_quantity', 'total_unitprice']\n",
    "data_compra['last_purchase_date'] = pd.to_datetime(data_compra['last_purchase_date'])\n",
    "data_final = pd.Timestamp('2019-12-07')\n",
    "data_compra['time_since_last_purchase'] = (data_final - data_compra['last_purchase_date']).dt.days\n",
    "clientes_mais_antigos = data_compra.sort_values(by='time_since_last_purchase', ascending=False)\n",
    "print(clientes_mais_antigos)"
   ]
  },
  {
   "cell_type": "code",
   "execution_count": 238,
   "metadata": {},
   "outputs": [],
   "source": [
    "projetofinal['total_gasto'] = projetofinal['unitprice'] * projetofinal['quantity']"
   ]
  },
  {
   "cell_type": "code",
   "execution_count": 239,
   "metadata": {},
   "outputs": [
    {
     "name": "stdout",
     "output_type": "stream",
     "text": [
      "      customerid  total_gasto\n",
      "1703     14646.0    279489.02\n",
      "4233     18102.0    256438.49\n",
      "3758     17450.0    187482.17\n",
      "1895     14911.0    132572.62\n",
      "55       12415.0    123725.45\n",
      "...          ...          ...\n",
      "125      12503.0     -1126.00\n",
      "3870     17603.0     -1165.30\n",
      "1384     14213.0     -1192.20\n",
      "2236     15369.0     -1592.49\n",
      "3756     17448.0     -4287.63\n",
      "\n",
      "[4372 rows x 2 columns]\n"
     ]
    }
   ],
   "source": [
    "total_gasto_por_cliente = projetofinal.groupby('customerid')['total_gasto'].sum().reset_index()\n",
    "total_gasto_por_cliente_sorted = total_gasto_por_cliente.sort_values(by='total_gasto', ascending=False)\n",
    "print(total_gasto_por_cliente_sorted[['customerid', 'total_gasto']])"
   ]
  },
  {
   "cell_type": "markdown",
   "metadata": {},
   "source": [
    "Nesse código foi calculado, através da data \"atual\" e a última compra de cada cliente, há quanto tempo cada cliente fez a última compra. Analisando o resultado é possível perceber que existem clientes que não compram a mais de um ano (provavelmente já perdemos esses clientes) e os clientes que continuam comprando. E com isso, analisar onde precisamos investir em marketing ou para quais clientes podemos dar mais atenção, entre outras ações."
   ]
  },
  {
   "cell_type": "code",
   "execution_count": 240,
   "metadata": {},
   "outputs": [
    {
     "data": {
      "text/plain": [
       "9.55224954743324"
      ]
     },
     "execution_count": 240,
     "metadata": {},
     "output_type": "execute_result"
    }
   ],
   "source": [
    "projetofinal['quantity'].mean()"
   ]
  },
  {
   "cell_type": "code",
   "execution_count": 241,
   "metadata": {},
   "outputs": [
    {
     "data": {
      "text/plain": [
       "4.611113626088513"
      ]
     },
     "execution_count": 241,
     "metadata": {},
     "output_type": "execute_result"
    }
   ],
   "source": [
    "projetofinal['unitprice'].mean()"
   ]
  },
  {
   "cell_type": "markdown",
   "metadata": {},
   "source": [
    "Nesses códigos foram calculados a média da quantidade por pedido e a média de preço por item. Porém, como nessas colunas existem vários valores negativos, esse valor pode estar muito longe do real."
   ]
  },
  {
   "cell_type": "code",
   "execution_count": 242,
   "metadata": {},
   "outputs": [
    {
     "name": "stdout",
     "output_type": "stream",
     "text": [
      "        invoiceno stockcode                          description  quantity  \\\n",
      "0        536365.0    85123A   WHITE HANGING HEART T-LIGHT HOLDER         6   \n",
      "1        536365.0     71053                  WHITE METAL LANTERN         6   \n",
      "2        536365.0    84406B       CREAM CUPID HEARTS COAT HANGER         8   \n",
      "3        536365.0    84029G  KNITTED UNION FLAG HOT WATER BOTTLE         6   \n",
      "4        536365.0    84029E       RED WOOLLY HOTTIE WHITE HEART.         6   \n",
      "...           ...       ...                                  ...       ...   \n",
      "541904   581587.0     22613          PACK OF 20 SPACEBOY NAPKINS        12   \n",
      "541905   581587.0     22899         CHILDREN'S APRON DOLLY GIRL          6   \n",
      "541906   581587.0     23254        CHILDRENS CUTLERY DOLLY GIRL          4   \n",
      "541907   581587.0     23255      CHILDRENS CUTLERY CIRCUS PARADE         4   \n",
      "541908   581587.0     22138        BAKING SET 9 PIECE RETROSPOT          3   \n",
      "\n",
      "               invoicedate  unitprice  customerid       data  hora  dia  mes  \\\n",
      "0      2018-11-29 08:26:00       2.55     17850.0 2018-11-29     8   29   11   \n",
      "1      2018-11-29 08:26:00       3.39     17850.0 2018-11-29     8   29   11   \n",
      "2      2018-11-29 08:26:00       2.75     17850.0 2018-11-29     8   29   11   \n",
      "3      2018-11-29 08:26:00       3.39     17850.0 2018-11-29     8   29   11   \n",
      "4      2018-11-29 08:26:00       3.39     17850.0 2018-11-29     8   29   11   \n",
      "...                    ...        ...         ...        ...   ...  ...  ...   \n",
      "541904 2019-12-07 12:50:00       0.85     12680.0 2019-12-07    12    7   12   \n",
      "541905 2019-12-07 12:50:00       2.10     12680.0 2019-12-07    12    7   12   \n",
      "541906 2019-12-07 12:50:00       4.15     12680.0 2019-12-07    12    7   12   \n",
      "541907 2019-12-07 12:50:00       4.15     12680.0 2019-12-07    12    7   12   \n",
      "541908 2019-12-07 12:50:00       4.95     12680.0 2019-12-07    12    7   12   \n",
      "\n",
      "         ano  total_gasto  description_length  \n",
      "0       2018        15.30                  34  \n",
      "1       2018        20.34                  19  \n",
      "2       2018        22.00                  30  \n",
      "3       2018        20.34                  35  \n",
      "4       2018        20.34                  30  \n",
      "...      ...          ...                 ...  \n",
      "541904  2019        10.20                  27  \n",
      "541905  2019        12.60                  28  \n",
      "541906  2019        16.60                  29  \n",
      "541907  2019        16.60                  31  \n",
      "541908  2019        14.85                  29  \n",
      "\n",
      "[541909 rows x 14 columns]\n"
     ]
    }
   ],
   "source": [
    "projetofinal['description'] = projetofinal['description'].astype(str)\n",
    "\n",
    "# Calcular o comprimento de cada descrição e criar uma nova coluna\n",
    "projetofinal['description_length'] = projetofinal['description'].apply(len)\n",
    "\n",
    "print(projetofinal)"
   ]
  },
  {
   "cell_type": "markdown",
   "metadata": {},
   "source": [
    "Nesse código foi calculado a quantidade vendida de cada item, para com isso saber quais são os produtos mais vendidos e saber onde podemos investir mais e onde não investir tanto."
   ]
  },
  {
   "cell_type": "code",
   "execution_count": 243,
   "metadata": {},
   "outputs": [
    {
     "data": {
      "text/html": [
       "<div>\n",
       "<style scoped>\n",
       "    .dataframe tbody tr th:only-of-type {\n",
       "        vertical-align: middle;\n",
       "    }\n",
       "\n",
       "    .dataframe tbody tr th {\n",
       "        vertical-align: top;\n",
       "    }\n",
       "\n",
       "    .dataframe thead th {\n",
       "        text-align: right;\n",
       "    }\n",
       "</style>\n",
       "<table border=\"1\" class=\"dataframe\">\n",
       "  <thead>\n",
       "    <tr style=\"text-align: right;\">\n",
       "      <th></th>\n",
       "      <th>invoiceno</th>\n",
       "      <th>quantity</th>\n",
       "      <th>unitprice</th>\n",
       "      <th>customerid</th>\n",
       "      <th>hora</th>\n",
       "      <th>dia</th>\n",
       "      <th>mes</th>\n",
       "      <th>ano</th>\n",
       "      <th>total_gasto</th>\n",
       "      <th>description_length</th>\n",
       "    </tr>\n",
       "  </thead>\n",
       "  <tbody>\n",
       "    <tr>\n",
       "      <th>count</th>\n",
       "      <td>532618.000000</td>\n",
       "      <td>541909.000000</td>\n",
       "      <td>541909.000000</td>\n",
       "      <td>406829.000000</td>\n",
       "      <td>541909.000000</td>\n",
       "      <td>541909.000000</td>\n",
       "      <td>541909.000000</td>\n",
       "      <td>541909.000000</td>\n",
       "      <td>541909.000000</td>\n",
       "      <td>541909.000000</td>\n",
       "    </tr>\n",
       "    <tr>\n",
       "      <th>mean</th>\n",
       "      <td>559965.752027</td>\n",
       "      <td>9.552250</td>\n",
       "      <td>4.611114</td>\n",
       "      <td>15287.690570</td>\n",
       "      <td>13.078729</td>\n",
       "      <td>14.944574</td>\n",
       "      <td>7.489907</td>\n",
       "      <td>2018.921609</td>\n",
       "      <td>17.987795</td>\n",
       "      <td>26.580341</td>\n",
       "    </tr>\n",
       "    <tr>\n",
       "      <th>std</th>\n",
       "      <td>13428.417281</td>\n",
       "      <td>218.081158</td>\n",
       "      <td>96.759853</td>\n",
       "      <td>1713.600303</td>\n",
       "      <td>2.443270</td>\n",
       "      <td>8.820646</td>\n",
       "      <td>3.498394</td>\n",
       "      <td>0.268787</td>\n",
       "      <td>378.810824</td>\n",
       "      <td>5.578571</td>\n",
       "    </tr>\n",
       "    <tr>\n",
       "      <th>min</th>\n",
       "      <td>536365.000000</td>\n",
       "      <td>-80995.000000</td>\n",
       "      <td>-11062.060000</td>\n",
       "      <td>12346.000000</td>\n",
       "      <td>6.000000</td>\n",
       "      <td>1.000000</td>\n",
       "      <td>1.000000</td>\n",
       "      <td>2018.000000</td>\n",
       "      <td>-168469.600000</td>\n",
       "      <td>1.000000</td>\n",
       "    </tr>\n",
       "    <tr>\n",
       "      <th>25%</th>\n",
       "      <td>547906.000000</td>\n",
       "      <td>1.000000</td>\n",
       "      <td>1.250000</td>\n",
       "      <td>13953.000000</td>\n",
       "      <td>11.000000</td>\n",
       "      <td>7.000000</td>\n",
       "      <td>5.000000</td>\n",
       "      <td>2019.000000</td>\n",
       "      <td>3.400000</td>\n",
       "      <td>23.000000</td>\n",
       "    </tr>\n",
       "    <tr>\n",
       "      <th>50%</th>\n",
       "      <td>560688.000000</td>\n",
       "      <td>3.000000</td>\n",
       "      <td>2.080000</td>\n",
       "      <td>15152.000000</td>\n",
       "      <td>13.000000</td>\n",
       "      <td>15.000000</td>\n",
       "      <td>8.000000</td>\n",
       "      <td>2019.000000</td>\n",
       "      <td>9.750000</td>\n",
       "      <td>27.000000</td>\n",
       "    </tr>\n",
       "    <tr>\n",
       "      <th>75%</th>\n",
       "      <td>571841.000000</td>\n",
       "      <td>10.000000</td>\n",
       "      <td>4.130000</td>\n",
       "      <td>16791.000000</td>\n",
       "      <td>15.000000</td>\n",
       "      <td>22.000000</td>\n",
       "      <td>11.000000</td>\n",
       "      <td>2019.000000</td>\n",
       "      <td>17.400000</td>\n",
       "      <td>31.000000</td>\n",
       "    </tr>\n",
       "    <tr>\n",
       "      <th>max</th>\n",
       "      <td>581587.000000</td>\n",
       "      <td>80995.000000</td>\n",
       "      <td>38970.000000</td>\n",
       "      <td>18287.000000</td>\n",
       "      <td>20.000000</td>\n",
       "      <td>31.000000</td>\n",
       "      <td>12.000000</td>\n",
       "      <td>2019.000000</td>\n",
       "      <td>168469.600000</td>\n",
       "      <td>35.000000</td>\n",
       "    </tr>\n",
       "  </tbody>\n",
       "</table>\n",
       "</div>"
      ],
      "text/plain": [
       "           invoiceno       quantity      unitprice     customerid  \\\n",
       "count  532618.000000  541909.000000  541909.000000  406829.000000   \n",
       "mean   559965.752027       9.552250       4.611114   15287.690570   \n",
       "std     13428.417281     218.081158      96.759853    1713.600303   \n",
       "min    536365.000000  -80995.000000  -11062.060000   12346.000000   \n",
       "25%    547906.000000       1.000000       1.250000   13953.000000   \n",
       "50%    560688.000000       3.000000       2.080000   15152.000000   \n",
       "75%    571841.000000      10.000000       4.130000   16791.000000   \n",
       "max    581587.000000   80995.000000   38970.000000   18287.000000   \n",
       "\n",
       "                hora            dia            mes            ano  \\\n",
       "count  541909.000000  541909.000000  541909.000000  541909.000000   \n",
       "mean       13.078729      14.944574       7.489907    2018.921609   \n",
       "std         2.443270       8.820646       3.498394       0.268787   \n",
       "min         6.000000       1.000000       1.000000    2018.000000   \n",
       "25%        11.000000       7.000000       5.000000    2019.000000   \n",
       "50%        13.000000      15.000000       8.000000    2019.000000   \n",
       "75%        15.000000      22.000000      11.000000    2019.000000   \n",
       "max        20.000000      31.000000      12.000000    2019.000000   \n",
       "\n",
       "         total_gasto  description_length  \n",
       "count  541909.000000       541909.000000  \n",
       "mean       17.987795           26.580341  \n",
       "std       378.810824            5.578571  \n",
       "min   -168469.600000            1.000000  \n",
       "25%         3.400000           23.000000  \n",
       "50%         9.750000           27.000000  \n",
       "75%        17.400000           31.000000  \n",
       "max    168469.600000           35.000000  "
      ]
     },
     "execution_count": 243,
     "metadata": {},
     "output_type": "execute_result"
    }
   ],
   "source": [
    "projetofinal.describe()"
   ]
  },
  {
   "cell_type": "markdown",
   "metadata": {},
   "source": [
    "# Segmentação"
   ]
  },
  {
   "cell_type": "markdown",
   "metadata": {},
   "source": [
    "Segmentação por frequência - mede a regularidade com que um cliente interage com sua empresa ou quantas compras realiza em um período específico"
   ]
  },
  {
   "cell_type": "code",
   "execution_count": 244,
   "metadata": {},
   "outputs": [
    {
     "name": "stdout",
     "output_type": "stream",
     "text": [
      "      customerid  quantidade_pedidos\n",
      "330      12748.0                 210\n",
      "1895     14911.0                 201\n",
      "4042     17841.0                 124\n",
      "568      13089.0                  97\n",
      "1674     14606.0                  93\n",
      "...          ...                 ...\n",
      "264      12666.0                   0\n",
      "2506     15728.0                   0\n",
      "1727     14679.0                   0\n",
      "1318     14119.0                   0\n",
      "1384     14213.0                   0\n",
      "\n",
      "[4372 rows x 2 columns]\n"
     ]
    }
   ],
   "source": [
    "# Calcular a quantidade de pedidos distintos por customerid\n",
    "quantidade_pedidos_por_customerid = projetofinal.groupby('customerid')['invoiceno'].nunique().reset_index(name='quantidade_pedidos')\n",
    "\n",
    "# Classificar por quantidade de pedidos em ordem decrescente\n",
    "quantidade_pedidos_por_customerid_sorted = quantidade_pedidos_por_customerid.sort_values(by='quantidade_pedidos', ascending=False)\n",
    "\n",
    "# Exibir o DataFrame classificado\n",
    "print(quantidade_pedidos_por_customerid_sorted)"
   ]
  },
  {
   "cell_type": "code",
   "execution_count": 245,
   "metadata": {},
   "outputs": [
    {
     "data": {
      "text/html": [
       "<div>\n",
       "<style scoped>\n",
       "    .dataframe tbody tr th:only-of-type {\n",
       "        vertical-align: middle;\n",
       "    }\n",
       "\n",
       "    .dataframe tbody tr th {\n",
       "        vertical-align: top;\n",
       "    }\n",
       "\n",
       "    .dataframe thead th {\n",
       "        text-align: right;\n",
       "    }\n",
       "</style>\n",
       "<table border=\"1\" class=\"dataframe\">\n",
       "  <thead>\n",
       "    <tr style=\"text-align: right;\">\n",
       "      <th></th>\n",
       "      <th>customerid</th>\n",
       "      <th>quantidade_pedidos</th>\n",
       "    </tr>\n",
       "  </thead>\n",
       "  <tbody>\n",
       "    <tr>\n",
       "      <th>count</th>\n",
       "      <td>4372.000000</td>\n",
       "      <td>4372.000000</td>\n",
       "    </tr>\n",
       "    <tr>\n",
       "      <th>mean</th>\n",
       "      <td>15299.677722</td>\n",
       "      <td>4.239707</td>\n",
       "    </tr>\n",
       "    <tr>\n",
       "      <th>std</th>\n",
       "      <td>1722.390705</td>\n",
       "      <td>7.685252</td>\n",
       "    </tr>\n",
       "    <tr>\n",
       "      <th>min</th>\n",
       "      <td>12346.000000</td>\n",
       "      <td>0.000000</td>\n",
       "    </tr>\n",
       "    <tr>\n",
       "      <th>25%</th>\n",
       "      <td>13812.750000</td>\n",
       "      <td>1.000000</td>\n",
       "    </tr>\n",
       "    <tr>\n",
       "      <th>50%</th>\n",
       "      <td>15300.500000</td>\n",
       "      <td>2.000000</td>\n",
       "    </tr>\n",
       "    <tr>\n",
       "      <th>75%</th>\n",
       "      <td>16778.250000</td>\n",
       "      <td>5.000000</td>\n",
       "    </tr>\n",
       "    <tr>\n",
       "      <th>max</th>\n",
       "      <td>18287.000000</td>\n",
       "      <td>210.000000</td>\n",
       "    </tr>\n",
       "  </tbody>\n",
       "</table>\n",
       "</div>"
      ],
      "text/plain": [
       "         customerid  quantidade_pedidos\n",
       "count   4372.000000         4372.000000\n",
       "mean   15299.677722            4.239707\n",
       "std     1722.390705            7.685252\n",
       "min    12346.000000            0.000000\n",
       "25%    13812.750000            1.000000\n",
       "50%    15300.500000            2.000000\n",
       "75%    16778.250000            5.000000\n",
       "max    18287.000000          210.000000"
      ]
     },
     "execution_count": 245,
     "metadata": {},
     "output_type": "execute_result"
    }
   ],
   "source": [
    "quantidade_pedidos_por_customerid_sorted.describe()"
   ]
  },
  {
   "cell_type": "code",
   "execution_count": 251,
   "metadata": {},
   "outputs": [],
   "source": [
    "projetofinal = projetofinal.merge(quantidade_pedidos_por_customerid, on='customerid', how='left')"
   ]
  },
  {
   "cell_type": "code",
   "execution_count": 272,
   "metadata": {},
   "outputs": [
    {
     "name": "stdout",
     "output_type": "stream",
     "text": [
      "1º Quartil (25%): 3.0\n",
      "Mediana (50%): 7.0\n",
      "3º Quartil (75%): 15.0\n"
     ]
    }
   ],
   "source": [
    "# Calcular os quartis\n",
    "q1 = projetofinal['quantidade_pedidos'].quantile(0.25)  # 1º quartil (25%)\n",
    "q2 = projetofinal['quantidade_pedidos'].quantile(0.50)  # 2º quartil (50% - Mediana)\n",
    "q3 = projetofinal['quantidade_pedidos'].quantile(0.75)  # 3º quartil (75%)\n",
    "\n",
    "# Exibir os quartis\n",
    "print(f\"1º Quartil (25%): {q1}\")\n",
    "print(f\"Mediana (50%): {q2}\")\n",
    "print(f\"3º Quartil (75%): {q3}\")"
   ]
  },
  {
   "cell_type": "code",
   "execution_count": 273,
   "metadata": {},
   "outputs": [],
   "source": [
    "def classificar_quantidade(quantidade_pedidos):\n",
    "    if quantidade_pedidos <= 3:\n",
    "        return '25%'\n",
    "    elif quantidade_pedidos <= 7:\n",
    "        return 'mediana'\n",
    "    elif quantidade_pedidos <= 15:\n",
    "        return '75%'\n",
    "    else:\n",
    "        return 'max'"
   ]
  },
  {
   "cell_type": "code",
   "execution_count": 274,
   "metadata": {},
   "outputs": [
    {
     "name": "stdout",
     "output_type": "stream",
     "text": [
      "       classificacao  quantidade_pedidos  customerid\n",
      "0                max                34.0     17850.0\n",
      "1                max                34.0     17850.0\n",
      "2                max                34.0     17850.0\n",
      "3                max                34.0     17850.0\n",
      "4                max                34.0     17850.0\n",
      "...              ...                 ...         ...\n",
      "541904       mediana                 4.0     12680.0\n",
      "541905       mediana                 4.0     12680.0\n",
      "541906       mediana                 4.0     12680.0\n",
      "541907       mediana                 4.0     12680.0\n",
      "541908       mediana                 4.0     12680.0\n",
      "\n",
      "[541909 rows x 3 columns]\n"
     ]
    }
   ],
   "source": [
    "projetofinal['classificacao'] = projetofinal['quantidade_pedidos'].apply(classificar_quantidade)\n",
    "\n",
    "# Exibir o DataFrame com a nova coluna de classificação\n",
    "print(projetofinal[['classificacao', 'quantidade_pedidos', 'customerid']])"
   ]
  },
  {
   "cell_type": "code",
   "execution_count": 275,
   "metadata": {},
   "outputs": [],
   "source": [
    "contagem = projetofinal.groupby('classificacao').size().reset_index(name='quantidade')"
   ]
  },
  {
   "cell_type": "code",
   "execution_count": 276,
   "metadata": {
    "scrolled": false
   },
   "outputs": [
    {
     "name": "stdout",
     "output_type": "stream",
     "text": [
      "  classificacao  quantidade\n",
      "0           25%      106569\n",
      "1           75%       92605\n",
      "2           max      234334\n",
      "3       mediana      108401\n"
     ]
    }
   ],
   "source": [
    "print(contagem)"
   ]
  },
  {
   "cell_type": "code",
   "execution_count": 277,
   "metadata": {
    "scrolled": true
   },
   "outputs": [
    {
     "data": {
      "image/png": "[encoded data removed]",
      "text/plain": [
       "<Figure size 640x480 with 1 Axes>"
      ]
     },
     "metadata": {},
     "output_type": "display_data"
    }
   ],
   "source": [
    "contagem.plot(kind = 'bar', x = 'classificacao')\n",
    "plt.show()"
   ]
  },
  {
   "cell_type": "markdown",
   "metadata": {},
   "source": [
    "Nesse código foi utilizado a segmentação RFM. Nesse código foi feito a análise por frequência, onde determinamos o nível de engajamento e lealdade do consumidor, pois os consumidores que fazem compras com frequência são mais valiosos. Ao segmentar os consumidores com base na frequência, é possível adaptar as campanhas de marketing para recompensar e reter consumidores de alta frequência, incentivar a recompra e aumentar o valor da vida útil do cliente (CLV). No caso desse código, foram divididos em 4 grupos, de acordo com os quartis. Depois fizemos um agrupamento para saber a quantidade em cada grupo. E depois foi plotado em um gráfico de barras. Com isso, é possível concluir que a maioria faz entre 7 e 15 pedidos."
   ]
  },
  {
   "cell_type": "code",
   "execution_count": 73,
   "metadata": {},
   "outputs": [
    {
     "data": {
      "text/html": [
       "<div>\n",
       "<style scoped>\n",
       "    .dataframe tbody tr th:only-of-type {\n",
       "        vertical-align: middle;\n",
       "    }\n",
       "\n",
       "    .dataframe tbody tr th {\n",
       "        vertical-align: top;\n",
       "    }\n",
       "\n",
       "    .dataframe thead th {\n",
       "        text-align: right;\n",
       "    }\n",
       "</style>\n",
       "<table border=\"1\" class=\"dataframe\">\n",
       "  <thead>\n",
       "    <tr style=\"text-align: right;\">\n",
       "      <th></th>\n",
       "      <th>customerid</th>\n",
       "      <th>total_purchases</th>\n",
       "      <th>total_quantity</th>\n",
       "      <th>total_unitprice</th>\n",
       "      <th>time_since_last_purchase</th>\n",
       "    </tr>\n",
       "  </thead>\n",
       "  <tbody>\n",
       "    <tr>\n",
       "      <th>count</th>\n",
       "      <td>4372.000000</td>\n",
       "      <td>4372.000000</td>\n",
       "      <td>4372.000000</td>\n",
       "      <td>4372.000000</td>\n",
       "      <td>4372.000000</td>\n",
       "    </tr>\n",
       "    <tr>\n",
       "      <th>mean</th>\n",
       "      <td>15299.677722</td>\n",
       "      <td>93.053294</td>\n",
       "      <td>1122.344007</td>\n",
       "      <td>322.008226</td>\n",
       "      <td>91.581199</td>\n",
       "    </tr>\n",
       "    <tr>\n",
       "      <th>std</th>\n",
       "      <td>1722.390705</td>\n",
       "      <td>232.471608</td>\n",
       "      <td>4672.790720</td>\n",
       "      <td>1284.783098</td>\n",
       "      <td>100.772139</td>\n",
       "    </tr>\n",
       "    <tr>\n",
       "      <th>min</th>\n",
       "      <td>12346.000000</td>\n",
       "      <td>1.000000</td>\n",
       "      <td>-303.000000</td>\n",
       "      <td>0.000000</td>\n",
       "      <td>0.000000</td>\n",
       "    </tr>\n",
       "    <tr>\n",
       "      <th>25%</th>\n",
       "      <td>13812.750000</td>\n",
       "      <td>17.000000</td>\n",
       "      <td>153.000000</td>\n",
       "      <td>52.865000</td>\n",
       "      <td>16.000000</td>\n",
       "    </tr>\n",
       "    <tr>\n",
       "      <th>50%</th>\n",
       "      <td>15300.500000</td>\n",
       "      <td>42.000000</td>\n",
       "      <td>365.000000</td>\n",
       "      <td>130.095000</td>\n",
       "      <td>50.000000</td>\n",
       "    </tr>\n",
       "    <tr>\n",
       "      <th>75%</th>\n",
       "      <td>16778.250000</td>\n",
       "      <td>102.000000</td>\n",
       "      <td>962.250000</td>\n",
       "      <td>302.332500</td>\n",
       "      <td>143.000000</td>\n",
       "    </tr>\n",
       "    <tr>\n",
       "      <th>max</th>\n",
       "      <td>18287.000000</td>\n",
       "      <td>7983.000000</td>\n",
       "      <td>196719.000000</td>\n",
       "      <td>41376.330000</td>\n",
       "      <td>373.000000</td>\n",
       "    </tr>\n",
       "  </tbody>\n",
       "</table>\n",
       "</div>"
      ],
      "text/plain": [
       "         customerid  total_purchases  total_quantity  total_unitprice  \\\n",
       "count   4372.000000      4372.000000     4372.000000      4372.000000   \n",
       "mean   15299.677722        93.053294     1122.344007       322.008226   \n",
       "std     1722.390705       232.471608     4672.790720      1284.783098   \n",
       "min    12346.000000         1.000000     -303.000000         0.000000   \n",
       "25%    13812.750000        17.000000      153.000000        52.865000   \n",
       "50%    15300.500000        42.000000      365.000000       130.095000   \n",
       "75%    16778.250000       102.000000      962.250000       302.332500   \n",
       "max    18287.000000      7983.000000   196719.000000     41376.330000   \n",
       "\n",
       "       time_since_last_purchase  \n",
       "count               4372.000000  \n",
       "mean                  91.581199  \n",
       "std                  100.772139  \n",
       "min                    0.000000  \n",
       "25%                   16.000000  \n",
       "50%                   50.000000  \n",
       "75%                  143.000000  \n",
       "max                  373.000000  "
      ]
     },
     "execution_count": 73,
     "metadata": {},
     "output_type": "execute_result"
    }
   ],
   "source": [
    "clientes_mais_antigos.describe()"
   ]
  },
  {
   "cell_type": "markdown",
   "metadata": {},
   "source": [
    "Segmentação por Recência - refere-se a quantidade de tempo que se passou desde a última compra."
   ]
  },
  {
   "cell_type": "code",
   "execution_count": 278,
   "metadata": {},
   "outputs": [
    {
     "name": "stdout",
     "output_type": "stream",
     "text": [
      "1º Quartil (25%): 16.0\n",
      "Mediana (50%): 50.0\n",
      "3º Quartil (75%): 143.0\n"
     ]
    }
   ],
   "source": [
    "# Calcular os quartis\n",
    "q1 = clientes_mais_antigos['time_since_last_purchase'].quantile(0.25)  # 1º quartil (25%)\n",
    "q2 = clientes_mais_antigos['time_since_last_purchase'].quantile(0.50)  # 2º quartil (50% - Mediana)\n",
    "q3 = clientes_mais_antigos['time_since_last_purchase'].quantile(0.75)  # 3º quartil (75%)\n",
    "\n",
    "# Exibir os quartis\n",
    "print(f\"1º Quartil (25%): {q1}\")\n",
    "print(f\"Mediana (50%): {q2}\")\n",
    "print(f\"3º Quartil (75%): {q3}\")"
   ]
  },
  {
   "cell_type": "code",
   "execution_count": 279,
   "metadata": {},
   "outputs": [],
   "source": [
    "def time_since_last_purchase(time):\n",
    "    if time <= 16:\n",
    "        return '25%'\n",
    "    elif time <= 50:\n",
    "        return 'mediana'\n",
    "    elif time <= 143:\n",
    "        return '75%'\n",
    "    else:\n",
    "        return 'max'"
   ]
  },
  {
   "cell_type": "code",
   "execution_count": 280,
   "metadata": {},
   "outputs": [
    {
     "name": "stdout",
     "output_type": "stream",
     "text": [
      "      customerid  time_since_last_purchase time\n",
      "2907     16274.0                       373  max\n",
      "1764     14729.0                       373  max\n",
      "3129     16583.0                       373  max\n",
      "359      12791.0                       373  max\n",
      "4096     17908.0                       373  max\n",
      "...          ...                       ...  ...\n",
      "330      12748.0                         0  25%\n",
      "1534     14422.0                         0  25%\n",
      "2562     15804.0                         0  25%\n",
      "556      13069.0                         0  25%\n",
      "146      12526.0                         0  25%\n",
      "\n",
      "[4372 rows x 3 columns]\n"
     ]
    }
   ],
   "source": [
    "clientes_mais_antigos['time'] = clientes_mais_antigos['time_since_last_purchase'].apply(time_since_last_purchase)\n",
    "\n",
    "print(clientes_mais_antigos[['customerid', 'time_since_last_purchase', 'time']])"
   ]
  },
  {
   "cell_type": "code",
   "execution_count": 281,
   "metadata": {
    "scrolled": true
   },
   "outputs": [
    {
     "name": "stdout",
     "output_type": "stream",
     "text": [
      "      time  quantidadetempo\n",
      "0      25%             1096\n",
      "1      75%             1064\n",
      "2      max             1085\n",
      "3  mediana             1127\n"
     ]
    }
   ],
   "source": [
    "contagem2 = clientes_mais_antigos.groupby('time').size().reset_index(name='quantidadetempo')\n",
    "print(contagem2)"
   ]
  },
  {
   "cell_type": "code",
   "execution_count": 282,
   "metadata": {},
   "outputs": [
    {
     "data": {
      "image/png": "[encoded data removed]",
      "text/plain": [
       "<Figure size 640x480 with 1 Axes>"
      ]
     },
     "metadata": {},
     "output_type": "display_data"
    }
   ],
   "source": [
    "contagem2.plot(kind = 'bar', x = 'time')\n",
    "plt.show()"
   ]
  },
  {
   "cell_type": "markdown",
   "metadata": {},
   "source": [
    "Nesse código foi utilizado a segmentação RFM. Nesse código foi feita a análise por recência, onde determinamos há quanto tempo um cliente interagiu com sua empresa e identificar consumidores que fizeram uma compra recentemente e têm maior probabilidade de serem receptivos às comunicações de marketing. Por exemplo, os clientes que fizeram uma compra na última semanapodem estar mais inclinados a responder a um e-mail promocional em comparação com aqueles que não compram há meses. No caso desse código, foram divididos em 4 grupos, de acordo com os quartis. Depois fizemos um agrupamento para saber a quantidade em cada grupo. E depois foi plotado em um gráfico de barras. Com isso, podemos concluir que existe um equilibrio engtre os grupos e que devemos nos concentrar nos grupos 75% e max."
   ]
  },
  {
   "cell_type": "markdown",
   "metadata": {},
   "source": [
    "Segmentação por valor monetário - refere-se à quantidade de dinheiro que um cliente gastou em compras no seu e-commerce"
   ]
  },
  {
   "cell_type": "code",
   "execution_count": 283,
   "metadata": {},
   "outputs": [
    {
     "name": "stdout",
     "output_type": "stream",
     "text": [
      "1º Quartil (25%): 3.4\n",
      "Mediana (50%): 9.75\n",
      "3º Quartil (75%): 17.4\n"
     ]
    }
   ],
   "source": [
    "# Calcular os quartis\n",
    "q1 = projetofinal['total_gasto'].quantile(0.25)  # 1º quartil (25%)\n",
    "q2 = projetofinal['total_gasto'].quantile(0.50)  # 2º quartil (50% - Mediana)\n",
    "q3 = projetofinal['total_gasto'].quantile(0.75)  # 3º quartil (75%)\n",
    "\n",
    "# Exibir os quartis\n",
    "print(f\"1º Quartil (25%): {q1}\")\n",
    "print(f\"Mediana (50%): {q2}\")\n",
    "print(f\"3º Quartil (75%): {q3}\")"
   ]
  },
  {
   "cell_type": "code",
   "execution_count": 284,
   "metadata": {},
   "outputs": [],
   "source": [
    "def gasto(total_gasto):\n",
    "    if total_gasto <= 3.4:\n",
    "        return '25%'\n",
    "    elif total_gasto <= 9.75:\n",
    "        return 'mediana'\n",
    "    elif total_gasto <= 17.4:\n",
    "        return '75%'\n",
    "    else:\n",
    "        return 'max'"
   ]
  },
  {
   "cell_type": "code",
   "execution_count": 287,
   "metadata": {
    "scrolled": true
   },
   "outputs": [
    {
     "name": "stdout",
     "output_type": "stream",
     "text": [
      "       total  total_gasto  customerid\n",
      "0        75%        15.30     17850.0\n",
      "1        max        20.34     17850.0\n",
      "2        max        22.00     17850.0\n",
      "3        max        20.34     17850.0\n",
      "4        max        20.34     17850.0\n",
      "...      ...          ...         ...\n",
      "541904   75%        10.20     12680.0\n",
      "541905   75%        12.60     12680.0\n",
      "541906   75%        16.60     12680.0\n",
      "541907   75%        16.60     12680.0\n",
      "541908   75%        14.85     12680.0\n",
      "\n",
      "[541909 rows x 3 columns]\n"
     ]
    }
   ],
   "source": [
    "projetofinal['total'] = projetofinal['total_gasto'].apply(gasto)\n",
    "\n",
    "# Exibir o DataFrame com a nova coluna de classificação\n",
    "print(projetofinal[['total', 'total_gasto', 'customerid']])"
   ]
  },
  {
   "cell_type": "code",
   "execution_count": 289,
   "metadata": {
    "scrolled": true
   },
   "outputs": [
    {
     "name": "stdout",
     "output_type": "stream",
     "text": [
      "     total  quantidade\n",
      "0      25%      136340\n",
      "1      75%      136781\n",
      "2      max      133869\n",
      "3  mediana      134919\n"
     ]
    }
   ],
   "source": [
    "contagem3 = projetofinal.groupby('total').size().reset_index(name='quantidade')\n",
    "print(contagem3)"
   ]
  },
  {
   "cell_type": "code",
   "execution_count": 290,
   "metadata": {
    "scrolled": true
   },
   "outputs": [
    {
     "data": {
      "image/png": "[encoded data removed]",
      "text/plain": [
       "<Figure size 640x480 with 1 Axes>"
      ]
     },
     "metadata": {},
     "output_type": "display_data"
    }
   ],
   "source": [
    "contagem3.plot(kind = 'bar', x = 'total')\n",
    "plt.show()"
   ]
  },
  {
   "cell_type": "markdown",
   "metadata": {},
   "source": [
    "Nesse código foi utilizado coma segmentação RFM. Nesse código foi feita a análise por valor monetário, onde identificamos clientes de alto valor que contribuem significativamente para sua receita. Ao segmentar os consumidores com base no valor monetário, é possível identificar os clientes mais valiosos e concentrar os esforços de marketing neles, como oferecendo ofertas exclusivas, recomendações de produtos personalizados ou tratamento VIP para maximizar sua fidelidade e gerar vendas adicionais. No caso desse código, foram divididos em 4 grupos, de acordo com os quartis. Depois fizemos um agrupamento para saber a quantidade em cada grupo. E depois foi plotado em um gráfico de barras. Com isso, podemos concluir que existe um equilibrio engtre os grupos e que devemos nos concentrar nos grupos 75% e max."
   ]
  },
  {
   "cell_type": "code",
   "execution_count": 285,
   "metadata": {},
   "outputs": [
    {
     "name": "stdout",
     "output_type": "stream",
     "text": [
      "5268\n"
     ]
    }
   ],
   "source": [
    "print(projetofinal.duplicated().sum())"
   ]
  },
  {
   "cell_type": "code",
   "execution_count": 79,
   "metadata": {},
   "outputs": [
    {
     "name": "stdout",
     "output_type": "stream",
     "text": [
      "        invoiceno stockcode                          description  quantity  \\\n",
      "0        536365.0    85123A   WHITE HANGING HEART T-LIGHT HOLDER         6   \n",
      "1        536365.0     71053                  WHITE METAL LANTERN         6   \n",
      "2        536365.0    84406B       CREAM CUPID HEARTS COAT HANGER         8   \n",
      "3        536365.0    84029G  KNITTED UNION FLAG HOT WATER BOTTLE         6   \n",
      "4        536365.0    84029E       RED WOOLLY HOTTIE WHITE HEART.         6   \n",
      "...           ...       ...                                  ...       ...   \n",
      "536636   581587.0     22613          PACK OF 20 SPACEBOY NAPKINS        12   \n",
      "536637   581587.0     22899         CHILDREN'S APRON DOLLY GIRL          6   \n",
      "536638   581587.0     23254        CHILDRENS CUTLERY DOLLY GIRL          4   \n",
      "536639   581587.0     23255      CHILDRENS CUTLERY CIRCUS PARADE         4   \n",
      "536640   581587.0     22138        BAKING SET 9 PIECE RETROSPOT          3   \n",
      "\n",
      "               invoicedate  unitprice  customerid       data  hora  dia  mes  \\\n",
      "0      2018-11-29 08:26:00       2.55     17850.0 2018-11-29     8   29   11   \n",
      "1      2018-11-29 08:26:00       3.39     17850.0 2018-11-29     8   29   11   \n",
      "2      2018-11-29 08:26:00       2.75     17850.0 2018-11-29     8   29   11   \n",
      "3      2018-11-29 08:26:00       3.39     17850.0 2018-11-29     8   29   11   \n",
      "4      2018-11-29 08:26:00       3.39     17850.0 2018-11-29     8   29   11   \n",
      "...                    ...        ...         ...        ...   ...  ...  ...   \n",
      "536636 2019-12-07 12:50:00       0.85     12680.0 2019-12-07    12    7   12   \n",
      "536637 2019-12-07 12:50:00       2.10     12680.0 2019-12-07    12    7   12   \n",
      "536638 2019-12-07 12:50:00       4.15     12680.0 2019-12-07    12    7   12   \n",
      "536639 2019-12-07 12:50:00       4.15     12680.0 2019-12-07    12    7   12   \n",
      "536640 2019-12-07 12:50:00       4.95     12680.0 2019-12-07    12    7   12   \n",
      "\n",
      "         ano  description_length classificacao  \n",
      "0       2018                  34           75%  \n",
      "1       2018                  19           75%  \n",
      "2       2018                  30           75%  \n",
      "3       2018                  35           75%  \n",
      "4       2018                  30           75%  \n",
      "...      ...                 ...           ...  \n",
      "536636  2019                  27           max  \n",
      "536637  2019                  28           75%  \n",
      "536638  2019                  29           75%  \n",
      "536639  2019                  31           75%  \n",
      "536640  2019                  29           50%  \n",
      "\n",
      "[536641 rows x 14 columns]\n"
     ]
    }
   ],
   "source": [
    "projetofinal = projetofinal.drop_duplicates().reset_index(drop=True)\n",
    "print(projetofinal)"
   ]
  },
  {
   "cell_type": "code",
   "execution_count": 80,
   "metadata": {},
   "outputs": [
    {
     "data": {
      "text/plain": [
       "9.620029032444409"
      ]
     },
     "execution_count": 80,
     "metadata": {},
     "output_type": "execute_result"
    }
   ],
   "source": [
    "projetofinal['quantity'].mean()"
   ]
  },
  {
   "cell_type": "code",
   "execution_count": 81,
   "metadata": {},
   "outputs": [
    {
     "data": {
      "text/plain": [
       "4.632655674836623"
      ]
     },
     "execution_count": 81,
     "metadata": {},
     "output_type": "execute_result"
    }
   ],
   "source": [
    "projetofinal['unitprice'].mean()"
   ]
  },
  {
   "cell_type": "markdown",
   "metadata": {},
   "source": [
    "Nessses códigos foram analisados os valores duplicados, removendo os mesmos e calculando a média da quantidade e do preço. Comparando com as médias com os valores duplicados, podemos perceber que o valor não muda muito, ou seja, esses valores não influenciam no resultado."
   ]
  },
  {
   "cell_type": "markdown",
   "metadata": {},
   "source": [
    "# Conclusão"
   ]
  },
  {
   "cell_type": "markdown",
   "metadata": {},
   "source": [
    "- a quantidade de clientes, de pedidos, a quantidade e o valor total podem variar muito entre os dias, meses ou horas do dia, porpem em todos os casos existem picos. Ou seja, é possível saber quando e onde investir mais (um pouco antes do pico).\n",
    "- é preciso entender o motivo de alguns clientes estarem cancelando suas compras.\n",
    "- sabendo a data da última compra de cada cliente é possível saber quais clientes possivelmente já perdemos, quais mais compram, quais são novos. E com isso saber onde e quando investir."
   ]
  },
  {
   "cell_type": "markdown",
   "metadata": {},
   "source": [
    "Tableau:\n",
    "https://public.tableau.com/app/profile/monica.prupst/viz/projetofinal2/classificaoxvaloresdemedida2?publish=yes"
   ]
  },
  {
   "cell_type": "markdown",
   "metadata": {},
   "source": [
    "Apresentação e Revisão Bibliográfica:\n",
    "https://drive.google.com/drive/u/0/folders/1Fi573RQwrdForNN_M-kWjnaiDxMj-gCb"
   ]
  }
 ],
 "metadata": {
  "ExecuteTimeLog": [
   {
    "duration": 5414,
    "start_time": "2024-08-14T20:24:08.221Z"
   },
   {
    "duration": 1151,
    "start_time": "2024-08-14T20:25:21.444Z"
   },
   {
    "duration": 214,
    "start_time": "2024-08-14T20:25:56.513Z"
   },
   {
    "duration": 840,
    "start_time": "2024-08-14T20:26:47.509Z"
   },
   {
    "duration": 15,
    "start_time": "2024-08-14T20:27:03.469Z"
   },
   {
    "duration": 676,
    "start_time": "2024-08-14T20:27:11.941Z"
   },
   {
    "duration": 16,
    "start_time": "2024-08-14T20:27:13.605Z"
   },
   {
    "duration": 109,
    "start_time": "2024-08-14T20:27:30.712Z"
   },
   {
    "duration": 5,
    "start_time": "2024-08-14T20:27:46.125Z"
   },
   {
    "duration": 6,
    "start_time": "2024-08-14T20:27:56.323Z"
   },
   {
    "duration": 2681,
    "start_time": "2024-08-14T20:28:06.965Z"
   },
   {
    "duration": 35,
    "start_time": "2024-08-14T20:28:18.142Z"
   },
   {
    "duration": 74,
    "start_time": "2024-08-14T20:28:25.037Z"
   },
   {
    "duration": 480,
    "start_time": "2024-08-14T20:28:36.245Z"
   },
   {
    "duration": 374,
    "start_time": "2024-08-14T20:28:58.155Z"
   },
   {
    "duration": 191,
    "start_time": "2024-08-14T20:29:28.159Z"
   },
   {
    "duration": 7301,
    "start_time": "2024-08-14T20:29:41.157Z"
   },
   {
    "duration": 343,
    "start_time": "2024-08-14T20:29:54.607Z"
   },
   {
    "duration": 97,
    "start_time": "2024-08-14T20:30:10.979Z"
   },
   {
    "duration": 286,
    "start_time": "2024-08-14T20:30:24.267Z"
   },
   {
    "duration": 58,
    "start_time": "2024-08-14T20:30:33.012Z"
   },
   {
    "duration": 245,
    "start_time": "2024-08-14T20:30:57.027Z"
   },
   {
    "duration": 52,
    "start_time": "2024-08-14T20:31:04.891Z"
   },
   {
    "duration": 58,
    "start_time": "2024-08-14T20:31:25.102Z"
   },
   {
    "duration": 270,
    "start_time": "2024-08-14T20:31:45.267Z"
   },
   {
    "duration": 15,
    "start_time": "2024-08-14T20:32:08.631Z"
   },
   {
    "duration": 57,
    "start_time": "2024-08-14T20:32:17.493Z"
   },
   {
    "duration": 636,
    "start_time": "2024-08-14T20:32:31.544Z"
   },
   {
    "duration": 61,
    "start_time": "2024-08-14T20:32:44.314Z"
   },
   {
    "duration": 75,
    "start_time": "2024-08-14T20:33:22.917Z"
   },
   {
    "duration": 686,
    "start_time": "2024-08-14T20:33:30.551Z"
   },
   {
    "duration": 536,
    "start_time": "2024-08-14T20:33:45.609Z"
   },
   {
    "duration": 16,
    "start_time": "2024-08-14T20:33:58.594Z"
   },
   {
    "duration": 202,
    "start_time": "2024-08-14T20:34:08.887Z"
   },
   {
    "duration": 16,
    "start_time": "2024-08-14T20:34:20.111Z"
   },
   {
    "duration": 203,
    "start_time": "2024-08-14T20:34:28.703Z"
   },
   {
    "duration": 17,
    "start_time": "2024-08-14T20:34:42.166Z"
   },
   {
    "duration": 191,
    "start_time": "2024-08-14T20:34:50.523Z"
   },
   {
    "duration": 585,
    "start_time": "2024-08-14T20:35:17.985Z"
   },
   {
    "duration": 18,
    "start_time": "2024-08-14T20:35:27.785Z"
   },
   {
    "duration": 215,
    "start_time": "2024-08-14T20:35:33.692Z"
   },
   {
    "duration": 17,
    "start_time": "2024-08-14T20:35:43.564Z"
   },
   {
    "duration": 208,
    "start_time": "2024-08-14T20:35:50.145Z"
   },
   {
    "duration": 17,
    "start_time": "2024-08-14T20:36:09.183Z"
   },
   {
    "duration": 18,
    "start_time": "2024-08-14T20:36:35.169Z"
   },
   {
    "duration": 213,
    "start_time": "2024-08-14T20:36:47.063Z"
   },
   {
    "duration": 684,
    "start_time": "2024-08-14T20:37:00.775Z"
   },
   {
    "duration": 683,
    "start_time": "2024-08-14T20:37:10.689Z"
   },
   {
    "duration": 615,
    "start_time": "2024-08-14T20:37:23.727Z"
   },
   {
    "duration": 17,
    "start_time": "2024-08-14T20:37:33.153Z"
   },
   {
    "duration": 183,
    "start_time": "2024-08-14T20:37:41.105Z"
   },
   {
    "duration": 18,
    "start_time": "2024-08-14T20:37:51.298Z"
   },
   {
    "duration": 197,
    "start_time": "2024-08-14T20:37:56.767Z"
   },
   {
    "duration": 17,
    "start_time": "2024-08-14T20:38:09.179Z"
   },
   {
    "duration": 179,
    "start_time": "2024-08-14T20:38:14.802Z"
   },
   {
    "duration": 17,
    "start_time": "2024-08-14T20:38:39.645Z"
   },
   {
    "duration": 21,
    "start_time": "2024-08-14T20:38:45.315Z"
   },
   {
    "duration": 75,
    "start_time": "2024-08-14T20:38:57.149Z"
   },
   {
    "duration": 95,
    "start_time": "2024-08-14T20:39:03.668Z"
   },
   {
    "duration": 11,
    "start_time": "2024-08-14T20:39:12.479Z"
   },
   {
    "duration": 13,
    "start_time": "2024-08-14T20:39:31.034Z"
   },
   {
    "duration": 15,
    "start_time": "2024-08-14T20:39:36.653Z"
   },
   {
    "duration": 14,
    "start_time": "2024-08-14T20:39:48.205Z"
   },
   {
    "duration": 13,
    "start_time": "2024-08-14T20:40:01.501Z"
   },
   {
    "duration": 11,
    "start_time": "2024-08-14T20:40:14.717Z"
   },
   {
    "duration": 11,
    "start_time": "2024-08-14T20:40:24.589Z"
   },
   {
    "duration": 13,
    "start_time": "2024-08-14T20:40:33.008Z"
   },
   {
    "duration": 9,
    "start_time": "2024-08-14T20:40:37.665Z"
   },
   {
    "duration": 8,
    "start_time": "2024-08-14T20:40:46.986Z"
   },
   {
    "duration": 10,
    "start_time": "2024-08-14T20:40:53.115Z"
   },
   {
    "duration": 41,
    "start_time": "2024-08-14T20:41:00.813Z"
   },
   {
    "duration": 39,
    "start_time": "2024-08-14T20:41:06.049Z"
   },
   {
    "duration": 8,
    "start_time": "2024-08-14T20:41:37.066Z"
   },
   {
    "duration": 1310,
    "start_time": "2024-08-14T20:41:42.034Z"
   },
   {
    "duration": 37,
    "start_time": "2024-08-14T20:42:00.604Z"
   },
   {
    "duration": 11,
    "start_time": "2024-08-14T20:42:16.864Z"
   },
   {
    "duration": 49,
    "start_time": "2024-08-14T20:42:34.046Z"
   },
   {
    "duration": 48,
    "start_time": "2024-08-14T20:42:43.986Z"
   },
   {
    "duration": 46,
    "start_time": "2024-08-14T20:43:14.733Z"
   },
   {
    "duration": 47,
    "start_time": "2024-08-14T20:43:24.227Z"
   },
   {
    "duration": 66,
    "start_time": "2024-08-14T20:43:39.083Z"
   },
   {
    "duration": 68,
    "start_time": "2024-08-14T20:43:52.972Z"
   },
   {
    "duration": 309,
    "start_time": "2024-08-14T20:44:03.477Z"
   },
   {
    "duration": 276,
    "start_time": "2024-08-14T20:44:14.057Z"
   },
   {
    "duration": 187,
    "start_time": "2024-08-14T20:44:22.229Z"
   },
   {
    "duration": 280,
    "start_time": "2024-08-14T20:44:31.708Z"
   },
   {
    "duration": 273,
    "start_time": "2024-08-14T20:44:44.645Z"
   },
   {
    "duration": 396,
    "start_time": "2024-08-14T20:44:58.261Z"
   },
   {
    "duration": 277,
    "start_time": "2024-08-14T20:45:06.424Z"
   },
   {
    "duration": 267,
    "start_time": "2024-08-14T20:45:19.113Z"
   },
   {
    "duration": 1283,
    "start_time": "2024-08-14T20:45:31.681Z"
   },
   {
    "duration": 14,
    "start_time": "2024-08-14T20:45:52.189Z"
   },
   {
    "duration": 13,
    "start_time": "2024-08-14T20:46:23.942Z"
   },
   {
    "duration": 170,
    "start_time": "2024-08-14T20:46:43.435Z"
   },
   {
    "duration": 80,
    "start_time": "2024-08-14T20:47:02.283Z"
   },
   {
    "duration": 69,
    "start_time": "2024-08-14T20:47:29.429Z"
   },
   {
    "duration": 10,
    "start_time": "2024-08-14T20:47:43.242Z"
   },
   {
    "duration": 6,
    "start_time": "2024-08-14T20:47:53.739Z"
   },
   {
    "duration": 8,
    "start_time": "2024-08-14T20:47:58.486Z"
   },
   {
    "duration": 54,
    "start_time": "2024-08-14T20:48:35.838Z"
   },
   {
    "duration": 193,
    "start_time": "2024-08-14T20:48:49.184Z"
   },
   {
    "duration": 5,
    "start_time": "2024-08-14T20:49:11.224Z"
   },
   {
    "duration": 177,
    "start_time": "2024-08-14T20:49:19.787Z"
   },
   {
    "duration": 47,
    "start_time": "2024-08-14T20:49:34.693Z"
   },
   {
    "duration": 11,
    "start_time": "2024-08-14T20:49:43.508Z"
   },
   {
    "duration": 4,
    "start_time": "2024-08-14T20:49:52.782Z"
   },
   {
    "duration": 3757,
    "start_time": "2024-08-14T20:49:58.914Z"
   },
   {
    "duration": 50,
    "start_time": "2024-08-14T20:50:10.831Z"
   },
   {
    "duration": 221,
    "start_time": "2024-08-14T20:50:16.471Z"
   },
   {
    "duration": 178,
    "start_time": "2024-08-14T20:50:27.026Z"
   },
   {
    "duration": 444,
    "start_time": "2024-08-14T20:50:38.636Z"
   },
   {
    "duration": 512,
    "start_time": "2024-08-14T20:50:48.782Z"
   },
   {
    "duration": 97,
    "start_time": "2024-08-14T20:51:02.620Z"
   },
   {
    "duration": 8,
    "start_time": "2024-08-14T20:51:07.717Z"
   },
   {
    "duration": 6,
    "start_time": "2024-08-14T20:51:13.248Z"
   },
   {
    "duration": 341,
    "start_time": "2024-08-14T21:54:29.993Z"
   },
   {
    "duration": 5614,
    "start_time": "2024-08-14T21:54:37.700Z"
   },
   {
    "duration": 717,
    "start_time": "2024-08-14T21:54:43.318Z"
   },
   {
    "duration": 21,
    "start_time": "2024-08-14T21:54:44.038Z"
   },
   {
    "duration": 126,
    "start_time": "2024-08-14T21:54:44.063Z"
   },
   {
    "duration": 5,
    "start_time": "2024-08-14T21:54:44.192Z"
   },
   {
    "duration": 7,
    "start_time": "2024-08-14T21:54:44.200Z"
   },
   {
    "duration": 2795,
    "start_time": "2024-08-14T21:54:44.210Z"
   },
   {
    "duration": 116,
    "start_time": "2024-08-14T21:54:47.007Z"
   },
   {
    "duration": 80,
    "start_time": "2024-08-14T21:54:47.134Z"
   },
   {
    "duration": 492,
    "start_time": "2024-08-14T21:54:47.233Z"
   },
   {
    "duration": 372,
    "start_time": "2024-08-14T21:54:47.728Z"
   },
   {
    "duration": 201,
    "start_time": "2024-08-14T21:54:48.102Z"
   },
   {
    "duration": 407,
    "start_time": "2024-08-14T21:54:48.306Z"
   },
   {
    "duration": 118,
    "start_time": "2024-08-14T21:54:48.716Z"
   },
   {
    "duration": 57,
    "start_time": "2024-08-14T21:54:48.838Z"
   },
   {
    "duration": 385,
    "start_time": "2024-08-14T21:54:48.897Z"
   },
   {
    "duration": 68,
    "start_time": "2024-08-14T21:54:49.285Z"
   },
   {
    "duration": 320,
    "start_time": "2024-08-14T21:54:49.356Z"
   },
   {
    "duration": 80,
    "start_time": "2024-08-14T21:54:49.680Z"
   },
   {
    "duration": 297,
    "start_time": "2024-08-14T21:54:49.762Z"
   },
   {
    "duration": 17,
    "start_time": "2024-08-14T21:54:50.063Z"
   },
   {
    "duration": 79,
    "start_time": "2024-08-14T21:54:50.082Z"
   },
   {
    "duration": 693,
    "start_time": "2024-08-14T21:54:50.164Z"
   },
   {
    "duration": 74,
    "start_time": "2024-08-14T21:54:50.860Z"
   },
   {
    "duration": 73,
    "start_time": "2024-08-14T21:54:50.937Z"
   },
   {
    "duration": 721,
    "start_time": "2024-08-14T21:54:51.013Z"
   },
   {
    "duration": 540,
    "start_time": "2024-08-14T21:54:51.737Z"
   },
   {
    "duration": 18,
    "start_time": "2024-08-14T21:54:52.286Z"
   },
   {
    "duration": 217,
    "start_time": "2024-08-14T21:54:52.307Z"
   },
   {
    "duration": 17,
    "start_time": "2024-08-14T21:54:52.534Z"
   },
   {
    "duration": 224,
    "start_time": "2024-08-14T21:54:52.554Z"
   },
   {
    "duration": 16,
    "start_time": "2024-08-14T21:54:52.781Z"
   },
   {
    "duration": 215,
    "start_time": "2024-08-14T21:54:52.800Z"
   },
   {
    "duration": 625,
    "start_time": "2024-08-14T21:54:53.019Z"
   },
   {
    "duration": 18,
    "start_time": "2024-08-14T21:54:53.647Z"
   },
   {
    "duration": 240,
    "start_time": "2024-08-14T21:54:53.669Z"
   },
   {
    "duration": 29,
    "start_time": "2024-08-14T21:54:53.913Z"
   },
   {
    "duration": 236,
    "start_time": "2024-08-14T21:54:53.945Z"
   },
   {
    "duration": 19,
    "start_time": "2024-08-14T21:54:54.184Z"
   },
   {
    "duration": 228,
    "start_time": "2024-08-14T21:54:54.206Z"
   },
   {
    "duration": 668,
    "start_time": "2024-08-14T21:54:54.437Z"
   },
   {
    "duration": 737,
    "start_time": "2024-08-14T21:54:55.108Z"
   },
   {
    "duration": 657,
    "start_time": "2024-08-14T21:54:55.848Z"
   },
   {
    "duration": 27,
    "start_time": "2024-08-14T21:54:56.508Z"
   },
   {
    "duration": 205,
    "start_time": "2024-08-14T21:54:56.538Z"
   },
   {
    "duration": 18,
    "start_time": "2024-08-14T21:54:56.746Z"
   },
   {
    "duration": 219,
    "start_time": "2024-08-14T21:54:56.767Z"
   },
   {
    "duration": 18,
    "start_time": "2024-08-14T21:54:56.989Z"
   },
   {
    "duration": 210,
    "start_time": "2024-08-14T21:54:57.010Z"
   },
   {
    "duration": 21,
    "start_time": "2024-08-14T21:54:57.225Z"
   },
   {
    "duration": 23,
    "start_time": "2024-08-14T21:54:57.248Z"
   },
   {
    "duration": 106,
    "start_time": "2024-08-14T21:54:57.274Z"
   },
   {
    "duration": 112,
    "start_time": "2024-08-14T21:54:57.383Z"
   },
   {
    "duration": 14,
    "start_time": "2024-08-14T21:54:57.500Z"
   },
   {
    "duration": 32,
    "start_time": "2024-08-14T21:54:57.517Z"
   },
   {
    "duration": 15,
    "start_time": "2024-08-14T21:54:57.552Z"
   },
   {
    "duration": 14,
    "start_time": "2024-08-14T21:54:57.570Z"
   },
   {
    "duration": 48,
    "start_time": "2024-08-14T21:54:57.587Z"
   },
   {
    "duration": 11,
    "start_time": "2024-08-14T21:54:57.638Z"
   },
   {
    "duration": 11,
    "start_time": "2024-08-14T21:54:57.653Z"
   },
   {
    "duration": 8,
    "start_time": "2024-08-14T21:54:57.667Z"
   },
   {
    "duration": 58,
    "start_time": "2024-08-14T21:54:57.678Z"
   },
   {
    "duration": 8,
    "start_time": "2024-08-14T21:54:57.739Z"
   },
   {
    "duration": 7,
    "start_time": "2024-08-14T21:54:57.749Z"
   },
   {
    "duration": 75,
    "start_time": "2024-08-14T21:54:57.759Z"
   },
   {
    "duration": 39,
    "start_time": "2024-08-14T21:54:57.836Z"
   },
   {
    "duration": 1524,
    "start_time": "2024-08-14T21:54:57.878Z"
   },
   {
    "duration": 52,
    "start_time": "2024-08-14T21:54:59.412Z"
   },
   {
    "duration": 12,
    "start_time": "2024-08-14T21:54:59.468Z"
   },
   {
    "duration": 84,
    "start_time": "2024-08-14T21:54:59.483Z"
   },
   {
    "duration": 67,
    "start_time": "2024-08-14T21:54:59.572Z"
   },
   {
    "duration": 59,
    "start_time": "2024-08-14T21:54:59.643Z"
   },
   {
    "duration": 73,
    "start_time": "2024-08-14T21:54:59.704Z"
   },
   {
    "duration": 81,
    "start_time": "2024-08-14T21:54:59.780Z"
   },
   {
    "duration": 67,
    "start_time": "2024-08-14T21:54:59.867Z"
   },
   {
    "duration": 350,
    "start_time": "2024-08-14T21:54:59.937Z"
   },
   {
    "duration": 311,
    "start_time": "2024-08-14T21:55:00.290Z"
   },
   {
    "duration": 310,
    "start_time": "2024-08-14T21:55:00.604Z"
   },
   {
    "duration": 276,
    "start_time": "2024-08-14T21:55:00.917Z"
   },
   {
    "duration": 301,
    "start_time": "2024-08-14T21:55:01.196Z"
   },
   {
    "duration": 417,
    "start_time": "2024-08-14T21:55:01.500Z"
   },
   {
    "duration": 287,
    "start_time": "2024-08-14T21:55:01.937Z"
   },
   {
    "duration": 277,
    "start_time": "2024-08-14T21:55:02.227Z"
   },
   {
    "duration": 1327,
    "start_time": "2024-08-14T21:55:02.507Z"
   },
   {
    "duration": 13,
    "start_time": "2024-08-14T21:55:03.837Z"
   },
   {
    "duration": 184,
    "start_time": "2024-08-14T21:55:03.853Z"
   },
   {
    "duration": 94,
    "start_time": "2024-08-14T21:55:04.040Z"
   },
   {
    "duration": 68,
    "start_time": "2024-08-14T21:55:04.137Z"
   },
   {
    "duration": 26,
    "start_time": "2024-08-14T21:55:04.209Z"
   },
   {
    "duration": 6,
    "start_time": "2024-08-14T21:55:04.239Z"
   },
   {
    "duration": 8,
    "start_time": "2024-08-14T21:55:04.248Z"
   },
   {
    "duration": 87,
    "start_time": "2024-08-14T21:55:04.259Z"
   },
   {
    "duration": 221,
    "start_time": "2024-08-14T21:55:04.349Z"
   },
   {
    "duration": 6,
    "start_time": "2024-08-14T21:55:04.573Z"
   },
   {
    "duration": 198,
    "start_time": "2024-08-14T21:55:04.582Z"
   },
   {
    "duration": 59,
    "start_time": "2024-08-14T21:55:04.783Z"
   },
   {
    "duration": 7,
    "start_time": "2024-08-14T21:55:04.845Z"
   },
   {
    "duration": 6,
    "start_time": "2024-08-14T21:55:04.855Z"
   },
   {
    "duration": 3876,
    "start_time": "2024-08-14T21:55:04.866Z"
   },
   {
    "duration": 69,
    "start_time": "2024-08-14T21:55:08.746Z"
   },
   {
    "duration": 316,
    "start_time": "2024-08-14T21:55:08.818Z"
   },
   {
    "duration": 252,
    "start_time": "2024-08-14T21:55:09.138Z"
   },
   {
    "duration": 569,
    "start_time": "2024-08-14T21:55:09.397Z"
   },
   {
    "duration": 646,
    "start_time": "2024-08-14T21:55:09.969Z"
   },
   {
    "duration": 116,
    "start_time": "2024-08-14T21:55:10.618Z"
   },
   {
    "duration": 8,
    "start_time": "2024-08-14T21:55:10.738Z"
   },
   {
    "duration": 11,
    "start_time": "2024-08-14T21:55:10.750Z"
   },
   {
    "duration": 99,
    "start_time": "2024-08-14T21:55:55.218Z"
   },
   {
    "duration": 7,
    "start_time": "2024-08-14T21:56:04.911Z"
   },
   {
    "duration": 667,
    "start_time": "2024-08-14T21:56:05.914Z"
   },
   {
    "duration": 15,
    "start_time": "2024-08-14T21:56:06.609Z"
   },
   {
    "duration": 100,
    "start_time": "2024-08-14T21:56:07.322Z"
   },
   {
    "duration": 7,
    "start_time": "2024-08-14T21:56:07.806Z"
   },
   {
    "duration": 6,
    "start_time": "2024-08-14T21:56:08.374Z"
   },
   {
    "duration": 2897,
    "start_time": "2024-08-14T21:56:08.710Z"
   },
   {
    "duration": 36,
    "start_time": "2024-08-14T21:56:11.610Z"
   },
   {
    "duration": 95,
    "start_time": "2024-08-14T21:56:11.649Z"
   },
   {
    "duration": 75,
    "start_time": "2024-08-14T22:26:05.806Z"
   },
   {
    "duration": 146,
    "start_time": "2024-08-14T22:30:56.887Z"
   },
   {
    "duration": 76,
    "start_time": "2024-08-14T22:31:36.507Z"
   },
   {
    "duration": 108,
    "start_time": "2024-08-14T22:31:49.627Z"
   },
   {
    "duration": 75,
    "start_time": "2024-08-14T22:32:01.268Z"
   },
   {
    "duration": 871,
    "start_time": "2024-08-14T22:32:01.708Z"
   },
   {
    "duration": 6,
    "start_time": "2024-08-14T22:32:12.138Z"
   },
   {
    "duration": 619,
    "start_time": "2024-08-14T22:32:13.493Z"
   },
   {
    "duration": 20,
    "start_time": "2024-08-14T22:32:14.115Z"
   },
   {
    "duration": 99,
    "start_time": "2024-08-14T22:32:14.192Z"
   },
   {
    "duration": 4,
    "start_time": "2024-08-14T22:32:14.411Z"
   },
   {
    "duration": 6,
    "start_time": "2024-08-14T22:32:14.588Z"
   },
   {
    "duration": 2768,
    "start_time": "2024-08-14T22:32:14.775Z"
   },
   {
    "duration": 32,
    "start_time": "2024-08-14T22:32:17.546Z"
   },
   {
    "duration": 91,
    "start_time": "2024-08-14T22:32:17.580Z"
   },
   {
    "duration": 322,
    "start_time": "2024-08-14T22:32:17.675Z"
   },
   {
    "duration": 503,
    "start_time": "2024-08-14T22:32:18.000Z"
   },
   {
    "duration": 456,
    "start_time": "2024-08-14T22:32:19.534Z"
   },
   {
    "duration": 204,
    "start_time": "2024-08-14T22:32:20.744Z"
   },
   {
    "duration": 104,
    "start_time": "2024-08-14T22:32:21.470Z"
   },
   {
    "duration": 67,
    "start_time": "2024-08-14T22:32:23.067Z"
   },
   {
    "duration": 5406,
    "start_time": "2024-08-15T00:43:29.120Z"
   },
   {
    "duration": 837,
    "start_time": "2024-08-15T00:43:37.099Z"
   },
   {
    "duration": 22,
    "start_time": "2024-08-15T00:43:37.976Z"
   },
   {
    "duration": 109,
    "start_time": "2024-08-15T00:43:39.035Z"
   },
   {
    "duration": 4,
    "start_time": "2024-08-15T00:43:39.933Z"
   },
   {
    "duration": 7,
    "start_time": "2024-08-15T00:43:40.700Z"
   },
   {
    "duration": 2762,
    "start_time": "2024-08-15T00:43:41.400Z"
   },
   {
    "duration": 109,
    "start_time": "2024-08-15T00:43:44.165Z"
   },
   {
    "duration": 112,
    "start_time": "2024-08-15T00:43:44.278Z"
   },
   {
    "duration": 348,
    "start_time": "2024-08-15T00:43:44.394Z"
   },
   {
    "duration": 540,
    "start_time": "2024-08-15T00:43:47.267Z"
   },
   {
    "duration": 411,
    "start_time": "2024-08-15T00:43:48.204Z"
   },
   {
    "duration": 208,
    "start_time": "2024-08-15T00:43:49.557Z"
   },
   {
    "duration": 68,
    "start_time": "2024-08-15T00:45:29.728Z"
   },
   {
    "duration": 383,
    "start_time": "2024-08-15T00:45:31.380Z"
   },
   {
    "duration": 76,
    "start_time": "2024-08-15T00:52:03.280Z"
   },
   {
    "duration": 287,
    "start_time": "2024-08-15T00:52:11.183Z"
   },
   {
    "duration": 79,
    "start_time": "2024-08-15T00:59:13.418Z"
   },
   {
    "duration": 337,
    "start_time": "2024-08-15T00:59:30.184Z"
   },
   {
    "duration": 116,
    "start_time": "2024-08-15T01:00:38.691Z"
   },
   {
    "duration": 372,
    "start_time": "2024-08-15T01:01:01.426Z"
   },
   {
    "duration": 286,
    "start_time": "2024-08-15T01:01:14.996Z"
   },
   {
    "duration": 77,
    "start_time": "2024-08-15T01:01:26.053Z"
   },
   {
    "duration": 572,
    "start_time": "2024-08-15T01:02:01.910Z"
   },
   {
    "duration": 40,
    "start_time": "2024-08-15T01:02:33.124Z"
   },
   {
    "duration": 26,
    "start_time": "2024-08-15T01:06:01.310Z"
   },
   {
    "duration": 89,
    "start_time": "2024-08-15T01:07:04.207Z"
   },
   {
    "duration": 256,
    "start_time": "2024-08-15T01:08:00.139Z"
   },
   {
    "duration": 62,
    "start_time": "2024-08-15T01:15:58.918Z"
   },
   {
    "duration": 237,
    "start_time": "2024-08-15T01:16:25.471Z"
   },
   {
    "duration": 58,
    "start_time": "2024-08-15T01:17:24.381Z"
   },
   {
    "duration": 248,
    "start_time": "2024-08-15T01:17:32.978Z"
   },
   {
    "duration": 285,
    "start_time": "2024-08-15T01:17:49.083Z"
   },
   {
    "duration": 59,
    "start_time": "2024-08-15T01:17:57.440Z"
   },
   {
    "duration": 240,
    "start_time": "2024-08-15T01:18:01.918Z"
   },
   {
    "duration": 339,
    "start_time": "2024-08-15T01:26:34.670Z"
   },
   {
    "duration": 24,
    "start_time": "2024-08-15T01:33:34.889Z"
   },
   {
    "duration": 210,
    "start_time": "2024-08-15T01:33:48.529Z"
   },
   {
    "duration": 21,
    "start_time": "2024-08-15T01:34:10.764Z"
   },
   {
    "duration": 440,
    "start_time": "2024-08-15T01:34:21.022Z"
   },
   {
    "duration": 445,
    "start_time": "2024-08-15T01:34:30.436Z"
   },
   {
    "duration": 445,
    "start_time": "2024-08-15T01:34:45.150Z"
   },
   {
    "duration": 345,
    "start_time": "2024-08-15T01:34:52.072Z"
   },
   {
    "duration": 22,
    "start_time": "2024-08-15T01:41:33.870Z"
   },
   {
    "duration": 349,
    "start_time": "2024-08-15T01:41:40.960Z"
   },
   {
    "duration": 27,
    "start_time": "2024-08-15T01:47:34.865Z"
   },
   {
    "duration": 5731,
    "start_time": "2024-08-15T01:47:54.947Z"
   },
   {
    "duration": 357,
    "start_time": "2024-08-15T01:48:13.803Z"
   },
   {
    "duration": 56,
    "start_time": "2024-08-15T01:53:55.747Z"
   },
   {
    "duration": 5350,
    "start_time": "2024-08-15T13:38:58.404Z"
   },
   {
    "duration": 737,
    "start_time": "2024-08-15T13:39:03.758Z"
   },
   {
    "duration": 18,
    "start_time": "2024-08-15T13:39:04.500Z"
   },
   {
    "duration": 142,
    "start_time": "2024-08-15T13:39:04.524Z"
   },
   {
    "duration": 5,
    "start_time": "2024-08-15T13:39:04.669Z"
   },
   {
    "duration": 7,
    "start_time": "2024-08-15T13:39:04.677Z"
   },
   {
    "duration": 2758,
    "start_time": "2024-08-15T13:39:04.686Z"
   },
   {
    "duration": 36,
    "start_time": "2024-08-15T13:39:07.447Z"
   },
   {
    "duration": 94,
    "start_time": "2024-08-15T13:39:07.486Z"
   },
   {
    "duration": 329,
    "start_time": "2024-08-15T13:39:07.586Z"
   },
   {
    "duration": 504,
    "start_time": "2024-08-15T13:39:07.918Z"
   },
   {
    "duration": 365,
    "start_time": "2024-08-15T13:39:08.425Z"
   },
   {
    "duration": 199,
    "start_time": "2024-08-15T13:39:08.793Z"
   },
   {
    "duration": 74,
    "start_time": "2024-08-15T13:39:08.994Z"
   },
   {
    "duration": 291,
    "start_time": "2024-08-15T13:39:09.071Z"
   },
   {
    "duration": 71,
    "start_time": "2024-08-15T13:39:09.365Z"
   },
   {
    "duration": 290,
    "start_time": "2024-08-15T13:39:09.439Z"
   },
   {
    "duration": 58,
    "start_time": "2024-08-15T13:39:09.733Z"
   },
   {
    "duration": 270,
    "start_time": "2024-08-15T13:39:09.794Z"
   },
   {
    "duration": 68,
    "start_time": "2024-08-15T13:39:10.068Z"
   },
   {
    "duration": 261,
    "start_time": "2024-08-15T13:39:10.139Z"
   },
   {
    "duration": 48,
    "start_time": "2024-08-15T13:39:10.412Z"
   },
   {
    "duration": 45,
    "start_time": "2024-08-15T13:39:10.463Z"
   },
   {
    "duration": 364,
    "start_time": "2024-08-15T13:39:10.512Z"
   },
   {
    "duration": 35,
    "start_time": "2024-08-15T13:39:10.879Z"
   },
   {
    "duration": 438,
    "start_time": "2024-08-15T13:39:10.917Z"
   },
   {
    "duration": 23,
    "start_time": "2024-08-15T13:39:11.359Z"
   },
   {
    "duration": 372,
    "start_time": "2024-08-15T13:39:11.411Z"
   },
   {
    "duration": 31,
    "start_time": "2024-08-15T13:39:11.786Z"
   },
   {
    "duration": 387,
    "start_time": "2024-08-15T13:39:11.821Z"
   },
   {
    "duration": 58,
    "start_time": "2024-08-15T13:39:12.211Z"
   },
   {
    "duration": 43,
    "start_time": "2024-08-15T13:39:12.273Z"
   },
   {
    "duration": 229,
    "start_time": "2024-08-15T13:39:12.319Z"
   },
   {
    "duration": 17,
    "start_time": "2024-08-15T13:39:12.551Z"
   },
   {
    "duration": 76,
    "start_time": "2024-08-15T13:39:12.570Z"
   },
   {
    "duration": 643,
    "start_time": "2024-08-15T13:39:12.649Z"
   },
   {
    "duration": 66,
    "start_time": "2024-08-15T13:39:13.295Z"
   },
   {
    "duration": 17,
    "start_time": "2024-08-15T13:39:13.364Z"
   },
   {
    "duration": 222,
    "start_time": "2024-08-15T13:39:13.408Z"
   },
   {
    "duration": 17,
    "start_time": "2024-08-15T13:39:13.633Z"
   },
   {
    "duration": 230,
    "start_time": "2024-08-15T13:39:13.653Z"
   },
   {
    "duration": 655,
    "start_time": "2024-08-15T13:39:13.887Z"
   },
   {
    "duration": 723,
    "start_time": "2024-08-15T13:39:14.545Z"
   },
   {
    "duration": 623,
    "start_time": "2024-08-15T13:39:15.271Z"
   },
   {
    "duration": 22,
    "start_time": "2024-08-15T13:39:15.896Z"
   },
   {
    "duration": 203,
    "start_time": "2024-08-15T13:39:15.921Z"
   },
   {
    "duration": 17,
    "start_time": "2024-08-15T13:39:16.135Z"
   },
   {
    "duration": 207,
    "start_time": "2024-08-15T13:39:16.155Z"
   },
   {
    "duration": 17,
    "start_time": "2024-08-15T13:39:16.365Z"
   },
   {
    "duration": 208,
    "start_time": "2024-08-15T13:39:16.385Z"
   },
   {
    "duration": 21,
    "start_time": "2024-08-15T13:39:16.596Z"
   },
   {
    "duration": 23,
    "start_time": "2024-08-15T13:39:16.620Z"
   },
   {
    "duration": 108,
    "start_time": "2024-08-15T13:39:16.646Z"
   },
   {
    "duration": 99,
    "start_time": "2024-08-15T13:39:16.757Z"
   },
   {
    "duration": 11,
    "start_time": "2024-08-15T13:39:16.860Z"
   },
   {
    "duration": 41,
    "start_time": "2024-08-15T13:39:16.874Z"
   },
   {
    "duration": 17,
    "start_time": "2024-08-15T13:39:16.918Z"
   },
   {
    "duration": 13,
    "start_time": "2024-08-15T13:39:16.938Z"
   },
   {
    "duration": 11,
    "start_time": "2024-08-15T13:39:16.954Z"
   },
   {
    "duration": 11,
    "start_time": "2024-08-15T13:39:17.008Z"
   },
   {
    "duration": 13,
    "start_time": "2024-08-15T13:39:17.030Z"
   },
   {
    "duration": 21,
    "start_time": "2024-08-15T13:39:17.045Z"
   },
   {
    "duration": 39,
    "start_time": "2024-08-15T13:39:17.069Z"
   },
   {
    "duration": 6,
    "start_time": "2024-08-15T13:39:17.112Z"
   },
   {
    "duration": 7,
    "start_time": "2024-08-15T13:39:17.121Z"
   },
   {
    "duration": 39,
    "start_time": "2024-08-15T13:39:17.133Z"
   },
   {
    "duration": 40,
    "start_time": "2024-08-15T13:39:17.210Z"
   },
   {
    "duration": 1349,
    "start_time": "2024-08-15T13:39:17.253Z"
   },
   {
    "duration": 39,
    "start_time": "2024-08-15T13:39:18.609Z"
   },
   {
    "duration": 11,
    "start_time": "2024-08-15T13:39:18.651Z"
   },
   {
    "duration": 85,
    "start_time": "2024-08-15T13:39:18.666Z"
   },
   {
    "duration": 55,
    "start_time": "2024-08-15T13:39:18.754Z"
   },
   {
    "duration": 46,
    "start_time": "2024-08-15T13:39:18.812Z"
   },
   {
    "duration": 73,
    "start_time": "2024-08-15T13:39:18.862Z"
   },
   {
    "duration": 77,
    "start_time": "2024-08-15T13:39:18.938Z"
   },
   {
    "duration": 58,
    "start_time": "2024-08-15T13:39:19.018Z"
   },
   {
    "duration": 335,
    "start_time": "2024-08-15T13:39:19.079Z"
   },
   {
    "duration": 373,
    "start_time": "2024-08-15T13:39:19.417Z"
   },
   {
    "duration": 202,
    "start_time": "2024-08-15T13:39:19.793Z"
   },
   {
    "duration": 280,
    "start_time": "2024-08-15T13:39:19.998Z"
   },
   {
    "duration": 283,
    "start_time": "2024-08-15T13:39:20.282Z"
   },
   {
    "duration": 414,
    "start_time": "2024-08-15T13:39:20.568Z"
   },
   {
    "duration": 302,
    "start_time": "2024-08-15T13:39:20.985Z"
   },
   {
    "duration": 276,
    "start_time": "2024-08-15T13:39:21.290Z"
   },
   {
    "duration": 1297,
    "start_time": "2024-08-15T13:39:21.569Z"
   },
   {
    "duration": 13,
    "start_time": "2024-08-15T13:39:22.869Z"
   },
   {
    "duration": 185,
    "start_time": "2024-08-15T13:39:22.885Z"
   },
   {
    "duration": 91,
    "start_time": "2024-08-15T13:39:23.073Z"
   },
   {
    "duration": 79,
    "start_time": "2024-08-15T13:39:23.167Z"
   },
   {
    "duration": 11,
    "start_time": "2024-08-15T13:39:23.249Z"
   },
   {
    "duration": 6,
    "start_time": "2024-08-15T13:39:23.263Z"
   },
   {
    "duration": 39,
    "start_time": "2024-08-15T13:39:23.272Z"
   },
   {
    "duration": 142,
    "start_time": "2024-08-15T13:39:23.314Z"
   },
   {
    "duration": 204,
    "start_time": "2024-08-15T13:39:23.466Z"
   },
   {
    "duration": 5,
    "start_time": "2024-08-15T13:39:23.673Z"
   },
   {
    "duration": 196,
    "start_time": "2024-08-15T13:39:23.682Z"
   },
   {
    "duration": 56,
    "start_time": "2024-08-15T13:39:23.881Z"
   },
   {
    "duration": 5,
    "start_time": "2024-08-15T13:39:23.940Z"
   },
   {
    "duration": 6,
    "start_time": "2024-08-15T13:39:23.948Z"
   },
   {
    "duration": 3775,
    "start_time": "2024-08-15T13:39:23.957Z"
   },
   {
    "duration": 49,
    "start_time": "2024-08-15T13:39:27.735Z"
   },
   {
    "duration": 238,
    "start_time": "2024-08-15T13:39:27.786Z"
   },
   {
    "duration": 198,
    "start_time": "2024-08-15T13:39:28.028Z"
   },
   {
    "duration": 456,
    "start_time": "2024-08-15T13:39:28.230Z"
   },
   {
    "duration": 563,
    "start_time": "2024-08-15T13:39:28.689Z"
   },
   {
    "duration": 111,
    "start_time": "2024-08-15T13:39:29.255Z"
   },
   {
    "duration": 7,
    "start_time": "2024-08-15T13:39:29.369Z"
   },
   {
    "duration": 7,
    "start_time": "2024-08-15T13:39:29.379Z"
   },
   {
    "duration": 26,
    "start_time": "2024-08-15T13:42:12.561Z"
   },
   {
    "duration": 299,
    "start_time": "2024-08-15T13:42:20.062Z"
   },
   {
    "duration": 23,
    "start_time": "2024-08-15T13:50:21.092Z"
   },
   {
    "duration": 258,
    "start_time": "2024-08-15T13:50:27.899Z"
   },
   {
    "duration": 22,
    "start_time": "2024-08-15T13:50:39.696Z"
   },
   {
    "duration": 250,
    "start_time": "2024-08-15T13:50:44.964Z"
   },
   {
    "duration": 21,
    "start_time": "2024-08-15T13:56:48.006Z"
   },
   {
    "duration": 242,
    "start_time": "2024-08-15T13:56:56.766Z"
   },
   {
    "duration": 20,
    "start_time": "2024-08-15T14:02:41.103Z"
   },
   {
    "duration": 233,
    "start_time": "2024-08-15T14:03:06.294Z"
   },
   {
    "duration": 38,
    "start_time": "2024-08-15T14:07:32.317Z"
   },
   {
    "duration": 21,
    "start_time": "2024-08-15T14:10:51.214Z"
   },
   {
    "duration": 216,
    "start_time": "2024-08-15T14:10:58.449Z"
   },
   {
    "duration": 22,
    "start_time": "2024-08-15T14:17:06.388Z"
   },
   {
    "duration": 233,
    "start_time": "2024-08-15T14:17:17.617Z"
   },
   {
    "duration": 21,
    "start_time": "2024-08-15T14:22:09.957Z"
   },
   {
    "duration": 227,
    "start_time": "2024-08-15T14:22:16.727Z"
   },
   {
    "duration": 22,
    "start_time": "2024-08-15T14:26:52.846Z"
   },
   {
    "duration": 224,
    "start_time": "2024-08-15T14:27:22.903Z"
   },
   {
    "duration": 1214,
    "start_time": "2024-08-15T14:34:42.833Z"
   },
   {
    "duration": 39,
    "start_time": "2024-08-15T14:36:28.862Z"
   },
   {
    "duration": 19,
    "start_time": "2024-08-15T14:39:01.973Z"
   },
   {
    "duration": 160,
    "start_time": "2024-08-15T14:39:35.094Z"
   },
   {
    "duration": 18,
    "start_time": "2024-08-15T14:42:34.795Z"
   },
   {
    "duration": 16,
    "start_time": "2024-08-15T14:42:49.500Z"
   },
   {
    "duration": 15,
    "start_time": "2024-08-15T14:42:59.661Z"
   },
   {
    "duration": 99,
    "start_time": "2024-08-15T14:43:07.371Z"
   },
   {
    "duration": 72,
    "start_time": "2024-08-15T14:43:13.992Z"
   },
   {
    "duration": 32,
    "start_time": "2024-08-15T14:43:25.211Z"
   },
   {
    "duration": 12,
    "start_time": "2024-08-15T14:43:27.889Z"
   },
   {
    "duration": 37,
    "start_time": "2024-08-15T14:51:16.333Z"
   },
   {
    "duration": 5525,
    "start_time": "2024-08-15T16:37:48.064Z"
   },
   {
    "duration": 748,
    "start_time": "2024-08-15T16:37:53.593Z"
   },
   {
    "duration": 21,
    "start_time": "2024-08-15T16:37:54.344Z"
   },
   {
    "duration": 131,
    "start_time": "2024-08-15T16:37:54.370Z"
   },
   {
    "duration": 6,
    "start_time": "2024-08-15T16:37:54.504Z"
   },
   {
    "duration": 8,
    "start_time": "2024-08-15T16:37:54.513Z"
   },
   {
    "duration": 2825,
    "start_time": "2024-08-15T16:37:54.524Z"
   },
   {
    "duration": 115,
    "start_time": "2024-08-15T16:37:57.351Z"
   },
   {
    "duration": 98,
    "start_time": "2024-08-15T16:37:57.470Z"
   },
   {
    "duration": 339,
    "start_time": "2024-08-15T16:37:57.575Z"
   },
   {
    "duration": 513,
    "start_time": "2024-08-15T16:37:57.917Z"
   },
   {
    "duration": 378,
    "start_time": "2024-08-15T16:37:58.434Z"
   },
   {
    "duration": 207,
    "start_time": "2024-08-15T16:37:58.815Z"
   },
   {
    "duration": 92,
    "start_time": "2024-08-15T16:37:59.025Z"
   },
   {
    "duration": 287,
    "start_time": "2024-08-15T16:37:59.120Z"
   },
   {
    "duration": 59,
    "start_time": "2024-08-15T16:37:59.410Z"
   },
   {
    "duration": 314,
    "start_time": "2024-08-15T16:37:59.472Z"
   },
   {
    "duration": 59,
    "start_time": "2024-08-15T16:37:59.790Z"
   },
   {
    "duration": 280,
    "start_time": "2024-08-15T16:37:59.852Z"
   },
   {
    "duration": 80,
    "start_time": "2024-08-15T16:38:00.136Z"
   },
   {
    "duration": 253,
    "start_time": "2024-08-15T16:38:00.219Z"
   },
   {
    "duration": 57,
    "start_time": "2024-08-15T16:38:00.475Z"
   },
   {
    "duration": 24,
    "start_time": "2024-08-15T16:38:00.538Z"
   },
   {
    "duration": 406,
    "start_time": "2024-08-15T16:38:00.564Z"
   },
   {
    "duration": 39,
    "start_time": "2024-08-15T16:38:00.973Z"
   },
   {
    "duration": 360,
    "start_time": "2024-08-15T16:38:01.017Z"
   },
   {
    "duration": 37,
    "start_time": "2024-08-15T16:38:01.379Z"
   },
   {
    "duration": 389,
    "start_time": "2024-08-15T16:38:01.424Z"
   },
   {
    "duration": 25,
    "start_time": "2024-08-15T16:38:01.816Z"
   },
   {
    "duration": 393,
    "start_time": "2024-08-15T16:38:01.844Z"
   },
   {
    "duration": 74,
    "start_time": "2024-08-15T16:38:02.240Z"
   },
   {
    "duration": 24,
    "start_time": "2024-08-15T16:38:02.317Z"
   },
   {
    "duration": 282,
    "start_time": "2024-08-15T16:38:02.345Z"
   },
   {
    "duration": 22,
    "start_time": "2024-08-15T16:38:02.630Z"
   },
   {
    "duration": 393,
    "start_time": "2024-08-15T16:38:02.656Z"
   },
   {
    "duration": 22,
    "start_time": "2024-08-15T16:38:03.053Z"
   },
   {
    "duration": 285,
    "start_time": "2024-08-15T16:38:03.078Z"
   },
   {
    "duration": 38,
    "start_time": "2024-08-15T16:38:03.366Z"
   },
   {
    "duration": 253,
    "start_time": "2024-08-15T16:38:03.407Z"
   },
   {
    "duration": 55,
    "start_time": "2024-08-15T16:38:03.663Z"
   },
   {
    "duration": 23,
    "start_time": "2024-08-15T16:38:03.721Z"
   },
   {
    "duration": 244,
    "start_time": "2024-08-15T16:38:03.748Z"
   },
   {
    "duration": 25,
    "start_time": "2024-08-15T16:38:03.998Z"
   },
   {
    "duration": 264,
    "start_time": "2024-08-15T16:38:04.026Z"
   },
   {
    "duration": 22,
    "start_time": "2024-08-15T16:38:04.301Z"
   },
   {
    "duration": 260,
    "start_time": "2024-08-15T16:38:04.326Z"
   },
   {
    "duration": 32,
    "start_time": "2024-08-15T16:38:04.591Z"
   },
   {
    "duration": 257,
    "start_time": "2024-08-15T16:38:04.626Z"
   },
   {
    "duration": 22,
    "start_time": "2024-08-15T16:38:04.889Z"
   },
   {
    "duration": 88,
    "start_time": "2024-08-15T16:38:04.916Z"
   },
   {
    "duration": 22,
    "start_time": "2024-08-15T16:38:05.006Z"
   },
   {
    "duration": 108,
    "start_time": "2024-08-15T16:38:05.031Z"
   },
   {
    "duration": 115,
    "start_time": "2024-08-15T16:38:05.142Z"
   },
   {
    "duration": 14,
    "start_time": "2024-08-15T16:38:05.260Z"
   },
   {
    "duration": 37,
    "start_time": "2024-08-15T16:38:05.277Z"
   },
   {
    "duration": 17,
    "start_time": "2024-08-15T16:38:05.319Z"
   },
   {
    "duration": 705,
    "start_time": "2024-08-15T16:38:05.339Z"
   },
   {
    "duration": 764,
    "start_time": "2024-08-15T16:38:06.047Z"
   },
   {
    "duration": 797,
    "start_time": "2024-08-15T16:38:06.814Z"
   },
   {
    "duration": 8,
    "start_time": "2024-08-15T16:38:07.617Z"
   },
   {
    "duration": 8,
    "start_time": "2024-08-15T16:38:07.628Z"
   },
   {
    "duration": 6,
    "start_time": "2024-08-15T16:38:07.640Z"
   },
   {
    "duration": 54,
    "start_time": "2024-08-15T16:38:07.649Z"
   },
   {
    "duration": 40,
    "start_time": "2024-08-15T16:38:07.708Z"
   },
   {
    "duration": 66,
    "start_time": "2024-08-15T16:38:07.751Z"
   },
   {
    "duration": 39,
    "start_time": "2024-08-15T16:38:07.821Z"
   },
   {
    "duration": 1424,
    "start_time": "2024-08-15T16:38:07.863Z"
   },
   {
    "duration": 56,
    "start_time": "2024-08-15T16:38:09.291Z"
   },
   {
    "duration": 69,
    "start_time": "2024-08-15T16:38:09.353Z"
   },
   {
    "duration": 50,
    "start_time": "2024-08-15T16:38:09.425Z"
   },
   {
    "duration": 72,
    "start_time": "2024-08-15T16:38:09.480Z"
   },
   {
    "duration": 90,
    "start_time": "2024-08-15T16:38:09.555Z"
   },
   {
    "duration": 72,
    "start_time": "2024-08-15T16:38:09.649Z"
   },
   {
    "duration": 313,
    "start_time": "2024-08-15T16:38:09.725Z"
   },
   {
    "duration": 305,
    "start_time": "2024-08-15T16:38:10.042Z"
   },
   {
    "duration": 212,
    "start_time": "2024-08-15T16:38:10.350Z"
   },
   {
    "duration": 306,
    "start_time": "2024-08-15T16:38:10.569Z"
   },
   {
    "duration": 404,
    "start_time": "2024-08-15T16:38:10.878Z"
   },
   {
    "duration": 442,
    "start_time": "2024-08-15T16:38:11.286Z"
   },
   {
    "duration": 313,
    "start_time": "2024-08-15T16:38:11.731Z"
   },
   {
    "duration": 330,
    "start_time": "2024-08-15T16:38:12.051Z"
   },
   {
    "duration": 1331,
    "start_time": "2024-08-15T16:38:12.401Z"
   },
   {
    "duration": 14,
    "start_time": "2024-08-15T16:38:13.735Z"
   },
   {
    "duration": 177,
    "start_time": "2024-08-15T16:38:13.752Z"
   },
   {
    "duration": 114,
    "start_time": "2024-08-15T16:38:13.934Z"
   },
   {
    "duration": 84,
    "start_time": "2024-08-15T16:38:14.052Z"
   },
   {
    "duration": 13,
    "start_time": "2024-08-15T16:38:14.139Z"
   },
   {
    "duration": 7,
    "start_time": "2024-08-15T16:38:14.155Z"
   },
   {
    "duration": 40,
    "start_time": "2024-08-15T16:38:14.166Z"
   },
   {
    "duration": 50,
    "start_time": "2024-08-15T16:38:14.209Z"
   },
   {
    "duration": 249,
    "start_time": "2024-08-15T16:38:14.263Z"
   },
   {
    "duration": 5,
    "start_time": "2024-08-15T16:38:14.518Z"
   },
   {
    "duration": 201,
    "start_time": "2024-08-15T16:38:14.526Z"
   },
   {
    "duration": 49,
    "start_time": "2024-08-15T16:38:14.730Z"
   },
   {
    "duration": 24,
    "start_time": "2024-08-15T16:38:14.782Z"
   },
   {
    "duration": 6,
    "start_time": "2024-08-15T16:38:14.809Z"
   },
   {
    "duration": 3810,
    "start_time": "2024-08-15T16:38:14.818Z"
   },
   {
    "duration": 51,
    "start_time": "2024-08-15T16:38:18.631Z"
   },
   {
    "duration": 239,
    "start_time": "2024-08-15T16:38:18.701Z"
   },
   {
    "duration": 198,
    "start_time": "2024-08-15T16:38:18.943Z"
   },
   {
    "duration": 503,
    "start_time": "2024-08-15T16:38:19.149Z"
   },
   {
    "duration": 596,
    "start_time": "2024-08-15T16:38:19.656Z"
   },
   {
    "duration": 113,
    "start_time": "2024-08-15T16:38:20.255Z"
   },
   {
    "duration": 8,
    "start_time": "2024-08-15T16:38:20.371Z"
   },
   {
    "duration": 8,
    "start_time": "2024-08-15T16:38:20.401Z"
   },
   {
    "duration": 883,
    "start_time": "2024-08-15T16:39:23.630Z"
   },
   {
    "duration": 858,
    "start_time": "2024-08-15T16:39:35.857Z"
   },
   {
    "duration": 46,
    "start_time": "2024-08-15T16:56:04.968Z"
   },
   {
    "duration": 51,
    "start_time": "2024-08-15T16:57:47.281Z"
   },
   {
    "duration": 60,
    "start_time": "2024-08-15T17:00:07.414Z"
   },
   {
    "duration": 51,
    "start_time": "2024-08-15T17:01:12.212Z"
   },
   {
    "duration": 805,
    "start_time": "2024-08-15T17:01:26.089Z"
   },
   {
    "duration": 340,
    "start_time": "2024-08-15T17:01:33.689Z"
   },
   {
    "duration": 108,
    "start_time": "2024-08-15T17:01:55.907Z"
   },
   {
    "duration": 63,
    "start_time": "2024-08-15T17:02:13.696Z"
   },
   {
    "duration": 59,
    "start_time": "2024-08-15T17:08:47.229Z"
   },
   {
    "duration": 40,
    "start_time": "2024-08-15T17:10:49.010Z"
   },
   {
    "duration": 209,
    "start_time": "2024-08-15T17:12:57.505Z"
   },
   {
    "duration": 118,
    "start_time": "2024-08-15T17:15:00.397Z"
   },
   {
    "duration": 252,
    "start_time": "2024-08-15T17:50:13.876Z"
   },
   {
    "duration": 226,
    "start_time": "2024-08-15T17:50:23.385Z"
   },
   {
    "duration": 17,
    "start_time": "2024-08-15T18:07:42.654Z"
   },
   {
    "duration": 5381,
    "start_time": "2024-08-19T20:04:44.855Z"
   },
   {
    "duration": 759,
    "start_time": "2024-08-19T20:04:50.239Z"
   },
   {
    "duration": 24,
    "start_time": "2024-08-19T20:04:51.001Z"
   },
   {
    "duration": 118,
    "start_time": "2024-08-19T20:04:51.028Z"
   },
   {
    "duration": 5,
    "start_time": "2024-08-19T20:04:51.150Z"
   },
   {
    "duration": 8,
    "start_time": "2024-08-19T20:04:51.159Z"
   },
   {
    "duration": 2768,
    "start_time": "2024-08-19T20:04:51.171Z"
   },
   {
    "duration": 110,
    "start_time": "2024-08-19T20:04:53.943Z"
   },
   {
    "duration": 89,
    "start_time": "2024-08-19T20:04:54.056Z"
   },
   {
    "duration": 312,
    "start_time": "2024-08-19T20:04:54.152Z"
   },
   {
    "duration": 493,
    "start_time": "2024-08-19T20:04:54.467Z"
   },
   {
    "duration": 386,
    "start_time": "2024-08-19T20:04:54.963Z"
   },
   {
    "duration": 202,
    "start_time": "2024-08-19T20:04:55.352Z"
   },
   {
    "duration": 82,
    "start_time": "2024-08-19T20:04:55.557Z"
   },
   {
    "duration": 276,
    "start_time": "2024-08-19T20:04:55.644Z"
   },
   {
    "duration": 57,
    "start_time": "2024-08-19T20:04:55.924Z"
   },
   {
    "duration": 293,
    "start_time": "2024-08-19T20:04:55.984Z"
   },
   {
    "duration": 62,
    "start_time": "2024-08-19T20:04:56.281Z"
   },
   {
    "duration": 283,
    "start_time": "2024-08-19T20:04:56.346Z"
   },
   {
    "duration": 59,
    "start_time": "2024-08-19T20:04:56.632Z"
   },
   {
    "duration": 282,
    "start_time": "2024-08-19T20:04:56.711Z"
   },
   {
    "duration": 49,
    "start_time": "2024-08-19T20:04:56.998Z"
   },
   {
    "duration": 24,
    "start_time": "2024-08-19T20:04:57.050Z"
   },
   {
    "duration": 376,
    "start_time": "2024-08-19T20:04:57.077Z"
   },
   {
    "duration": 23,
    "start_time": "2024-08-19T20:04:57.456Z"
   },
   {
    "duration": 385,
    "start_time": "2024-08-19T20:04:57.483Z"
   },
   {
    "duration": 22,
    "start_time": "2024-08-19T20:04:57.871Z"
   },
   {
    "duration": 361,
    "start_time": "2024-08-19T20:04:57.918Z"
   },
   {
    "duration": 40,
    "start_time": "2024-08-19T20:04:58.282Z"
   },
   {
    "duration": 373,
    "start_time": "2024-08-19T20:04:58.325Z"
   },
   {
    "duration": 60,
    "start_time": "2024-08-19T20:04:58.702Z"
   },
   {
    "duration": 22,
    "start_time": "2024-08-19T20:04:58.764Z"
   },
   {
    "duration": 261,
    "start_time": "2024-08-19T20:04:58.812Z"
   },
   {
    "duration": 39,
    "start_time": "2024-08-19T20:04:59.076Z"
   },
   {
    "duration": 328,
    "start_time": "2024-08-19T20:04:59.118Z"
   },
   {
    "duration": 20,
    "start_time": "2024-08-19T20:04:59.449Z"
   },
   {
    "duration": 269,
    "start_time": "2024-08-19T20:04:59.472Z"
   },
   {
    "duration": 22,
    "start_time": "2024-08-19T20:04:59.744Z"
   },
   {
    "duration": 274,
    "start_time": "2024-08-19T20:04:59.769Z"
   },
   {
    "duration": 38,
    "start_time": "2024-08-19T20:05:00.047Z"
   },
   {
    "duration": 37,
    "start_time": "2024-08-19T20:05:00.088Z"
   },
   {
    "duration": 221,
    "start_time": "2024-08-19T20:05:00.129Z"
   },
   {
    "duration": 22,
    "start_time": "2024-08-19T20:05:00.353Z"
   },
   {
    "duration": 259,
    "start_time": "2024-08-19T20:05:00.378Z"
   },
   {
    "duration": 19,
    "start_time": "2024-08-19T20:05:00.644Z"
   },
   {
    "duration": 250,
    "start_time": "2024-08-19T20:05:00.666Z"
   },
   {
    "duration": 25,
    "start_time": "2024-08-19T20:05:00.920Z"
   },
   {
    "duration": 261,
    "start_time": "2024-08-19T20:05:00.951Z"
   },
   {
    "duration": 16,
    "start_time": "2024-08-19T20:05:01.215Z"
   },
   {
    "duration": 81,
    "start_time": "2024-08-19T20:05:01.234Z"
   },
   {
    "duration": 20,
    "start_time": "2024-08-19T20:05:01.319Z"
   },
   {
    "duration": 100,
    "start_time": "2024-08-19T20:05:01.342Z"
   },
   {
    "duration": 117,
    "start_time": "2024-08-19T20:05:01.446Z"
   },
   {
    "duration": 14,
    "start_time": "2024-08-19T20:05:01.569Z"
   },
   {
    "duration": 36,
    "start_time": "2024-08-19T20:05:01.586Z"
   },
   {
    "duration": 16,
    "start_time": "2024-08-19T20:05:01.625Z"
   },
   {
    "duration": 8,
    "start_time": "2024-08-19T20:05:01.644Z"
   },
   {
    "duration": 7,
    "start_time": "2024-08-19T20:05:01.657Z"
   },
   {
    "duration": 7,
    "start_time": "2024-08-19T20:05:02.273Z"
   },
   {
    "duration": 8,
    "start_time": "2024-08-19T20:05:02.537Z"
   },
   {
    "duration": 37,
    "start_time": "2024-08-19T20:05:03.151Z"
   },
   {
    "duration": 1317,
    "start_time": "2024-08-19T20:05:03.499Z"
   },
   {
    "duration": 157,
    "start_time": "2024-08-19T20:05:04.819Z"
   },
   {
    "duration": 7,
    "start_time": "2024-08-19T20:05:04.979Z"
   },
   {
    "duration": 8,
    "start_time": "2024-08-19T20:05:05.011Z"
   },
   {
    "duration": 218,
    "start_time": "2024-08-19T20:05:05.022Z"
   },
   {
    "duration": 5,
    "start_time": "2024-08-19T20:05:05.458Z"
   },
   {
    "duration": 169,
    "start_time": "2024-08-19T20:05:06.000Z"
   },
   {
    "duration": 62,
    "start_time": "2024-08-19T20:05:06.173Z"
   },
   {
    "duration": 6,
    "start_time": "2024-08-19T20:05:06.400Z"
   },
   {
    "duration": 4,
    "start_time": "2024-08-19T20:05:06.871Z"
   },
   {
    "duration": 3767,
    "start_time": "2024-08-19T20:05:07.294Z"
   },
   {
    "duration": 67,
    "start_time": "2024-08-19T20:05:11.065Z"
   },
   {
    "duration": 464,
    "start_time": "2024-08-19T20:05:11.136Z"
   },
   {
    "duration": 544,
    "start_time": "2024-08-19T20:05:11.612Z"
   },
   {
    "duration": 8,
    "start_time": "2024-08-19T20:05:12.160Z"
   },
   {
    "duration": 7,
    "start_time": "2024-08-19T20:05:12.172Z"
   },
   {
    "duration": 177,
    "start_time": "2024-08-19T20:06:37.721Z"
   },
   {
    "duration": 5,
    "start_time": "2024-08-19T20:10:30.205Z"
   },
   {
    "duration": 150,
    "start_time": "2024-08-19T20:10:33.817Z"
   },
   {
    "duration": 4,
    "start_time": "2024-08-19T20:10:50.373Z"
   },
   {
    "duration": 149,
    "start_time": "2024-08-19T20:10:51.295Z"
   },
   {
    "duration": 46,
    "start_time": "2024-08-19T20:10:58.477Z"
   },
   {
    "duration": 9,
    "start_time": "2024-08-19T20:10:59.487Z"
   },
   {
    "duration": 28,
    "start_time": "2024-08-19T20:12:47.679Z"
   },
   {
    "duration": 4,
    "start_time": "2024-08-19T20:19:37.520Z"
   },
   {
    "duration": 3697,
    "start_time": "2024-08-19T20:19:40.671Z"
   },
   {
    "duration": 50,
    "start_time": "2024-08-19T20:20:05.749Z"
   },
   {
    "duration": 15,
    "start_time": "2024-08-19T20:21:27.497Z"
   },
   {
    "duration": 18,
    "start_time": "2024-08-19T20:21:52.867Z"
   },
   {
    "duration": 13,
    "start_time": "2024-08-19T20:22:13.538Z"
   },
   {
    "duration": 439,
    "start_time": "2024-08-19T20:22:26.349Z"
   },
   {
    "duration": 664,
    "start_time": "2024-08-19T20:22:38.539Z"
   },
   {
    "duration": 9,
    "start_time": "2024-08-19T20:22:45.563Z"
   },
   {
    "duration": 20,
    "start_time": "2024-08-19T20:24:14.119Z"
   },
   {
    "duration": 7,
    "start_time": "2024-08-19T20:24:26.918Z"
   },
   {
    "duration": 640,
    "start_time": "2024-08-19T20:24:27.187Z"
   },
   {
    "duration": 14,
    "start_time": "2024-08-19T20:24:27.831Z"
   },
   {
    "duration": 117,
    "start_time": "2024-08-19T20:24:27.848Z"
   },
   {
    "duration": 4,
    "start_time": "2024-08-19T20:24:27.969Z"
   },
   {
    "duration": 6,
    "start_time": "2024-08-19T20:24:27.976Z"
   },
   {
    "duration": 2731,
    "start_time": "2024-08-19T20:24:28.221Z"
   },
   {
    "duration": 40,
    "start_time": "2024-08-19T20:24:30.956Z"
   },
   {
    "duration": 83,
    "start_time": "2024-08-19T20:24:30.999Z"
   },
   {
    "duration": 290,
    "start_time": "2024-08-19T20:24:31.087Z"
   },
   {
    "duration": 509,
    "start_time": "2024-08-19T20:24:31.380Z"
   },
   {
    "duration": 390,
    "start_time": "2024-08-19T20:24:31.891Z"
   },
   {
    "duration": 220,
    "start_time": "2024-08-19T20:24:32.284Z"
   },
   {
    "duration": 68,
    "start_time": "2024-08-19T20:24:32.513Z"
   },
   {
    "duration": 272,
    "start_time": "2024-08-19T20:24:32.584Z"
   },
   {
    "duration": 71,
    "start_time": "2024-08-19T20:24:32.861Z"
   },
   {
    "duration": 291,
    "start_time": "2024-08-19T20:24:32.936Z"
   },
   {
    "duration": 59,
    "start_time": "2024-08-19T20:24:33.229Z"
   },
   {
    "duration": 286,
    "start_time": "2024-08-19T20:24:33.291Z"
   },
   {
    "duration": 71,
    "start_time": "2024-08-19T20:24:33.579Z"
   },
   {
    "duration": 278,
    "start_time": "2024-08-19T20:24:33.653Z"
   },
   {
    "duration": 39,
    "start_time": "2024-08-19T20:24:33.935Z"
   },
   {
    "duration": 43,
    "start_time": "2024-08-19T20:24:33.977Z"
   },
   {
    "duration": 360,
    "start_time": "2024-08-19T20:24:34.023Z"
   },
   {
    "duration": 36,
    "start_time": "2024-08-19T20:24:34.387Z"
   },
   {
    "duration": 344,
    "start_time": "2024-08-19T20:24:34.425Z"
   },
   {
    "duration": 21,
    "start_time": "2024-08-19T20:24:34.773Z"
   },
   {
    "duration": 471,
    "start_time": "2024-08-19T20:24:34.813Z"
   },
   {
    "duration": 39,
    "start_time": "2024-08-19T20:24:35.288Z"
   },
   {
    "duration": 354,
    "start_time": "2024-08-19T20:24:35.366Z"
   },
   {
    "duration": 51,
    "start_time": "2024-08-19T20:24:35.736Z"
   },
   {
    "duration": 21,
    "start_time": "2024-08-19T20:24:36.145Z"
   },
   {
    "duration": 247,
    "start_time": "2024-08-19T20:24:36.392Z"
   },
   {
    "duration": 21,
    "start_time": "2024-08-19T20:24:36.700Z"
   },
   {
    "duration": 236,
    "start_time": "2024-08-19T20:24:36.856Z"
   },
   {
    "duration": 20,
    "start_time": "2024-08-19T20:24:37.245Z"
   },
   {
    "duration": 242,
    "start_time": "2024-08-19T20:24:37.424Z"
   },
   {
    "duration": 23,
    "start_time": "2024-08-19T20:24:38.013Z"
   },
   {
    "duration": 231,
    "start_time": "2024-08-19T20:24:38.221Z"
   },
   {
    "duration": 38,
    "start_time": "2024-08-19T20:24:38.669Z"
   },
   {
    "duration": 21,
    "start_time": "2024-08-19T20:24:39.014Z"
   },
   {
    "duration": 204,
    "start_time": "2024-08-19T20:24:39.148Z"
   },
   {
    "duration": 22,
    "start_time": "2024-08-19T20:24:39.585Z"
   },
   {
    "duration": 231,
    "start_time": "2024-08-19T20:24:39.804Z"
   },
   {
    "duration": 25,
    "start_time": "2024-08-19T20:24:40.312Z"
   },
   {
    "duration": 220,
    "start_time": "2024-08-19T20:24:40.501Z"
   },
   {
    "duration": 21,
    "start_time": "2024-08-19T20:24:40.904Z"
   },
   {
    "duration": 229,
    "start_time": "2024-08-19T20:24:41.065Z"
   },
   {
    "duration": 16,
    "start_time": "2024-08-19T20:24:41.529Z"
   },
   {
    "duration": 64,
    "start_time": "2024-08-19T20:24:41.749Z"
   },
   {
    "duration": 18,
    "start_time": "2024-08-19T20:24:41.904Z"
   },
   {
    "duration": 72,
    "start_time": "2024-08-19T20:24:42.137Z"
   },
   {
    "duration": 92,
    "start_time": "2024-08-19T20:24:42.357Z"
   },
   {
    "duration": 12,
    "start_time": "2024-08-19T20:24:42.535Z"
   },
   {
    "duration": 15,
    "start_time": "2024-08-19T20:24:42.735Z"
   },
   {
    "duration": 17,
    "start_time": "2024-08-19T20:24:42.903Z"
   },
   {
    "duration": 8,
    "start_time": "2024-08-19T20:24:43.612Z"
   },
   {
    "duration": 9,
    "start_time": "2024-08-19T20:24:44.113Z"
   },
   {
    "duration": 7,
    "start_time": "2024-08-19T20:24:44.467Z"
   },
   {
    "duration": 7,
    "start_time": "2024-08-19T20:24:44.653Z"
   },
   {
    "duration": 38,
    "start_time": "2024-08-19T20:24:44.999Z"
   },
   {
    "duration": 1303,
    "start_time": "2024-08-19T20:24:45.554Z"
   },
   {
    "duration": 156,
    "start_time": "2024-08-19T20:24:46.861Z"
   },
   {
    "duration": 6,
    "start_time": "2024-08-19T20:24:47.020Z"
   },
   {
    "duration": 7,
    "start_time": "2024-08-19T20:24:47.031Z"
   },
   {
    "duration": 193,
    "start_time": "2024-08-19T20:24:47.089Z"
   },
   {
    "duration": 202,
    "start_time": "2024-08-19T20:24:47.555Z"
   },
   {
    "duration": 8,
    "start_time": "2024-08-19T20:24:47.760Z"
   },
   {
    "duration": 164,
    "start_time": "2024-08-19T20:24:48.101Z"
   },
   {
    "duration": 48,
    "start_time": "2024-08-19T20:24:48.306Z"
   },
   {
    "duration": 7,
    "start_time": "2024-08-19T20:24:48.504Z"
   },
   {
    "duration": 28,
    "start_time": "2024-08-19T20:24:48.971Z"
   },
   {
    "duration": 5,
    "start_time": "2024-08-19T20:24:49.198Z"
   },
   {
    "duration": 13,
    "start_time": "2024-08-19T20:24:49.651Z"
   },
   {
    "duration": 9,
    "start_time": "2024-08-19T20:24:49.849Z"
   },
   {
    "duration": 401,
    "start_time": "2024-08-19T20:24:50.303Z"
   },
   {
    "duration": 468,
    "start_time": "2024-08-19T20:24:50.711Z"
   },
   {
    "duration": 6,
    "start_time": "2024-08-19T20:24:51.183Z"
   },
   {
    "duration": 7,
    "start_time": "2024-08-19T20:24:51.213Z"
   },
   {
    "duration": 19,
    "start_time": "2024-08-19T20:24:51.249Z"
   },
   {
    "duration": 188,
    "start_time": "2024-08-19T20:25:23.947Z"
   },
   {
    "duration": 175,
    "start_time": "2024-08-19T20:25:41.989Z"
   },
   {
    "duration": 5454,
    "start_time": "2024-08-19T20:26:24.148Z"
   },
   {
    "duration": 5551,
    "start_time": "2024-08-19T20:28:06.630Z"
   },
   {
    "duration": 195,
    "start_time": "2024-08-19T20:54:54.394Z"
   },
   {
    "duration": 192,
    "start_time": "2024-08-19T20:55:13.623Z"
   },
   {
    "duration": 8,
    "start_time": "2024-08-19T20:59:15.579Z"
   },
   {
    "duration": 5843,
    "start_time": "2024-08-21T20:29:49.132Z"
   },
   {
    "duration": 734,
    "start_time": "2024-08-21T20:29:54.981Z"
   },
   {
    "duration": 26,
    "start_time": "2024-08-21T20:29:55.718Z"
   },
   {
    "duration": 145,
    "start_time": "2024-08-21T20:29:55.749Z"
   },
   {
    "duration": 9,
    "start_time": "2024-08-21T20:29:55.897Z"
   },
   {
    "duration": 22,
    "start_time": "2024-08-21T20:29:55.910Z"
   },
   {
    "duration": 2852,
    "start_time": "2024-08-21T20:29:55.935Z"
   },
   {
    "duration": 49,
    "start_time": "2024-08-21T20:29:58.790Z"
   },
   {
    "duration": 89,
    "start_time": "2024-08-21T20:29:58.846Z"
   },
   {
    "duration": 333,
    "start_time": "2024-08-21T20:29:58.941Z"
   },
   {
    "duration": 556,
    "start_time": "2024-08-21T20:29:59.277Z"
   },
   {
    "duration": 375,
    "start_time": "2024-08-21T20:29:59.835Z"
   },
   {
    "duration": 221,
    "start_time": "2024-08-21T20:30:00.213Z"
   },
   {
    "duration": 114,
    "start_time": "2024-08-21T20:30:00.438Z"
   },
   {
    "duration": 312,
    "start_time": "2024-08-21T20:30:00.556Z"
   },
   {
    "duration": 90,
    "start_time": "2024-08-21T20:30:00.871Z"
   },
   {
    "duration": 306,
    "start_time": "2024-08-21T20:30:00.965Z"
   },
   {
    "duration": 59,
    "start_time": "2024-08-21T20:30:01.275Z"
   },
   {
    "duration": 295,
    "start_time": "2024-08-21T20:30:01.338Z"
   },
   {
    "duration": 72,
    "start_time": "2024-08-21T20:30:01.638Z"
   },
   {
    "duration": 287,
    "start_time": "2024-08-21T20:30:01.730Z"
   },
   {
    "duration": 52,
    "start_time": "2024-08-21T20:30:02.020Z"
   },
   {
    "duration": 24,
    "start_time": "2024-08-21T20:30:02.075Z"
   },
   {
    "duration": 418,
    "start_time": "2024-08-21T20:30:02.102Z"
   },
   {
    "duration": 26,
    "start_time": "2024-08-21T20:30:02.530Z"
   },
   {
    "duration": 401,
    "start_time": "2024-08-21T20:30:02.560Z"
   },
   {
    "duration": 24,
    "start_time": "2024-08-21T20:30:02.965Z"
   },
   {
    "duration": 407,
    "start_time": "2024-08-21T20:30:02.997Z"
   },
   {
    "duration": 42,
    "start_time": "2024-08-21T20:30:03.407Z"
   },
   {
    "duration": 494,
    "start_time": "2024-08-21T20:30:03.452Z"
   },
   {
    "duration": 60,
    "start_time": "2024-08-21T20:30:03.949Z"
   },
   {
    "duration": 43,
    "start_time": "2024-08-21T20:30:04.012Z"
   },
   {
    "duration": 290,
    "start_time": "2024-08-21T20:30:04.058Z"
   },
   {
    "duration": 27,
    "start_time": "2024-08-21T20:30:04.351Z"
   },
   {
    "duration": 260,
    "start_time": "2024-08-21T20:30:04.381Z"
   },
   {
    "duration": 26,
    "start_time": "2024-08-21T20:30:04.648Z"
   },
   {
    "duration": 279,
    "start_time": "2024-08-21T20:30:04.677Z"
   },
   {
    "duration": 28,
    "start_time": "2024-08-21T20:30:04.963Z"
   },
   {
    "duration": 256,
    "start_time": "2024-08-21T20:30:04.996Z"
   },
   {
    "duration": 39,
    "start_time": "2024-08-21T20:30:05.255Z"
   },
   {
    "duration": 44,
    "start_time": "2024-08-21T20:30:05.299Z"
   },
   {
    "duration": 225,
    "start_time": "2024-08-21T20:30:05.346Z"
   },
   {
    "duration": 21,
    "start_time": "2024-08-21T20:30:05.574Z"
   },
   {
    "duration": 287,
    "start_time": "2024-08-21T20:30:05.599Z"
   },
   {
    "duration": 41,
    "start_time": "2024-08-21T20:30:05.890Z"
   },
   {
    "duration": 273,
    "start_time": "2024-08-21T20:30:05.934Z"
   },
   {
    "duration": 34,
    "start_time": "2024-08-21T20:30:06.210Z"
   },
   {
    "duration": 243,
    "start_time": "2024-08-21T20:30:06.250Z"
   },
   {
    "duration": 30,
    "start_time": "2024-08-21T20:30:06.502Z"
   },
   {
    "duration": 63,
    "start_time": "2024-08-21T20:30:06.538Z"
   },
   {
    "duration": 40,
    "start_time": "2024-08-21T20:30:06.606Z"
   },
   {
    "duration": 117,
    "start_time": "2024-08-21T20:30:06.649Z"
   },
   {
    "duration": 133,
    "start_time": "2024-08-21T20:30:06.769Z"
   },
   {
    "duration": 27,
    "start_time": "2024-08-21T20:30:06.905Z"
   },
   {
    "duration": 17,
    "start_time": "2024-08-21T20:30:06.935Z"
   },
   {
    "duration": 18,
    "start_time": "2024-08-21T20:30:06.956Z"
   },
   {
    "duration": 9,
    "start_time": "2024-08-21T20:30:06.977Z"
   },
   {
    "duration": 48,
    "start_time": "2024-08-21T20:30:06.989Z"
   },
   {
    "duration": 8,
    "start_time": "2024-08-21T20:30:07.040Z"
   },
   {
    "duration": 8,
    "start_time": "2024-08-21T20:30:07.050Z"
   },
   {
    "duration": 81,
    "start_time": "2024-08-21T20:30:07.063Z"
   },
   {
    "duration": 1388,
    "start_time": "2024-08-21T20:30:07.147Z"
   },
   {
    "duration": 164,
    "start_time": "2024-08-21T20:30:08.538Z"
   },
   {
    "duration": 25,
    "start_time": "2024-08-21T20:30:08.705Z"
   },
   {
    "duration": 10,
    "start_time": "2024-08-21T20:30:08.734Z"
   },
   {
    "duration": 191,
    "start_time": "2024-08-21T20:30:08.843Z"
   },
   {
    "duration": 214,
    "start_time": "2024-08-21T20:30:09.378Z"
   },
   {
    "duration": 9,
    "start_time": "2024-08-21T20:30:10.029Z"
   },
   {
    "duration": 189,
    "start_time": "2024-08-21T20:30:10.404Z"
   },
   {
    "duration": 49,
    "start_time": "2024-08-21T20:30:10.618Z"
   },
   {
    "duration": 6,
    "start_time": "2024-08-21T20:30:10.825Z"
   },
   {
    "duration": 195,
    "start_time": "2024-08-21T20:30:11.087Z"
   },
   {
    "duration": 36,
    "start_time": "2024-08-21T20:30:11.575Z"
   },
   {
    "duration": 5,
    "start_time": "2024-08-21T20:30:12.112Z"
   },
   {
    "duration": 13,
    "start_time": "2024-08-21T20:30:12.213Z"
   },
   {
    "duration": 10,
    "start_time": "2024-08-21T20:30:12.417Z"
   },
   {
    "duration": 228,
    "start_time": "2024-08-21T20:30:12.619Z"
   },
   {
    "duration": 427,
    "start_time": "2024-08-21T20:30:13.188Z"
   },
   {
    "duration": 520,
    "start_time": "2024-08-21T20:30:13.619Z"
   },
   {
    "duration": 8,
    "start_time": "2024-08-21T20:30:14.143Z"
   },
   {
    "duration": 6,
    "start_time": "2024-08-21T20:30:14.196Z"
   },
   {
    "duration": 8,
    "start_time": "2024-08-21T20:30:55.849Z"
   },
   {
    "duration": 12,
    "start_time": "2024-08-21T20:31:01.576Z"
   },
   {
    "duration": 11,
    "start_time": "2024-08-21T20:31:36.477Z"
   },
   {
    "duration": 7,
    "start_time": "2024-08-21T20:33:20.933Z"
   },
   {
    "duration": 32,
    "start_time": "2024-08-21T20:33:50.509Z"
   },
   {
    "duration": 549,
    "start_time": "2024-08-21T20:34:56.461Z"
   },
   {
    "duration": 210,
    "start_time": "2024-08-21T20:35:19.508Z"
   },
   {
    "duration": 211,
    "start_time": "2024-08-21T20:36:21.280Z"
   },
   {
    "duration": 25,
    "start_time": "2024-08-21T20:36:54.178Z"
   },
   {
    "duration": 231,
    "start_time": "2024-08-21T20:39:59.004Z"
   },
   {
    "duration": 5,
    "start_time": "2024-08-21T20:44:18.762Z"
   },
   {
    "duration": 148,
    "start_time": "2024-08-21T20:44:56.379Z"
   },
   {
    "duration": 45,
    "start_time": "2024-08-21T20:44:57.619Z"
   },
   {
    "duration": 6,
    "start_time": "2024-08-21T20:44:59.028Z"
   },
   {
    "duration": 202,
    "start_time": "2024-08-21T20:45:00.319Z"
   },
   {
    "duration": 2212,
    "start_time": "2024-08-21T20:47:54.185Z"
   },
   {
    "duration": 269,
    "start_time": "2024-08-21T20:49:01.285Z"
   },
   {
    "duration": 199,
    "start_time": "2024-08-21T20:49:58.216Z"
   },
   {
    "duration": 6,
    "start_time": "2024-08-21T20:50:13.488Z"
   },
   {
    "duration": 627,
    "start_time": "2024-08-21T20:50:13.933Z"
   },
   {
    "duration": 14,
    "start_time": "2024-08-21T20:50:14.563Z"
   },
   {
    "duration": 125,
    "start_time": "2024-08-21T20:50:14.580Z"
   },
   {
    "duration": 5,
    "start_time": "2024-08-21T20:50:14.712Z"
   },
   {
    "duration": 7,
    "start_time": "2024-08-21T20:50:14.734Z"
   },
   {
    "duration": 2732,
    "start_time": "2024-08-21T20:50:14.748Z"
   },
   {
    "duration": 31,
    "start_time": "2024-08-21T20:50:17.483Z"
   },
   {
    "duration": 76,
    "start_time": "2024-08-21T20:50:17.530Z"
   },
   {
    "duration": 285,
    "start_time": "2024-08-21T20:50:17.610Z"
   },
   {
    "duration": 507,
    "start_time": "2024-08-21T20:50:17.898Z"
   },
   {
    "duration": 386,
    "start_time": "2024-08-21T20:50:18.408Z"
   },
   {
    "duration": 217,
    "start_time": "2024-08-21T20:50:18.798Z"
   },
   {
    "duration": 80,
    "start_time": "2024-08-21T20:50:19.020Z"
   },
   {
    "duration": 259,
    "start_time": "2024-08-21T20:50:19.103Z"
   },
   {
    "duration": 70,
    "start_time": "2024-08-21T20:50:19.367Z"
   },
   {
    "duration": 259,
    "start_time": "2024-08-21T20:50:19.440Z"
   },
   {
    "duration": 71,
    "start_time": "2024-08-21T20:50:19.702Z"
   },
   {
    "duration": 261,
    "start_time": "2024-08-21T20:50:19.775Z"
   },
   {
    "duration": 60,
    "start_time": "2024-08-21T20:50:20.039Z"
   },
   {
    "duration": 277,
    "start_time": "2024-08-21T20:50:20.106Z"
   },
   {
    "duration": 54,
    "start_time": "2024-08-21T20:50:20.389Z"
   },
   {
    "duration": 20,
    "start_time": "2024-08-21T20:50:20.446Z"
   },
   {
    "duration": 378,
    "start_time": "2024-08-21T20:50:20.470Z"
   },
   {
    "duration": 21,
    "start_time": "2024-08-21T20:50:20.852Z"
   },
   {
    "duration": 356,
    "start_time": "2024-08-21T20:50:20.878Z"
   },
   {
    "duration": 23,
    "start_time": "2024-08-21T20:50:21.237Z"
   },
   {
    "duration": 373,
    "start_time": "2024-08-21T20:50:21.263Z"
   },
   {
    "duration": 23,
    "start_time": "2024-08-21T20:50:21.640Z"
   },
   {
    "duration": 396,
    "start_time": "2024-08-21T20:50:21.666Z"
   },
   {
    "duration": 65,
    "start_time": "2024-08-21T20:50:22.065Z"
   },
   {
    "duration": 20,
    "start_time": "2024-08-21T20:50:22.400Z"
   },
   {
    "duration": 389,
    "start_time": "2024-08-21T20:50:22.561Z"
   },
   {
    "duration": 22,
    "start_time": "2024-08-21T20:50:22.965Z"
   },
   {
    "duration": 224,
    "start_time": "2024-08-21T20:50:23.100Z"
   },
   {
    "duration": 19,
    "start_time": "2024-08-21T20:50:23.448Z"
   },
   {
    "duration": 243,
    "start_time": "2024-08-21T20:50:23.717Z"
   },
   {
    "duration": 21,
    "start_time": "2024-08-21T20:50:24.071Z"
   },
   {
    "duration": 236,
    "start_time": "2024-08-21T20:50:24.408Z"
   },
   {
    "duration": 39,
    "start_time": "2024-08-21T20:50:24.648Z"
   },
   {
    "duration": 20,
    "start_time": "2024-08-21T20:50:24.980Z"
   },
   {
    "duration": 202,
    "start_time": "2024-08-21T20:50:25.194Z"
   },
   {
    "duration": 20,
    "start_time": "2024-08-21T20:50:25.618Z"
   },
   {
    "duration": 227,
    "start_time": "2024-08-21T20:50:25.711Z"
   },
   {
    "duration": 19,
    "start_time": "2024-08-21T20:50:26.093Z"
   },
   {
    "duration": 221,
    "start_time": "2024-08-21T20:50:26.318Z"
   },
   {
    "duration": 22,
    "start_time": "2024-08-21T20:50:26.847Z"
   },
   {
    "duration": 218,
    "start_time": "2024-08-21T20:50:26.872Z"
   },
   {
    "duration": 14,
    "start_time": "2024-08-21T20:50:27.421Z"
   },
   {
    "duration": 64,
    "start_time": "2024-08-21T20:50:27.468Z"
   },
   {
    "duration": 20,
    "start_time": "2024-08-21T20:50:27.652Z"
   },
   {
    "duration": 74,
    "start_time": "2024-08-21T20:50:27.795Z"
   },
   {
    "duration": 93,
    "start_time": "2024-08-21T20:50:28.045Z"
   },
   {
    "duration": 11,
    "start_time": "2024-08-21T20:50:28.149Z"
   },
   {
    "duration": 14,
    "start_time": "2024-08-21T20:50:28.335Z"
   },
   {
    "duration": 16,
    "start_time": "2024-08-21T20:50:28.537Z"
   },
   {
    "duration": 7,
    "start_time": "2024-08-21T20:50:28.931Z"
   },
   {
    "duration": 7,
    "start_time": "2024-08-21T20:50:29.143Z"
   },
   {
    "duration": 6,
    "start_time": "2024-08-21T20:50:29.512Z"
   },
   {
    "duration": 7,
    "start_time": "2024-08-21T20:50:29.682Z"
   },
   {
    "duration": 38,
    "start_time": "2024-08-21T20:50:30.280Z"
   },
   {
    "duration": 1349,
    "start_time": "2024-08-21T20:50:30.667Z"
   },
   {
    "duration": 168,
    "start_time": "2024-08-21T20:50:32.019Z"
   },
   {
    "duration": 6,
    "start_time": "2024-08-21T20:50:32.190Z"
   },
   {
    "duration": 46,
    "start_time": "2024-08-21T20:50:32.201Z"
   },
   {
    "duration": 6,
    "start_time": "2024-08-21T20:50:32.252Z"
   },
   {
    "duration": 8,
    "start_time": "2024-08-21T20:50:32.812Z"
   },
   {
    "duration": 185,
    "start_time": "2024-08-21T20:50:33.497Z"
   },
   {
    "duration": 214,
    "start_time": "2024-08-21T20:50:37.558Z"
   },
   {
    "duration": 213,
    "start_time": "2024-08-21T20:50:39.934Z"
   },
   {
    "duration": 222,
    "start_time": "2024-08-21T20:52:18.311Z"
   },
   {
    "duration": 55,
    "start_time": "2024-08-21T20:53:08.047Z"
   },
   {
    "duration": 22,
    "start_time": "2024-08-21T20:53:52.142Z"
   },
   {
    "duration": 57,
    "start_time": "2024-08-21T20:54:55.217Z"
   },
   {
    "duration": 19,
    "start_time": "2024-08-21T20:55:04.595Z"
   },
   {
    "duration": 6,
    "start_time": "2024-08-21T20:55:21.942Z"
   },
   {
    "duration": 655,
    "start_time": "2024-08-21T20:55:22.334Z"
   },
   {
    "duration": 14,
    "start_time": "2024-08-21T20:55:22.993Z"
   },
   {
    "duration": 121,
    "start_time": "2024-08-21T20:55:23.011Z"
   },
   {
    "duration": 5,
    "start_time": "2024-08-21T20:55:23.135Z"
   },
   {
    "duration": 6,
    "start_time": "2024-08-21T20:55:23.190Z"
   },
   {
    "duration": 2749,
    "start_time": "2024-08-21T20:55:23.327Z"
   },
   {
    "duration": 31,
    "start_time": "2024-08-21T20:55:26.080Z"
   },
   {
    "duration": 88,
    "start_time": "2024-08-21T20:55:26.114Z"
   },
   {
    "duration": 288,
    "start_time": "2024-08-21T20:55:26.207Z"
   },
   {
    "duration": 521,
    "start_time": "2024-08-21T20:55:26.499Z"
   },
   {
    "duration": 366,
    "start_time": "2024-08-21T20:55:27.023Z"
   },
   {
    "duration": 212,
    "start_time": "2024-08-21T20:55:27.392Z"
   },
   {
    "duration": 83,
    "start_time": "2024-08-21T20:55:27.607Z"
   },
   {
    "duration": 269,
    "start_time": "2024-08-21T20:55:27.694Z"
   },
   {
    "duration": 82,
    "start_time": "2024-08-21T20:55:27.966Z"
   },
   {
    "duration": 274,
    "start_time": "2024-08-21T20:55:28.051Z"
   },
   {
    "duration": 70,
    "start_time": "2024-08-21T20:55:28.331Z"
   },
   {
    "duration": 279,
    "start_time": "2024-08-21T20:55:28.404Z"
   },
   {
    "duration": 73,
    "start_time": "2024-08-21T20:55:28.688Z"
   },
   {
    "duration": 281,
    "start_time": "2024-08-21T20:55:28.764Z"
   },
   {
    "duration": 40,
    "start_time": "2024-08-21T20:55:29.049Z"
   },
   {
    "duration": 46,
    "start_time": "2024-08-21T20:55:29.092Z"
   },
   {
    "duration": 356,
    "start_time": "2024-08-21T20:55:29.141Z"
   },
   {
    "duration": 31,
    "start_time": "2024-08-21T20:55:29.501Z"
   },
   {
    "duration": 361,
    "start_time": "2024-08-21T20:55:29.608Z"
   },
   {
    "duration": 20,
    "start_time": "2024-08-21T20:55:29.975Z"
   },
   {
    "duration": 352,
    "start_time": "2024-08-21T20:55:30.158Z"
   },
   {
    "duration": 23,
    "start_time": "2024-08-21T20:55:30.519Z"
   },
   {
    "duration": 350,
    "start_time": "2024-08-21T20:55:30.656Z"
   },
   {
    "duration": 54,
    "start_time": "2024-08-21T20:55:31.029Z"
   },
   {
    "duration": 22,
    "start_time": "2024-08-21T20:55:31.332Z"
   },
   {
    "duration": 255,
    "start_time": "2024-08-21T20:55:31.551Z"
   },
   {
    "duration": 22,
    "start_time": "2024-08-21T20:55:31.921Z"
   },
   {
    "duration": 267,
    "start_time": "2024-08-21T20:55:32.101Z"
   },
   {
    "duration": 21,
    "start_time": "2024-08-21T20:55:32.507Z"
   },
   {
    "duration": 242,
    "start_time": "2024-08-21T20:55:32.712Z"
   },
   {
    "duration": 20,
    "start_time": "2024-08-21T20:55:33.186Z"
   },
   {
    "duration": 238,
    "start_time": "2024-08-21T20:55:33.379Z"
   },
   {
    "duration": 37,
    "start_time": "2024-08-21T20:55:33.736Z"
   },
   {
    "duration": 21,
    "start_time": "2024-08-21T20:55:34.128Z"
   },
   {
    "duration": 410,
    "start_time": "2024-08-21T20:55:34.308Z"
   },
   {
    "duration": 21,
    "start_time": "2024-08-21T20:55:34.728Z"
   },
   {
    "duration": 229,
    "start_time": "2024-08-21T20:55:34.950Z"
   },
   {
    "duration": 20,
    "start_time": "2024-08-21T20:55:35.315Z"
   },
   {
    "duration": 256,
    "start_time": "2024-08-21T20:55:35.535Z"
   },
   {
    "duration": 22,
    "start_time": "2024-08-21T20:55:35.835Z"
   },
   {
    "duration": 219,
    "start_time": "2024-08-21T20:55:36.141Z"
   },
   {
    "duration": 15,
    "start_time": "2024-08-21T20:55:36.449Z"
   },
   {
    "duration": 78,
    "start_time": "2024-08-21T20:55:36.595Z"
   },
   {
    "duration": 17,
    "start_time": "2024-08-21T20:55:36.796Z"
   },
   {
    "duration": 75,
    "start_time": "2024-08-21T20:55:37.025Z"
   },
   {
    "duration": 95,
    "start_time": "2024-08-21T20:55:37.218Z"
   },
   {
    "duration": 13,
    "start_time": "2024-08-21T20:55:37.413Z"
   },
   {
    "duration": 14,
    "start_time": "2024-08-21T20:55:37.600Z"
   },
   {
    "duration": 16,
    "start_time": "2024-08-21T20:55:37.775Z"
   },
   {
    "duration": 8,
    "start_time": "2024-08-21T20:55:38.146Z"
   },
   {
    "duration": 8,
    "start_time": "2024-08-21T20:55:38.375Z"
   },
   {
    "duration": 7,
    "start_time": "2024-08-21T20:55:38.783Z"
   },
   {
    "duration": 6,
    "start_time": "2024-08-21T20:55:39.039Z"
   },
   {
    "duration": 37,
    "start_time": "2024-08-21T20:55:39.560Z"
   },
   {
    "duration": 1411,
    "start_time": "2024-08-21T20:55:39.967Z"
   },
   {
    "duration": 185,
    "start_time": "2024-08-21T20:55:41.382Z"
   },
   {
    "duration": 6,
    "start_time": "2024-08-21T20:55:41.570Z"
   },
   {
    "duration": 24,
    "start_time": "2024-08-21T20:55:41.580Z"
   },
   {
    "duration": 7,
    "start_time": "2024-08-21T20:55:41.631Z"
   },
   {
    "duration": 8,
    "start_time": "2024-08-21T20:55:41.674Z"
   },
   {
    "duration": 195,
    "start_time": "2024-08-21T20:55:42.092Z"
   },
   {
    "duration": 217,
    "start_time": "2024-08-21T20:55:42.825Z"
   },
   {
    "duration": 57,
    "start_time": "2024-08-21T20:55:43.318Z"
   },
   {
    "duration": 18,
    "start_time": "2024-08-21T20:55:43.448Z"
   },
   {
    "duration": 5,
    "start_time": "2024-08-21T20:55:43.671Z"
   },
   {
    "duration": 247,
    "start_time": "2024-08-21T20:55:44.140Z"
   },
   {
    "duration": 0,
    "start_time": "2024-08-21T20:55:44.389Z"
   },
   {
    "duration": 6,
    "start_time": "2024-08-21T20:55:44.633Z"
   },
   {
    "duration": 186,
    "start_time": "2024-08-21T20:55:44.907Z"
   },
   {
    "duration": 5,
    "start_time": "2024-08-21T20:56:27.217Z"
   },
   {
    "duration": 178,
    "start_time": "2024-08-21T20:57:15.354Z"
   },
   {
    "duration": 4,
    "start_time": "2024-08-21T20:57:17.161Z"
   },
   {
    "duration": 67,
    "start_time": "2024-08-21T20:57:18.694Z"
   },
   {
    "duration": 76,
    "start_time": "2024-08-21T20:57:30.025Z"
   },
   {
    "duration": 74,
    "start_time": "2024-08-21T20:57:54.568Z"
   },
   {
    "duration": 76,
    "start_time": "2024-08-21T20:58:02.040Z"
   },
   {
    "duration": 5,
    "start_time": "2024-08-21T20:58:32.906Z"
   },
   {
    "duration": 249,
    "start_time": "2024-08-21T20:58:34.328Z"
   },
   {
    "duration": 46,
    "start_time": "2024-08-21T20:58:37.606Z"
   },
   {
    "duration": 6,
    "start_time": "2024-08-21T20:58:39.181Z"
   },
   {
    "duration": 210,
    "start_time": "2024-08-21T20:58:41.697Z"
   },
   {
    "duration": 5,
    "start_time": "2024-08-21T21:01:48.277Z"
   },
   {
    "duration": 211,
    "start_time": "2024-08-21T21:01:49.626Z"
   },
   {
    "duration": 47,
    "start_time": "2024-08-21T21:01:50.869Z"
   },
   {
    "duration": 6,
    "start_time": "2024-08-21T21:01:51.384Z"
   },
   {
    "duration": 48,
    "start_time": "2024-08-21T21:02:30.391Z"
   },
   {
    "duration": 7,
    "start_time": "2024-08-21T21:02:31.543Z"
   },
   {
    "duration": 45,
    "start_time": "2024-08-21T21:02:51.261Z"
   },
   {
    "duration": 5,
    "start_time": "2024-08-21T21:02:51.579Z"
   },
   {
    "duration": 177,
    "start_time": "2024-08-21T21:02:55.368Z"
   },
   {
    "duration": 142,
    "start_time": "2024-08-21T21:06:21.015Z"
   },
   {
    "duration": 23,
    "start_time": "2024-08-21T21:06:59.541Z"
   },
   {
    "duration": 4,
    "start_time": "2024-08-21T21:08:46.077Z"
   },
   {
    "duration": 175,
    "start_time": "2024-08-21T21:08:47.676Z"
   },
   {
    "duration": 47,
    "start_time": "2024-08-21T21:08:49.435Z"
   },
   {
    "duration": 6,
    "start_time": "2024-08-21T21:08:50.082Z"
   },
   {
    "duration": 189,
    "start_time": "2024-08-21T21:08:52.251Z"
   },
   {
    "duration": 10,
    "start_time": "2024-08-21T21:22:07.971Z"
   },
   {
    "duration": 5,
    "start_time": "2024-08-21T21:22:41.252Z"
   },
   {
    "duration": 15,
    "start_time": "2024-08-21T21:22:42.169Z"
   },
   {
    "duration": 10,
    "start_time": "2024-08-21T21:22:43.000Z"
   },
   {
    "duration": 198,
    "start_time": "2024-08-21T21:22:43.627Z"
   },
   {
    "duration": 34,
    "start_time": "2024-08-21T21:36:20.388Z"
   },
   {
    "duration": 5,
    "start_time": "2024-08-21T21:37:20.808Z"
   },
   {
    "duration": 464,
    "start_time": "2024-08-21T21:37:21.754Z"
   },
   {
    "duration": 178,
    "start_time": "2024-08-21T21:38:19.038Z"
   },
   {
    "duration": 156,
    "start_time": "2024-08-21T21:38:34.863Z"
   },
   {
    "duration": 66,
    "start_time": "2024-08-21T21:39:18.354Z"
   },
   {
    "duration": 64,
    "start_time": "2024-08-21T21:39:25.847Z"
   },
   {
    "duration": 237,
    "start_time": "2024-08-21T21:39:52.044Z"
   }
  ],
  "kernelspec": {
   "display_name": "Python 3 (ipykernel)",
   "language": "python",
   "name": "python3"
  },
  "language_info": {
   "codemirror_mode": {
    "name": "ipython",
    "version": 3
   },
   "file_extension": ".py",
   "mimetype": "text/x-python",
   "name": "python",
   "nbconvert_exporter": "python",
   "pygments_lexer": "ipython3",
   "version": "3.11.5"
  },
  "toc": {
   "base_numbering": 1,
   "nav_menu": {},
   "number_sections": true,
   "sideBar": true,
   "skip_h1_title": true,
   "title_cell": "Table of Contents",
   "title_sidebar": "Contents",
   "toc_cell": false,
   "toc_position": {},
   "toc_section_display": true,
   "toc_window_display": false
  }
 },
 "nbformat": 4,
 "nbformat_minor": 2
}
