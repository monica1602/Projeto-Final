{
 "cells": [
  {
   "cell_type": "markdown",
   "metadata": {},
   "source": [
    "Olá Mônica. Sou Anilton e vou avaliar seu projeto. Primeiramente, queria te parabenizar por chegar até aqui. \n",
    "\n",
    "<div class=\"alert alert-block alert-success\">\n",
    "<b>Comentário do Tutor</b> <a class=\"tocSkip\"></a>\n",
    "    \n",
    "- Gostei muito da sua decomposição. Está muito bem escrita. \n",
    "- Gostei que já balizou a decomposição nos dados reais e problemáticas que se encontram neles.\n",
    "- Gostei que definiu o público alvo da análise.\n",
    "- Só tome cuidado em realizar uma segmentação e avaliá-la. Os segmentos gerados devem ser bem interpretáveis em termos do negócio.\n",
    "</div>"
   ]
  },
  {
   "cell_type": "markdown",
   "metadata": {},
   "source": [
    "# Como decompor uma tarefa"
   ]
  },
  {
   "cell_type": "markdown",
   "metadata": {},
   "source": [
    "## O que você quer alcançar e por quê?"
   ]
  },
  {
   "cell_type": "markdown",
   "metadata": {},
   "source": [
    "O que queremos alcançar é uma estabilidade entre os valores dos preços por item e da sua real quantidade. Com isso, tentar entender realmente a situação financeira da empresa, para com isso, conseguir saber o que é necessário mudar e o que não pe necessário. Isso é necessário para que as análises sejam feitas de maneira correta, sem que dados incorretos atrapalhem os resultados ou que tenhamos resultados errados. Para isso é necessário entender: o motivo dos valores negativos nas colunas de preço e de quantidade, o motivo de tantos dos valores ausentes na coluna de identificação dos clientes e a realidade dos preços. "
   ]
  },
  {
   "cell_type": "markdown",
   "metadata": {},
   "source": [
    "## Quem se interessa pelo que você produz?"
   ]
  },
  {
   "cell_type": "markdown",
   "metadata": {},
   "source": [
    "- area de vendas, entender a quantidade real\n",
    "- area financeira, entender a real situação financeira\n",
    "- gerentes/chefes, entender a real situação da empresa\n",
    "- analistas de dados, entender o motivo dos dados desenvontrados (valores negativos)"
   ]
  },
  {
   "cell_type": "markdown",
   "metadata": {},
   "source": [
    "## Quais decisões serão baseadas nas suas análises?"
   ]
  },
  {
   "cell_type": "markdown",
   "metadata": {},
   "source": [
    "- mudar o sistema para colocar informações sobre preço, quantidadee identificador do cliente\n",
    "- camapnhas de marketing focadas nso clientes que não compram a mais tempo\n",
    "- mudanças de valores nos preços do item, depois de entender os valores reais"
   ]
  },
  {
   "cell_type": "markdown",
   "metadata": {},
   "source": [
    "# Detalhes específicos"
   ]
  },
  {
   "cell_type": "markdown",
   "metadata": {},
   "source": [
    "Para calcular a probabilidade do cliente sair é preciso analisar a quantidade de pedidos efetuadas, quanfo foi efetuada a primeira e a última compra. Se o cliente não efetuou muitas compras e já faz um tempo que não compra, existe a probabildiade dele não voltar mais. É necessário saber qual é a frequência de compra e se algo mudou nos últimos tempos, saber se o comportamento mudou."
   ]
  },
  {
   "cell_type": "markdown",
   "metadata": {},
   "source": [
    "# Propondo hipóteses"
   ]
  },
  {
   "cell_type": "markdown",
   "metadata": {},
   "source": [
    "1 - Calcular a média de quantidade vendida e comparar com a quantidade de cada customerid\n",
    "2 - Clacular a média de preço que cada customerid gasta e comparar com a média geral\n",
    "3 - Descobrir a data da última compra e identificar o motivo do tempo\n",
    "4 - Se o número do customerid (antigos) tem relação coma última compra\n",
    "5 - Se a quantidade comprada do customerid (menores) tem relação com a última compra"
   ]
  },
  {
   "cell_type": "markdown",
   "metadata": {},
   "source": [
    "# Transformando hipóteses em um plano de ação claro"
   ]
  },
  {
   "cell_type": "markdown",
   "metadata": {},
   "source": [
    "- o aumento da receita de cada customerid mostra que ele continua comprando e se isso acontece, a probabilidade dele sair é menor\n",
    "- valores dos preços podem influenciar se o cliente vai ficar ou não\n",
    "- quanto mais tempo sem comprar, maior a chance dele sair ou já ter saído\n",
    "- os clientes foram divididos (em relação a quantidade):\n",
    "    - negativo, quantidade com valor negativo (entender o motivo)\n",
    "    - pouco, quantidade inferior a 500\n",
    "    - médio, quantidade entre 500 e 1000\n",
    "    - alto, quantidade entre 1000 e 2000\n",
    "    - muito alto, quantidade entre 2000 e 3000\n",
    "    - forte, quantidade entre 3000 e 4000\n",
    "    - maravilhoso, quantidade acima de 4000\n",
    "- os clientes foram divididos (em relação a data da última compra):\n",
    "    - antigo, até 2018-12-31\n",
    "    - medio, até 2019-6-30\n",
    "    - atual, demais datas "
   ]
  },
  {
   "cell_type": "markdown",
   "metadata": {},
   "source": [
    "# Adicione etapas obrigatórias de análise"
   ]
  },
  {
   "cell_type": "markdown",
   "metadata": {},
   "source": [
    "Foi feito um pré-processamento de dados e uma análise exploratória dos dados. Neles foram obtidos diversas informações, como a existência de valores negativos nas colunas quantidade e preço; quando foram feitas as primeiras e últimas compras de cada cliente; a média de quantidade, a média de preço; o periódo do ano, mês, dia e hora que ocorrem mais vendas; dos clientes em relação a quantidade e a data da última compra, entre outros."
   ]
  },
  {
   "cell_type": "markdown",
   "metadata": {},
   "source": [
    "# Decomponha no futuro, se necessário"
   ]
  },
  {
   "cell_type": "markdown",
   "metadata": {},
   "source": [
    "- existem valores ausentes nas colunas invoiceno, descriptione customerid\n",
    "- estudando as três colunas, é possível entender que a coluna invoiceno pode ser identidicado comas informações nas demais colunas; a coluna description também pode ser identificado através do invoiceno; porém a coluna customerid não é possível saber qual é a identificação do cliente que efetuou a compra. Principalmente a coluna customerid não pode ser preenchida por não sabermos se é um cliente antigo ou novo e como são muitas linhas não é interessante exclui-las\n",
    "- existem valores duplicados\n",
    "- eles foram removidos \n",
    "- os resultados não mudaram muito, mostrando que a remoção não alterou muito o resultado final\n",
    "- com isso a coluna description não tem mais valores ausentes"
   ]
  },
  {
   "cell_type": "markdown",
   "metadata": {},
   "source": [
    "\"C:\\Users\\Usuario\\Downloads\\Untitled24 (1).ipynb\""
   ]
  },
  {
   "cell_type": "code",
   "execution_count": null,
   "metadata": {},
   "outputs": [],
   "source": []
  }
 ],
 "metadata": {
  "kernelspec": {
   "display_name": "Python 3 (ipykernel)",
   "language": "python",
   "name": "python3"
  },
  "language_info": {
   "codemirror_mode": {
    "name": "ipython",
    "version": 3
   },
   "file_extension": ".py",
   "mimetype": "text/x-python",
   "name": "python",
   "nbconvert_exporter": "python",
   "pygments_lexer": "ipython3",
   "version": "3.11.5"
  },
  "toc": {
   "base_numbering": 1,
   "nav_menu": {},
   "number_sections": true,
   "sideBar": true,
   "skip_h1_title": true,
   "title_cell": "Table of Contents",
   "title_sidebar": "Contents",
   "toc_cell": false,
   "toc_position": {},
   "toc_section_display": true,
   "toc_window_display": false
  }
 },
 "nbformat": 4,
 "nbformat_minor": 2
}
